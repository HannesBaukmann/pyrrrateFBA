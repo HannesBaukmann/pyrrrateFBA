{
 "cells": [
  {
   "cell_type": "code",
   "execution_count": 17,
   "metadata": {},
   "outputs": [],
   "source": [
    "import pandas as pd\n",
    "import numpy as np\n",
    "import re"
   ]
  },
  {
   "cell_type": "markdown",
   "metadata": {},
   "source": [
    "# Read original rFBA model\n",
    "\n",
    "PDF file needs to be parsed manually...\n",
    "\n",
    "(in order to be in accordance with the syntax of 'id' attribute values of the SBML type 'SId' (Reference: L3V2 Section 3.1.7), the metabolites 13PDG, 2PG, and 3PG were renamed to PDG13, PG2, and PG3, respectively.)"
   ]
  },
  {
   "cell_type": "code",
   "execution_count": 18,
   "metadata": {},
   "outputs": [],
   "source": [
    "#import PyPDF2\n",
    "#pdfFileObj = open('Covert2002/SI.pdf', 'rb')\n",
    "#pdfReader = PyPDF2.PdfFileReader(pdfFileObj)\n",
    "#pageObj = pdfReader.getPage(3)\n",
    "#pageObj.extractText()"
   ]
  },
  {
   "cell_type": "code",
   "execution_count": 65,
   "metadata": {},
   "outputs": [],
   "source": [
    "# reactions\n",
    "SI1 = pd.read_csv('SI-1.tsv', sep='\\t')"
   ]
  },
  {
   "cell_type": "code",
   "execution_count": 66,
   "metadata": {
    "scrolled": false
   },
   "outputs": [],
   "source": [
    "# metabolites\n",
    "SI2 = pd.read_csv('SI-2.tsv', sep='\\t')\n",
    "SI2 = SI2.sort_values(by=['id'])"
   ]
  },
  {
   "cell_type": "markdown",
   "metadata": {},
   "source": [
    "## Add Amino Acid-producing enzyme and Ribosome"
   ]
  },
  {
   "cell_type": "code",
   "execution_count": 67,
   "metadata": {},
   "outputs": [],
   "source": [
    "SI1 = SI1.append({'ID': 'ASPT', 'Protein': 'L-aspartase', 'Gene': 'aspA', 'Reaction': 'FUM <-> Z'}, ignore_index=True)\n",
    "SI1 = SI1.append({'ID': 'R', 'Protein': 'Ribosome', 'Gene': 'rplA, rplB, rplC, rplD, rplE, rplF, rplI, rplJ, rplK, rplL, rplM, rplN, rplO, rplP, rplQ, rplR, rplS, rplT, rplU, rplV, rplW, rplX, rplY, rpmA, rpmB, rpmC, rpmD, rpmE, rpmF, rpmG, rpmH, rpmI, rpmJ, rpsA, rpsB, rpsC, rpsD, rpsE, rpsF, rpsG, rpsH, rpsI, rpsJ, rpsK, rpsL, rpsM, rpsN, rpsO, rpsP, rpsQ, rpsR, rpsS, rpsT, rpsU'}, ignore_index=True)"
   ]
  },
  {
   "cell_type": "markdown",
   "metadata": {},
   "source": [
    "## Reformulate gene IDs"
   ]
  },
  {
   "cell_type": "code",
   "execution_count": 68,
   "metadata": {},
   "outputs": [],
   "source": [
    "# Reformulation of \"lumped\" IDs\n",
    "SI1.loc[SI1.ID == 'ACEE', 'Gene'] = 'aceE, aceF, lpdA'\n",
    "SI1.loc[SI1.ID == 'ATPAR', 'Gene'] = 'atpA, atpB, atpC, atpD, atpE, atpF, atpG, atpH, atpI'\n",
    "SI1.loc[SI1.ID == 'CYDA', 'Gene'] = 'cydA, cydB'\n",
    "SI1.loc[SI1.ID == 'CYOA', 'Gene'] = 'cyoA, cyoB, cyoC, cyoD'\n",
    "SI1.loc[SI1.ID == 'FDNG', 'Gene'] = 'fdnG, fdnH, fdnI'\n",
    "SI1.loc[SI1.ID == 'FDOH', 'Gene'] = 'fdoI, fdoH, fdoG'\n",
    "SI1.loc[SI1.ID == 'FRDA', 'Gene'] = 'frdA, frdB, frdC, frdD'\n",
    "SI1.loc[SI1.ID == 'GLPA', 'Gene'] = 'glpA, glpB, glpC'\n",
    "SI1.loc[SI1.ID == 'NUOA', 'Gene'] = 'nuoA, nuoB, nuoE, nuoF, nuoG, nuoH, nuoI, nuoJ, nuoK, nuoL, nuoM, nuoN'\n",
    "SI1.loc[SI1.ID == 'PFLA', 'Gene'] = 'pflA, pflB'\n",
    "SI1.loc[SI1.ID == 'PFLC', 'Gene'] = 'pflC, pflD'\n",
    "SI1.loc[SI1.ID == 'PNTA1', 'Gene'] = 'pntA, pntB'\n",
    "SI1.loc[SI1.ID == 'PNTA2', 'Gene'] = 'pntA, pntB'\n",
    "SI1.loc[SI1.ID == 'SDHA1', 'Gene'] = 'sdhA, sdhB, sdhC, sdhD'\n",
    "SI1.loc[SI1.ID == 'SDHA2', 'Gene'] = 'sdhA, sdhB, sdhC, sdhD'\n",
    "SI1.loc[SI1.ID == 'SUCA', 'Gene'] = 'sucA, sucB, lpdA'\n",
    "SI1.loc[SI1.ID == 'SUCCR', 'Gene'] = 'sucC, sucD'\n",
    "SI1.loc[SI1.ID == 'GLCPTS', 'Gene'] = 'ptsG, ptsH, ptsI, crr'\n",
    "SI1.loc[SI1.ID == 'PIUP2R', 'Gene'] = 'pitA, pitB'\n",
    "SI1.loc[SI1.ID == 'RIBUPR', 'Gene'] = 'rbsA, rbsB, rbsC, rbsD'"
   ]
  },
  {
   "cell_type": "code",
   "execution_count": 69,
   "metadata": {},
   "outputs": [],
   "source": [
    "# manual curation\n",
    "SI1.loc[SI1.Protein == 'Catabolite activator protein', 'Gene'] = 'cra' # 'cra (fruR)' - beide Namen bezeichnen das gleiche Gen\n",
    "SI1.loc[SI1.ID == 'GLCUP', 'Gene'] = 'galP' # 'galP, etc.' - galP ist ausreichend\n",
    "SI1.loc[SI1.ID == 'PCKA', 'Gene'] = 'pck' # 'pckA'\n",
    "SI1.loc[SI1.ID == 'SFCA', 'Gene'] = 'maeA' # 'sfcA'\n",
    "SI1.loc[SI1.ID == 'GPMBR', 'Gene'] = 'gpmA' # 'sfcA' - gpmB gibt es nicht; gpmA katalysiert die gleiche Reaktion"
   ]
  },
  {
   "cell_type": "code",
   "execution_count": 70,
   "metadata": {},
   "outputs": [],
   "source": [
    "genes_list = []\n",
    "\n",
    "for index, value in SI1['Gene'].items():\n",
    "    if isinstance(value, str):\n",
    "        for g in value.split(', '):\n",
    "            if g not in genes_list:\n",
    "                genes_list.append(g)"
   ]
  },
  {
   "cell_type": "markdown",
   "metadata": {},
   "source": [
    "# Species"
   ]
  },
  {
   "cell_type": "code",
   "execution_count": 71,
   "metadata": {},
   "outputs": [],
   "source": [
    "# Split SI2 into intra- and extracellular metabolites\n",
    "\n",
    "# add column with boolean variable\n",
    "SI2['external'] = 1\n",
    "SI2['external'] = SI2['name'].str.contains(\"External\")\n",
    "\n",
    "# split dataset\n",
    "extracellular = SI2.query(\"external\")\n",
    "intracellular = SI2.query(\"external == False\")"
   ]
  },
  {
   "cell_type": "markdown",
   "metadata": {},
   "source": [
    "## Intracellular Metabolites $\\mathcal{X}$"
   ]
  },
  {
   "cell_type": "code",
   "execution_count": 72,
   "metadata": {},
   "outputs": [],
   "source": [
    "# drop boolean column\n",
    "intracellular = intracellular.drop(['external'], axis=1)"
   ]
  },
  {
   "cell_type": "code",
   "execution_count": 73,
   "metadata": {},
   "outputs": [
    {
     "data": {
      "text/html": [
       "<div>\n",
       "<style scoped>\n",
       "    .dataframe tbody tr th:only-of-type {\n",
       "        vertical-align: middle;\n",
       "    }\n",
       "\n",
       "    .dataframe tbody tr th {\n",
       "        vertical-align: top;\n",
       "    }\n",
       "\n",
       "    .dataframe thead th {\n",
       "        text-align: right;\n",
       "    }\n",
       "</style>\n",
       "<table border=\"1\" class=\"dataframe\">\n",
       "  <thead>\n",
       "    <tr style=\"text-align: right;\">\n",
       "      <th></th>\n",
       "      <th>id</th>\n",
       "      <th>name</th>\n",
       "    </tr>\n",
       "  </thead>\n",
       "  <tbody>\n",
       "    <tr>\n",
       "      <th>12</th>\n",
       "      <td>AC</td>\n",
       "      <td>Acetate</td>\n",
       "    </tr>\n",
       "    <tr>\n",
       "      <th>16</th>\n",
       "      <td>ACCOA</td>\n",
       "      <td>Acetyl-CoA</td>\n",
       "    </tr>\n",
       "    <tr>\n",
       "      <th>20</th>\n",
       "      <td>ACTP</td>\n",
       "      <td>Acetyl-phosphate</td>\n",
       "    </tr>\n",
       "    <tr>\n",
       "      <th>28</th>\n",
       "      <td>ADP</td>\n",
       "      <td>Adenosine diphosphate</td>\n",
       "    </tr>\n",
       "    <tr>\n",
       "      <th>32</th>\n",
       "      <td>AKG</td>\n",
       "      <td>a-Ketoglutarate</td>\n",
       "    </tr>\n",
       "    <tr>\n",
       "      <th>...</th>\n",
       "      <td>...</td>\n",
       "      <td>...</td>\n",
       "    </tr>\n",
       "    <tr>\n",
       "      <th>59</th>\n",
       "      <td>UDPGAL</td>\n",
       "      <td>UDP Galactose</td>\n",
       "    </tr>\n",
       "    <tr>\n",
       "      <th>63</th>\n",
       "      <td>UTP</td>\n",
       "      <td>Uridine triphosphate</td>\n",
       "    </tr>\n",
       "    <tr>\n",
       "      <th>67</th>\n",
       "      <td>X5P</td>\n",
       "      <td>Xylulose-5-phosphate</td>\n",
       "    </tr>\n",
       "    <tr>\n",
       "      <th>44</th>\n",
       "      <td>bDGLAC</td>\n",
       "      <td>b-D-Galactose</td>\n",
       "    </tr>\n",
       "    <tr>\n",
       "      <th>48</th>\n",
       "      <td>bDGLC</td>\n",
       "      <td>b-D-Glucose</td>\n",
       "    </tr>\n",
       "  </tbody>\n",
       "</table>\n",
       "<p>63 rows × 2 columns</p>\n",
       "</div>"
      ],
      "text/plain": [
       "        id                   name\n",
       "12      AC                Acetate\n",
       "16   ACCOA             Acetyl-CoA\n",
       "20    ACTP       Acetyl-phosphate\n",
       "28     ADP  Adenosine diphosphate\n",
       "32     AKG        a-Ketoglutarate\n",
       "..     ...                    ...\n",
       "59  UDPGAL          UDP Galactose\n",
       "63     UTP   Uridine triphosphate\n",
       "67     X5P   Xylulose-5-phosphate\n",
       "44  bDGLAC          b-D-Galactose\n",
       "48   bDGLC            b-D-Glucose\n",
       "\n",
       "[63 rows x 2 columns]"
      ]
     },
     "execution_count": 73,
     "metadata": {},
     "output_type": "execute_result"
    }
   ],
   "source": [
    "intracellular"
   ]
  },
  {
   "cell_type": "code",
   "execution_count": 74,
   "metadata": {},
   "outputs": [],
   "source": [
    "# add amino acid\n",
    "intracellular = intracellular.append({'id': 'Z', 'name': 'amino acid'}, ignore_index=True)"
   ]
  },
  {
   "cell_type": "code",
   "execution_count": 75,
   "metadata": {},
   "outputs": [],
   "source": [
    "# add attributes\n",
    "intracellular[\"compartment\"] = 'cytosol'\n",
    "intracellular[\"constant\"] = 'false'\n",
    "intracellular[\"boundaryCondition\"] = 'false'\n",
    "intracellular[\"hasOnlySubstanceUnits\"] = 'true'\n",
    "intracellular[\"ram:speciesType\"] = 'metabolite'"
   ]
  },
  {
   "cell_type": "markdown",
   "metadata": {},
   "source": [
    "## Extracellular Metabolites $\\mathcal{Y}$"
   ]
  },
  {
   "cell_type": "code",
   "execution_count": 76,
   "metadata": {},
   "outputs": [],
   "source": [
    "# drop boolean column\n",
    "extracellular = extracellular.drop(['external'], axis=1)"
   ]
  },
  {
   "cell_type": "code",
   "execution_count": 77,
   "metadata": {},
   "outputs": [],
   "source": [
    "# abundant species\n",
    "extracellular.at[extracellular['id'] == 'CO2xt', 'initialAmount'] = 10000\n",
    "extracellular.at[extracellular['id'] == 'HEXT', 'initialAmount'] = 10000\n",
    "extracellular.at[extracellular['id'] == 'PIxt', 'initialAmount'] = 10000\n",
    "\n",
    "# potential product are initially zero\n",
    "extracellular.at[extracellular['id'] == 'ETHxt', 'initialAmount'] = 0\n",
    "extracellular.at[extracellular['id'] == 'FORxt', 'initialAmount'] = 0\n",
    "extracellular.at[extracellular['id'] == 'LACxt', 'initialAmount'] = 0\n",
    "extracellular.at[extracellular['id'] == 'LCTSxt', 'initialAmount'] = 0\n",
    "extracellular.at[extracellular['id'] == 'PYRxt', 'initialAmount'] = 0\n",
    "\n",
    "# carbon sources and O2: initial amount depends on the scenario; aerobic glucose as default:\n",
    "extracellular.at[extracellular['id'] == 'ACxt', 'initialAmount'] = 0\n",
    "extracellular.at[extracellular['id'] == 'GLCxt', 'initialAmount'] = 100\n",
    "extracellular.at[extracellular['id'] == 'GLxt', 'initialAmount'] = 0\n",
    "extracellular.at[extracellular['id'] == 'O2xt', 'initialAmount'] = 10000\n",
    "extracellular.at[extracellular['id'] == 'RIBxt', 'initialAmount'] = 0\n",
    "extracellular.at[extracellular['id'] == 'SUCCxt', 'initialAmount'] = 0"
   ]
  },
  {
   "cell_type": "code",
   "execution_count": 78,
   "metadata": {},
   "outputs": [],
   "source": [
    "# add attributes\n",
    "extracellular[\"compartment\"] = 'extracellular'\n",
    "extracellular[\"constant\"] = 'false'\n",
    "extracellular[\"boundaryCondition\"] = 'false' # not false for every species\n",
    "extracellular[\"hasOnlySubstanceUnits\"] = 'true'\n",
    "extracellular[\"ram:speciesType\"] = 'extracellular'"
   ]
  },
  {
   "cell_type": "markdown",
   "metadata": {},
   "source": [
    "## Macromolecules $\\mathcal{P}$"
   ]
  },
  {
   "cell_type": "markdown",
   "metadata": {},
   "source": [
    "### Enzymes $\\mathcal{E}$"
   ]
  },
  {
   "cell_type": "code",
   "execution_count": 90,
   "metadata": {},
   "outputs": [],
   "source": [
    "# create copy of first part of SI\n",
    "enzymes = SI1[['ID', 'Protein', 'Gene']].copy()"
   ]
  },
  {
   "cell_type": "code",
   "execution_count": 91,
   "metadata": {},
   "outputs": [],
   "source": [
    "# delete rows without ID (i.e. regulatory proteins), without Gene (i.e. spontaneous) or without Protein (exchange, biomass, maintenance)\n",
    "enzymes.dropna(subset=['ID', 'Protein', 'Gene'], inplace=True) # in place: Keep df with valid entries in the same variable"
   ]
  },
  {
   "cell_type": "code",
   "execution_count": 92,
   "metadata": {},
   "outputs": [],
   "source": [
    "# create enzyme IDs ('E_' + reaction id)\n",
    "enzymes[\"id\"] = 'E_' + enzymes[\"ID\"]\n",
    "enzymes = enzymes.drop(['ID'], axis=1) # delete old IDs\n",
    "enzymes.at[enzymes[\"id\"] == \"E_R\", \"id\"] = 'R' # re-rename Ribosome\n",
    "enzymes = enzymes[['id', 'Protein', 'Gene']] # order columns"
   ]
  },
  {
   "cell_type": "code",
   "execution_count": 93,
   "metadata": {
    "scrolled": true
   },
   "outputs": [],
   "source": [
    "enzymes = enzymes.rename(columns={\"Protein\": \"name\"})"
   ]
  },
  {
   "cell_type": "code",
   "execution_count": 94,
   "metadata": {},
   "outputs": [],
   "source": [
    "# add attributes\n",
    "enzymes[\"compartment\"] = 'cytosol'\n",
    "enzymes[\"constant\"] = 'false'\n",
    "enzymes[\"boundaryCondition\"] = 'false'\n",
    "enzymes[\"hasOnlySubstanceUnits\"] = 'true'\n",
    "enzymes[\"initialAmount\"] = np.nan\n",
    "enzymes[\"ram:molecularWeight\"] = None # are set later\n",
    "enzymes[\"ram:objectiveWeight\"] = None # are set later\n",
    "enzymes[\"ram:biomassPercentage\"] = 0.0\n",
    "enzymes[\"ram:speciesType\"] = 'enzyme'\n",
    "enzymes[\"degradationRate\"] = 0.01"
   ]
  },
  {
   "cell_type": "code",
   "execution_count": 95,
   "metadata": {
    "scrolled": true
   },
   "outputs": [],
   "source": [
    "enzymes.at[enzymes[\"id\"] == \"R\", \"degradationRate\"] = 0.001"
   ]
  },
  {
   "cell_type": "markdown",
   "metadata": {},
   "source": [
    "### Regulatory Proteins $\\mathcal{RP}$"
   ]
  },
  {
   "cell_type": "code",
   "execution_count": 37,
   "metadata": {},
   "outputs": [],
   "source": [
    "# create copy of first part of SI\n",
    "rp = SI1[['ID', 'Protein', 'Gene']].copy()"
   ]
  },
  {
   "cell_type": "code",
   "execution_count": 38,
   "metadata": {},
   "outputs": [],
   "source": [
    "# keep rows without ID\n",
    "rp = rp[pd.isnull(rp['ID'])]\n",
    "rp = rp.drop(['ID'], axis=1)"
   ]
  },
  {
   "cell_type": "code",
   "execution_count": 39,
   "metadata": {},
   "outputs": [],
   "source": [
    "# rp id = 'RP_' + gene id\n",
    "rp[\"id\"] = 'RP_' + rp[\"Gene\"]\n",
    "rp = rp[['id', 'Protein', 'Gene']] # order columns"
   ]
  },
  {
   "cell_type": "code",
   "execution_count": 40,
   "metadata": {
    "scrolled": true
   },
   "outputs": [],
   "source": [
    "rp = rp.rename(columns={\"Protein\": \"name\"})"
   ]
  },
  {
   "cell_type": "code",
   "execution_count": 41,
   "metadata": {},
   "outputs": [],
   "source": [
    "# add attributes\n",
    "rp[\"compartment\"] = 'cytosol'\n",
    "rp[\"constant\"] = 'false'\n",
    "rp[\"boundaryCondition\"] = 'false'\n",
    "rp[\"hasOnlySubstanceUnits\"] = 'true'\n",
    "rp[\"initialAmount\"] = np.nan\n",
    "rp[\"ram:biomassPercentage\"] = 0.0\n",
    "rp[\"ram:molecularWeight\"] = None # are set later\n",
    "rp[\"ram:objectiveWeight\"] = None # are set later\n",
    "rp[\"ram:speciesType\"] = 'enzyme'\n",
    "rp[\"degradationRate\"] = 0.2"
   ]
  },
  {
   "cell_type": "markdown",
   "metadata": {},
   "source": [
    "### Quota $\\mathcal{Q}$"
   ]
  },
  {
   "cell_type": "code",
   "execution_count": 42,
   "metadata": {},
   "outputs": [],
   "source": [
    "quota = SI1[['Reaction']].loc[SI1['Protein'] == \"Biomass production flux\"]"
   ]
  },
  {
   "cell_type": "code",
   "execution_count": 43,
   "metadata": {},
   "outputs": [],
   "source": [
    "biomass_rxn = quota['Reaction'].values"
   ]
  },
  {
   "cell_type": "code",
   "execution_count": 44,
   "metadata": {},
   "outputs": [],
   "source": [
    "stoich = []\n",
    "spec = []\n",
    "product = False\n",
    "\n",
    "for s in biomass_rxn[0].split():\n",
    "    if '-' in s:\n",
    "        product = True\n",
    "    try:\n",
    "        s = float(s)\n",
    "        if product:\n",
    "            stoich.append(s)\n",
    "        else:\n",
    "            stoich.append(-s)\n",
    "    except ValueError:\n",
    "        if '+' not in s and '-' not in s:\n",
    "            spec.append(s)"
   ]
  },
  {
   "cell_type": "code",
   "execution_count": 45,
   "metadata": {},
   "outputs": [],
   "source": [
    "mw_mol = [503.15, 662.42, 741.38, 258.12, 258.12, 228.09, 198.07, 170.06, 183.03, 165.02, 87.05, 805.54, 130.06, 144.08, 763.50, 424.18, 94.98, 663.42, 740.38, 1000]\n",
    "mw_mmol = [mw/1000 for mw in mw_mol]"
   ]
  },
  {
   "cell_type": "code",
   "execution_count": 46,
   "metadata": {},
   "outputs": [],
   "source": [
    "biomass = pd.DataFrame({'id': spec, 'stoichiometry': stoich, 'molecular weight [g/mmol]': mw_mmol})"
   ]
  },
  {
   "cell_type": "code",
   "execution_count": 47,
   "metadata": {},
   "outputs": [],
   "source": [
    "biomass['weight [g]'] = biomass['stoichiometry'] * biomass['molecular weight [g/mmol]']"
   ]
  },
  {
   "cell_type": "code",
   "execution_count": 48,
   "metadata": {},
   "outputs": [],
   "source": [
    "# calculate weight of biomass\n",
    "educt_surplus = biomass['weight [g]'].sum() - 1.0 # subtract biomass 'weight'\n",
    "biomass_weight = -educt_surplus # new biomass weight equals educt surplus"
   ]
  },
  {
   "cell_type": "code",
   "execution_count": 49,
   "metadata": {},
   "outputs": [],
   "source": [
    "# set weight of 'biomass', which will be reformulated as Quota_rest\n",
    "biomass.at[biomass['id'] == 'Biomass', 'biomass_weight'] = biomass_weight"
   ]
  },
  {
   "cell_type": "markdown",
   "metadata": {},
   "source": [
    "Fraction of proteins $\\varphi_{\\mathrm{protein}}$ is set to 0.7 (for details, see report), so the 'remaining' quota will make up 30 %"
   ]
  },
  {
   "cell_type": "code",
   "execution_count": 50,
   "metadata": {},
   "outputs": [],
   "source": [
    "# add attributes for quota 'rest'\n",
    "quota[\"ID\"] = 'Quota_R'\n",
    "quota[\"ram:molecularWeight\"] = biomass_weight\n",
    "quota[\"ram:objectiveWeight\"] = biomass_weight\n",
    "quota[\"ram:biomassPercentage\"] = 0.3\n",
    "quota[\"degradationRate\"] = 0.001"
   ]
  },
  {
   "cell_type": "markdown",
   "metadata": {},
   "source": [
    "#### adjust protein fraction $\\phi^*_{\\text{protein}}$\n",
    "Determine fraction of proteins explicitly modeled using data by *Li et al.* for E. coli on minimal medium"
   ]
  },
  {
   "cell_type": "code",
   "execution_count": 51,
   "metadata": {
    "scrolled": true
   },
   "outputs": [],
   "source": [
    "li = pd.read_csv('Li_minimal.tsv', sep='\\t')"
   ]
  },
  {
   "cell_type": "code",
   "execution_count": 52,
   "metadata": {},
   "outputs": [],
   "source": [
    "# add column specifying whether the protein is included in the model\n",
    "li['included'] = 1\n",
    "li['included'] = li['!Protein:Name'].isin(genes_list)"
   ]
  },
  {
   "cell_type": "code",
   "execution_count": 53,
   "metadata": {},
   "outputs": [],
   "source": [
    "li_included = li.query(\"included\")"
   ]
  },
  {
   "cell_type": "code",
   "execution_count": 54,
   "metadata": {},
   "outputs": [],
   "source": [
    "n_missing_genes = len(genes_list)-len(li_included)\n",
    "frac_explicit = li_included['!Abundance:[original]'].sum()/li['!Abundance:[original]'].sum()\n",
    "frac_adjusted = 0.55*(1-li_included['!Abundance:[original]'].sum()/li['!Abundance:[original]'].sum())"
   ]
  },
  {
   "cell_type": "code",
   "execution_count": 55,
   "metadata": {},
   "outputs": [
    {
     "name": "stdout",
     "output_type": "stream",
     "text": [
      "13 genes from the model are not included in the dataset by Li et al.\n"
     ]
    }
   ],
   "source": [
    "print(\"%i genes from the model are not included in the dataset by Li et al.\" %n_missing_genes)"
   ]
  },
  {
   "cell_type": "code",
   "execution_count": 56,
   "metadata": {
    "scrolled": true
   },
   "outputs": [
    {
     "name": "stdout",
     "output_type": "stream",
     "text": [
      "The fraction of protein explicitly modeled in the dataset by Li et al. is 30.310474%. Therefore, the adjusted protein quota is 38.329239% and the fraction of explicitly modeled proteins in the model is 16.670761%\n"
     ]
    }
   ],
   "source": [
    "print(\"The fraction of protein explicitly modeled in the dataset by Li et al. is %f%%. Therefore, the adjusted protein quota is %f%% and the fraction of explicitly modeled proteins in the model is %f%%\" %(frac_explicit*100, frac_adjusted*100, (0.55-frac_adjusted)*100))"
   ]
  },
  {
   "cell_type": "code",
   "execution_count": 57,
   "metadata": {},
   "outputs": [],
   "source": [
    "# add protein quota\n",
    "# weights are determined later: length will be set to median length of all proteins explicitly modeled\n",
    "quota = quota.append({\"ID\": 'Quota_protein', \"Gene\": 'R', \"ram:biomassPercentage\": frac_adjusted, \"degradationRate\": 0.01}, ignore_index=True)"
   ]
  },
  {
   "cell_type": "code",
   "execution_count": 58,
   "metadata": {},
   "outputs": [],
   "source": [
    "quota['compartment'] = 'cytosol'\n",
    "quota[\"initialAmount\"] = np.nan"
   ]
  },
  {
   "cell_type": "code",
   "execution_count": 59,
   "metadata": {},
   "outputs": [
    {
     "data": {
      "text/html": [
       "<div>\n",
       "<style scoped>\n",
       "    .dataframe tbody tr th:only-of-type {\n",
       "        vertical-align: middle;\n",
       "    }\n",
       "\n",
       "    .dataframe tbody tr th {\n",
       "        vertical-align: top;\n",
       "    }\n",
       "\n",
       "    .dataframe thead th {\n",
       "        text-align: right;\n",
       "    }\n",
       "</style>\n",
       "<table border=\"1\" class=\"dataframe\">\n",
       "  <thead>\n",
       "    <tr style=\"text-align: right;\">\n",
       "      <th></th>\n",
       "      <th>Reaction</th>\n",
       "      <th>ID</th>\n",
       "      <th>ram:molecularWeight</th>\n",
       "      <th>ram:objectiveWeight</th>\n",
       "      <th>ram:biomassPercentage</th>\n",
       "      <th>Gene</th>\n",
       "      <th>compartment</th>\n",
       "      <th>initialAmount</th>\n",
       "    </tr>\n",
       "  </thead>\n",
       "  <tbody>\n",
       "    <tr>\n",
       "      <th>0</th>\n",
       "      <td>41.25 ATP + 3.54 NAD + 18.22 NADPH + 0.2 G6P +...</td>\n",
       "      <td>Quota_R</td>\n",
       "      <td>0.864801</td>\n",
       "      <td>0.864801</td>\n",
       "      <td>0.300000</td>\n",
       "      <td>NaN</td>\n",
       "      <td>cytosol</td>\n",
       "      <td>NaN</td>\n",
       "    </tr>\n",
       "    <tr>\n",
       "      <th>1</th>\n",
       "      <td>NaN</td>\n",
       "      <td>Quota_protein</td>\n",
       "      <td>NaN</td>\n",
       "      <td>NaN</td>\n",
       "      <td>0.383292</td>\n",
       "      <td>R</td>\n",
       "      <td>cytosol</td>\n",
       "      <td>NaN</td>\n",
       "    </tr>\n",
       "  </tbody>\n",
       "</table>\n",
       "</div>"
      ],
      "text/plain": [
       "                                            Reaction             ID  \\\n",
       "0  41.25 ATP + 3.54 NAD + 18.22 NADPH + 0.2 G6P +...        Quota_R   \n",
       "1                                                NaN  Quota_protein   \n",
       "\n",
       "   ram:molecularWeight  ram:objectiveWeight  ram:biomassPercentage Gene  \\\n",
       "0             0.864801             0.864801               0.300000  NaN   \n",
       "1                  NaN                  NaN               0.383292    R   \n",
       "\n",
       "  compartment  initialAmount  \n",
       "0     cytosol            NaN  \n",
       "1     cytosol            NaN  "
      ]
     },
     "execution_count": 59,
     "metadata": {},
     "output_type": "execute_result"
    }
   ],
   "source": [
    "quota"
   ]
  },
  {
   "cell_type": "markdown",
   "metadata": {},
   "source": [
    "# Reactions $\\mathcal{R}$"
   ]
  },
  {
   "cell_type": "markdown",
   "metadata": {},
   "source": [
    "## Metabolic Reactions $\\mathcal{R_X}$ and Uptake Reactions $\\mathcal{R_Y}$"
   ]
  },
  {
   "cell_type": "code",
   "execution_count": 7,
   "metadata": {},
   "outputs": [],
   "source": [
    "# create copy of first part of SI\n",
    "reactions = SI1[['ID', 'Protein', 'Gene', 'Reaction']].copy()"
   ]
  },
  {
   "cell_type": "code",
   "execution_count": 8,
   "metadata": {},
   "outputs": [],
   "source": [
    "# delete rows without Reaction\n",
    "reactions.dropna(subset=['Reaction'], inplace=True)"
   ]
  },
  {
   "cell_type": "code",
   "execution_count": 206,
   "metadata": {},
   "outputs": [],
   "source": [
    "# delete exchange reactions\n",
    "reactions = reactions[~reactions.Protein.str.contains('exchange')]"
   ]
  },
  {
   "cell_type": "code",
   "execution_count": 207,
   "metadata": {},
   "outputs": [],
   "source": [
    "# delete maintenance and biomass reactions\n",
    "reactions.drop(reactions[reactions.ID == 'ATPM'].index, inplace=True)\n",
    "reactions.drop(reactions[reactions.ID == 'VGRO'].index, inplace=True)"
   ]
  },
  {
   "cell_type": "code",
   "execution_count": 208,
   "metadata": {},
   "outputs": [],
   "source": [
    "# add reaction for amino acid\n",
    "reactions = reactions.append({'ID': 'ASPT', 'Protein': 'L-aspartase', 'Reaction': 'FUM <-> Z'}, ignore_index=True)"
   ]
  },
  {
   "cell_type": "markdown",
   "metadata": {},
   "source": [
    "### turnover rates"
   ]
  },
  {
   "cell_type": "code",
   "execution_count": 236,
   "metadata": {},
   "outputs": [],
   "source": [
    "reactions_turnover = pd.read_csv('TurnoverRates.tsv', sep='\\t')"
   ]
  },
  {
   "cell_type": "code",
   "execution_count": 237,
   "metadata": {},
   "outputs": [],
   "source": [
    "# add column with boolean variable\n",
    "reactions_turnover['transport'] = 1\n",
    "reactions_turnover['transport'] = reactions_turnover['Protein'].str.contains(\"transport|efflux|uptake|secretion|permease\")\n",
    "\n",
    "# split dataset\n",
    "turnover_transport = reactions_turnover.query(\"transport\")\n",
    "turnover_metabolic = reactions_turnover.query(\"transport == False\")"
   ]
  },
  {
   "cell_type": "code",
   "execution_count": 238,
   "metadata": {},
   "outputs": [],
   "source": [
    "missing = reactions_turnover['kcat_fwd/s'].str.count('kcat').sum()+reactions_turnover['kcat_bwd/s'].str.count('kcat').sum()+reactions_turnover['kcat_fwd/s'].str.count('diffusion').sum()+reactions_turnover['kcat_bwd/s'].str.count('diffusion').sum()"
   ]
  },
  {
   "cell_type": "code",
   "execution_count": 239,
   "metadata": {
    "scrolled": true
   },
   "outputs": [
    {
     "name": "stdout",
     "output_type": "stream",
     "text": [
      "Total number of reactions and reverse reactions: 152\n",
      "Missing values (total): 37 (24.342105 %)\n",
      "Missing values (metabolic): 7 (5.737705 %)\n",
      "Missing values (transport): 30 (100.000000 %)\n"
     ]
    }
   ],
   "source": [
    "print(\"Total number of reactions and reverse reactions: %i\" %(len(reactions_turnover)+reactions_turnover['reversible'].sum()))\n",
    "print(\"Missing values (total): %i (%f %%)\" %(missing, missing/(len(reactions_turnover)+reactions_turnover['reversible'].sum())*100))\n",
    "print(\"Missing values (metabolic): %i (%f %%)\" %(turnover_metabolic['kcat_fwd/s'].str.count('kcat').sum()+turnover_metabolic['kcat_bwd/s'].str.count('kcat').sum(), (turnover_metabolic['kcat_fwd/s'].str.count('kcat').sum()+turnover_metabolic['kcat_bwd/s'].str.count('kcat').sum())/(len(turnover_metabolic)+turnover_metabolic['reversible'].sum())*100))\n",
    "print(\"Missing values (transport): %i (%f %%)\" %(missing-turnover_metabolic['kcat_fwd/s'].str.count('kcat').sum()-turnover_metabolic['kcat_bwd/s'].str.count('kcat').sum(), (missing-turnover_metabolic['kcat_fwd/s'].str.count('kcat').sum()-turnover_metabolic['kcat_bwd/s'].str.count('kcat').sum())/(len(turnover_transport)+turnover_transport['reversible'].sum())*100))"
   ]
  },
  {
   "cell_type": "code",
   "execution_count": 240,
   "metadata": {},
   "outputs": [],
   "source": [
    "all_values = []\n",
    "\n",
    "# Iterate over two given columns only from the dataframe\n",
    "for column in reactions_turnover[['kcat_fwd/s', 'kcat_bwd/s']]:\n",
    "    # Select column contents by column name using [] operator\n",
    "    columnSeriesObj = reactions_turnover[column]\n",
    "    for v in columnSeriesObj.values:\n",
    "        try:\n",
    "            v = float(v)\n",
    "            if v > 0:\n",
    "                all_values.append(v)\n",
    "        except ValueError:\n",
    "            pass"
   ]
  },
  {
   "cell_type": "code",
   "execution_count": 241,
   "metadata": {},
   "outputs": [
    {
     "data": {
      "text/plain": [
       "66.6"
      ]
     },
     "execution_count": 241,
     "metadata": {},
     "output_type": "execute_result"
    }
   ],
   "source": [
    "np.median(all_values)\n",
    "#np.mean(all_values)"
   ]
  },
  {
   "cell_type": "code",
   "execution_count": 242,
   "metadata": {},
   "outputs": [],
   "source": [
    "reactions_turnover = reactions_turnover.replace(to_replace = 'kcat', value = np.median(all_values))\n",
    "reactions_turnover = reactions_turnover.replace(to_replace = 'diffusion', value = np.median(all_values))"
   ]
  },
  {
   "cell_type": "code",
   "execution_count": 247,
   "metadata": {},
   "outputs": [],
   "source": [
    "reactions_turnover[\"kcat_fwd/s\"] = pd.to_numeric(reactions_turnover[\"kcat_fwd/s\"])\n",
    "reactions_turnover[\"kcat_bwd/s\"] = pd.to_numeric(reactions_turnover[\"kcat_bwd/s\"])"
   ]
  },
  {
   "cell_type": "code",
   "execution_count": 248,
   "metadata": {},
   "outputs": [],
   "source": [
    "reactions_turnover[\"fbc:geneProductAssociation\"] = np.where(pd.isna(reactions_turnover[\"Gene\"]), '', 'E_' + reactions_turnover[\"Covert ID\"])\n",
    "reactions_turnover['kcat_fwd/min'] = reactions_turnover['kcat_fwd/s'].apply(lambda x: x*60) # conversion from 1/s to 1/min\n",
    "reactions_turnover['kcat_bwd/min'] = reactions_turnover['kcat_bwd/s'].apply(lambda x: x*60) # conversion from 1/s to 1/min\n",
    "reactions_turnover[\"fbc:maintenanceScaling\"] = 0.0"
   ]
  },
  {
   "cell_type": "markdown",
   "metadata": {},
   "source": [
    "## Translation $\\mathcal{R_P}$"
   ]
  },
  {
   "cell_type": "code",
   "execution_count": 284,
   "metadata": {},
   "outputs": [],
   "source": [
    "# Ribosomal activity: 17 amino acids / s\n",
    "amino_acids_per_min = 1020\n",
    "# take molecular weight of Asp as MW for amino acid, i.e. 0.1331 g/mmol\n",
    "weight_amino_acid = 0.1331"
   ]
  },
  {
   "cell_type": "code",
   "execution_count": 285,
   "metadata": {},
   "outputs": [],
   "source": [
    "translation = SI1[['ID', 'Protein', 'Gene']].copy()"
   ]
  },
  {
   "cell_type": "code",
   "execution_count": 286,
   "metadata": {},
   "outputs": [],
   "source": [
    "# drop rows without Gene (spontaneous reactions...)\n",
    "translation.dropna(subset=['Gene'], inplace=True)"
   ]
  },
  {
   "cell_type": "code",
   "execution_count": 287,
   "metadata": {},
   "outputs": [],
   "source": [
    "translation[\"ID\"] = np.where(pd.isna(translation[\"ID\"]), 'T_' + translation[\"Gene\"], 'T_' + translation[\"ID\"])"
   ]
  },
  {
   "cell_type": "code",
   "execution_count": 288,
   "metadata": {},
   "outputs": [],
   "source": [
    "translation[\"Length\"] = None"
   ]
  },
  {
   "cell_type": "code",
   "execution_count": 289,
   "metadata": {},
   "outputs": [],
   "source": [
    "uniprot = pd.read_csv('uniprot.tsv', sep='\\t')"
   ]
  },
  {
   "cell_type": "code",
   "execution_count": 290,
   "metadata": {},
   "outputs": [],
   "source": [
    "for index, value in translation['Gene'].items():\n",
    "    length = 0\n",
    "    for g in value.split(', '):\n",
    "        try:\n",
    "            length = length + uniprot.loc[uniprot['yourlist'] == g, 'Length'].values[0]\n",
    "        except ValueError:\n",
    "            pass\n",
    "    translation['Length'][index] = length"
   ]
  },
  {
   "cell_type": "code",
   "execution_count": 291,
   "metadata": {},
   "outputs": [],
   "source": [
    "median_length = translation['Length'].median()"
   ]
  },
  {
   "cell_type": "code",
   "execution_count": 293,
   "metadata": {},
   "outputs": [],
   "source": [
    "# append translation of protein quota\n",
    "translation = translation.append({\"ID\": 'Quota_protein', \"Length\": median_length}, ignore_index=True)"
   ]
  },
  {
   "cell_type": "code",
   "execution_count": 294,
   "metadata": {},
   "outputs": [],
   "source": [
    "translation[\"reversible\"] = 'false'\n",
    "translation['ram:kcatForward'] = translation['Length'].apply(lambda x: amino_acids_per_min/x)\n",
    "translation['ram:kcatBackward'] = 0.0\n",
    "translation[\"fbc:maintenanceScaling\"] = 0.0\n",
    "translation[\"fbc:geneProductAssociation\"] = 'R'"
   ]
  },
  {
   "cell_type": "markdown",
   "metadata": {},
   "source": [
    "### set weights for macromolecules"
   ]
  },
  {
   "cell_type": "code",
   "execution_count": 297,
   "metadata": {
    "scrolled": true
   },
   "outputs": [],
   "source": [
    "# take molecular weight of Asp as MW for amino acid, i.e. 0.1331 g/mmol\n",
    "for index, value in enzymes['id'].items():\n",
    "    weight = weight_amino_acid * float(translation.loc[translation['ID'] == value.replace('E_', 'T_'), 'Length'].values[0])\n",
    "    enzymes.at[index, \"ram:molecularWeight\"] = weight\n",
    "    enzymes.at[index, \"ram:objectiveWeight\"] = weight"
   ]
  },
  {
   "cell_type": "code",
   "execution_count": 298,
   "metadata": {},
   "outputs": [],
   "source": [
    "# take molecular weight of Asp as MW for amino acid, i.e. 0.1331 g/mmol\n",
    "for index, value in rp['id'].items():\n",
    "    weight = weight_amino_acid * float(translation.loc[translation['ID'] == value.replace('RP_', 'T_'), 'Length'].values[0])\n",
    "    rp.at[index, \"ram:molecularWeight\"] = weight\n",
    "    rp.at[index, \"ram:objectiveWeight\"] = weight"
   ]
  },
  {
   "cell_type": "code",
   "execution_count": 299,
   "metadata": {},
   "outputs": [],
   "source": [
    "# now set weights of protein quota\n",
    "quota.at[quota['ID'] == 'Quota_protein', 'ram:molecularWeight'] = median_length * weight_amino_acid\n",
    "quota.at[quota['ID'] == 'Quota_protein', 'ram:objectiveWeight'] = median_length * weight_amino_acid"
   ]
  },
  {
   "cell_type": "markdown",
   "metadata": {},
   "source": [
    "## Maintenance Reaction $\\mathcal{R_M}$"
   ]
  },
  {
   "cell_type": "code",
   "execution_count": 318,
   "metadata": {},
   "outputs": [],
   "source": [
    "# filter maintenance reaction from SI\n",
    "main_df = SI1.filter(SI1[SI1.ID == 'ATPM'].index, axis = 0)"
   ]
  },
  {
   "cell_type": "markdown",
   "metadata": {},
   "source": [
    "# Regulated Proteins $p = \\mathcal{RE} \\cup \\mathcal{RP}$"
   ]
  },
  {
   "cell_type": "code",
   "execution_count": 302,
   "metadata": {},
   "outputs": [],
   "source": [
    "# create copy of first part of SI\n",
    "regulated = SI1[['ID', 'Protein', 'Gene', 'Regulatory logic']].copy()"
   ]
  },
  {
   "cell_type": "code",
   "execution_count": 303,
   "metadata": {},
   "outputs": [],
   "source": [
    "# delete rows without Regulation\n",
    "regulated.dropna(subset=['Regulatory logic'], inplace=True)"
   ]
  },
  {
   "cell_type": "code",
   "execution_count": 99,
   "metadata": {},
   "outputs": [],
   "source": [
    "# Create IDs of boolean variables representing gene expresssion for regulated proteins\n",
    "# regulated enzymes: 'G_' + ID (uppercase)\n",
    "# regulatory proteins: 'G_' + Gene (lowercase)\n",
    "regulated[\"bool_ID\"] = np.where(pd.isna(regulated[\"ID\"]), 'G_' + regulated[\"Gene\"] + '_bar', 'G_' + regulated[\"ID\"] + '_bar')"
   ]
  },
  {
   "cell_type": "code",
   "execution_count": 100,
   "metadata": {
    "scrolled": false
   },
   "outputs": [
    {
     "data": {
      "text/html": [
       "<div>\n",
       "<style scoped>\n",
       "    .dataframe tbody tr th:only-of-type {\n",
       "        vertical-align: middle;\n",
       "    }\n",
       "\n",
       "    .dataframe tbody tr th {\n",
       "        vertical-align: top;\n",
       "    }\n",
       "\n",
       "    .dataframe thead th {\n",
       "        text-align: right;\n",
       "    }\n",
       "</style>\n",
       "<table border=\"1\" class=\"dataframe\">\n",
       "  <thead>\n",
       "    <tr style=\"text-align: right;\">\n",
       "      <th></th>\n",
       "      <th>ID</th>\n",
       "      <th>Protein</th>\n",
       "      <th>Gene</th>\n",
       "      <th>Regulatory logic</th>\n",
       "      <th>bool_ID</th>\n",
       "    </tr>\n",
       "  </thead>\n",
       "  <tbody>\n",
       "    <tr>\n",
       "      <th>0</th>\n",
       "      <td>ACEA</td>\n",
       "      <td>Isocitrate lyase</td>\n",
       "      <td>aceA</td>\n",
       "      <td>IF not (IclR)</td>\n",
       "      <td>G_ACEA_bar</td>\n",
       "    </tr>\n",
       "    <tr>\n",
       "      <th>1</th>\n",
       "      <td>ACEB</td>\n",
       "      <td>Malate synthase A</td>\n",
       "      <td>aceB</td>\n",
       "      <td>IF not (ArcA or IclR)</td>\n",
       "      <td>G_ACEB_bar</td>\n",
       "    </tr>\n",
       "    <tr>\n",
       "      <th>2</th>\n",
       "      <td>ACEE</td>\n",
       "      <td>Pyruvate dehydrogenase</td>\n",
       "      <td>aceE, aceF, lpdA</td>\n",
       "      <td>IF (not PdhR)</td>\n",
       "      <td>G_ACEE_bar</td>\n",
       "    </tr>\n",
       "    <tr>\n",
       "      <th>4</th>\n",
       "      <td>ACNAR</td>\n",
       "      <td>Aconitase A</td>\n",
       "      <td>acnA</td>\n",
       "      <td>IF (GLCxt or LCTSxt or RIBxt or GLxt or LACxt ...</td>\n",
       "      <td>G_ACNAR_bar</td>\n",
       "    </tr>\n",
       "    <tr>\n",
       "      <th>5</th>\n",
       "      <td>ACNBR</td>\n",
       "      <td>Aconitase B</td>\n",
       "      <td>acnB</td>\n",
       "      <td>IF (GLCxt or LCTSxt or RIBxt or GLxt or LACxt ...</td>\n",
       "      <td>G_ACNBR_bar</td>\n",
       "    </tr>\n",
       "    <tr>\n",
       "      <th>...</th>\n",
       "      <td>...</td>\n",
       "      <td>...</td>\n",
       "      <td>...</td>\n",
       "      <td>...</td>\n",
       "      <td>...</td>\n",
       "    </tr>\n",
       "    <tr>\n",
       "      <th>127</th>\n",
       "      <td>NaN</td>\n",
       "      <td>Lactose operon repressor</td>\n",
       "      <td>lacI</td>\n",
       "      <td>active IF not (LCTSxt)</td>\n",
       "      <td>G_lacI_bar</td>\n",
       "    </tr>\n",
       "    <tr>\n",
       "      <th>128</th>\n",
       "      <td>NaN</td>\n",
       "      <td>Glucose response regulator</td>\n",
       "      <td>mlc</td>\n",
       "      <td>active IF not (GLCxt)</td>\n",
       "      <td>G_mlc_bar</td>\n",
       "    </tr>\n",
       "    <tr>\n",
       "      <th>129</th>\n",
       "      <td>NaN</td>\n",
       "      <td>Pyruvate response regulator</td>\n",
       "      <td>pdhR</td>\n",
       "      <td>active IF not (surplus PYR)**</td>\n",
       "      <td>G_pdhR_bar</td>\n",
       "    </tr>\n",
       "    <tr>\n",
       "      <th>130</th>\n",
       "      <td>NaN</td>\n",
       "      <td>Ribose response regulator</td>\n",
       "      <td>rbsR</td>\n",
       "      <td>active IF not (RIBxt)</td>\n",
       "      <td>G_rbsR_bar</td>\n",
       "    </tr>\n",
       "    <tr>\n",
       "      <th>131</th>\n",
       "      <td>NaN</td>\n",
       "      <td>Ribose response regulator</td>\n",
       "      <td>rpiR</td>\n",
       "      <td>active IF not (RIBxt)</td>\n",
       "      <td>G_rpiR_bar</td>\n",
       "    </tr>\n",
       "  </tbody>\n",
       "</table>\n",
       "<p>61 rows × 5 columns</p>\n",
       "</div>"
      ],
      "text/plain": [
       "        ID                      Protein              Gene  \\\n",
       "0     ACEA             Isocitrate lyase              aceA   \n",
       "1     ACEB            Malate synthase A              aceB   \n",
       "2     ACEE       Pyruvate dehydrogenase  aceE, aceF, lpdA   \n",
       "4    ACNAR                  Aconitase A              acnA   \n",
       "5    ACNBR                  Aconitase B              acnB   \n",
       "..     ...                          ...               ...   \n",
       "127    NaN     Lactose operon repressor              lacI   \n",
       "128    NaN   Glucose response regulator               mlc   \n",
       "129    NaN  Pyruvate response regulator              pdhR   \n",
       "130    NaN    Ribose response regulator              rbsR   \n",
       "131    NaN    Ribose response regulator              rpiR   \n",
       "\n",
       "                                      Regulatory logic      bool_ID  \n",
       "0                                        IF not (IclR)   G_ACEA_bar  \n",
       "1                                IF not (ArcA or IclR)   G_ACEB_bar  \n",
       "2                                        IF (not PdhR)   G_ACEE_bar  \n",
       "4    IF (GLCxt or LCTSxt or RIBxt or GLxt or LACxt ...  G_ACNAR_bar  \n",
       "5    IF (GLCxt or LCTSxt or RIBxt or GLxt or LACxt ...  G_ACNBR_bar  \n",
       "..                                                 ...          ...  \n",
       "127                             active IF not (LCTSxt)   G_lacI_bar  \n",
       "128                              active IF not (GLCxt)    G_mlc_bar  \n",
       "129                      active IF not (surplus PYR)**   G_pdhR_bar  \n",
       "130                              active IF not (RIBxt)   G_rbsR_bar  \n",
       "131                              active IF not (RIBxt)   G_rpiR_bar  \n",
       "\n",
       "[61 rows x 5 columns]"
      ]
     },
     "execution_count": 100,
     "metadata": {},
     "output_type": "execute_result"
    }
   ],
   "source": [
    "regulated"
   ]
  },
  {
   "cell_type": "code",
   "execution_count": null,
   "metadata": {},
   "outputs": [],
   "source": []
  },
  {
   "cell_type": "code",
   "execution_count": null,
   "metadata": {},
   "outputs": [],
   "source": []
  },
  {
   "cell_type": "markdown",
   "metadata": {},
   "source": [
    "## Rules for Regulated Proteins"
   ]
  },
  {
   "cell_type": "code",
   "execution_count": 108,
   "metadata": {},
   "outputs": [],
   "source": [
    "# create copy of first part of SI\n",
    "rules = SI1[['ID', 'Protein', 'Gene', 'Regulatory logic', 'Notes']].copy()"
   ]
  },
  {
   "cell_type": "code",
   "execution_count": 109,
   "metadata": {},
   "outputs": [],
   "source": [
    "# delete rows without Regulation\n",
    "rules.dropna(subset=['Regulatory logic'], inplace=True)"
   ]
  },
  {
   "cell_type": "code",
   "execution_count": 110,
   "metadata": {
    "scrolled": true
   },
   "outputs": [
    {
     "data": {
      "text/html": [
       "<div>\n",
       "<style scoped>\n",
       "    .dataframe tbody tr th:only-of-type {\n",
       "        vertical-align: middle;\n",
       "    }\n",
       "\n",
       "    .dataframe tbody tr th {\n",
       "        vertical-align: top;\n",
       "    }\n",
       "\n",
       "    .dataframe thead th {\n",
       "        text-align: right;\n",
       "    }\n",
       "</style>\n",
       "<table border=\"1\" class=\"dataframe\">\n",
       "  <thead>\n",
       "    <tr style=\"text-align: right;\">\n",
       "      <th></th>\n",
       "      <th>ID</th>\n",
       "      <th>Protein</th>\n",
       "      <th>Gene</th>\n",
       "      <th>Regulatory logic</th>\n",
       "      <th>Notes</th>\n",
       "    </tr>\n",
       "  </thead>\n",
       "  <tbody>\n",
       "    <tr>\n",
       "      <th>0</th>\n",
       "      <td>ACEA</td>\n",
       "      <td>Isocitrate lyase</td>\n",
       "      <td>aceA</td>\n",
       "      <td>IF not (IclR)</td>\n",
       "      <td>Cra may also have a role in regulation.</td>\n",
       "    </tr>\n",
       "    <tr>\n",
       "      <th>1</th>\n",
       "      <td>ACEB</td>\n",
       "      <td>Malate synthase A</td>\n",
       "      <td>aceB</td>\n",
       "      <td>IF not (ArcA or IclR)</td>\n",
       "      <td>Cra may also have a role in regulation.</td>\n",
       "    </tr>\n",
       "    <tr>\n",
       "      <th>2</th>\n",
       "      <td>ACEE</td>\n",
       "      <td>Pyruvate dehydrogenase</td>\n",
       "      <td>aceE, aceF, lpdA</td>\n",
       "      <td>IF (not PdhR)</td>\n",
       "      <td>NaN</td>\n",
       "    </tr>\n",
       "    <tr>\n",
       "      <th>4</th>\n",
       "      <td>ACNAR</td>\n",
       "      <td>Aconitase A</td>\n",
       "      <td>acnA</td>\n",
       "      <td>IF (GLCxt or LCTSxt or RIBxt or GLxt or LACxt ...</td>\n",
       "      <td>Although ArcA, FNR and Cra are implicated in r...</td>\n",
       "    </tr>\n",
       "    <tr>\n",
       "      <th>5</th>\n",
       "      <td>ACNBR</td>\n",
       "      <td>Aconitase B</td>\n",
       "      <td>acnB</td>\n",
       "      <td>IF (GLCxt or LCTSxt or RIBxt or GLxt or LACxt ...</td>\n",
       "      <td>Although ArcA, FNR and Cra are implicated in r...</td>\n",
       "    </tr>\n",
       "    <tr>\n",
       "      <th>...</th>\n",
       "      <td>...</td>\n",
       "      <td>...</td>\n",
       "      <td>...</td>\n",
       "      <td>...</td>\n",
       "      <td>...</td>\n",
       "    </tr>\n",
       "    <tr>\n",
       "      <th>127</th>\n",
       "      <td>NaN</td>\n",
       "      <td>Lactose operon repressor</td>\n",
       "      <td>lacI</td>\n",
       "      <td>active IF not (LCTSxt)</td>\n",
       "      <td>The actual metabolite that binds to lacI to in...</td>\n",
       "    </tr>\n",
       "    <tr>\n",
       "      <th>128</th>\n",
       "      <td>NaN</td>\n",
       "      <td>Glucose response regulator</td>\n",
       "      <td>mlc</td>\n",
       "      <td>active IF not (GLCxt)</td>\n",
       "      <td>NaN</td>\n",
       "    </tr>\n",
       "    <tr>\n",
       "      <th>129</th>\n",
       "      <td>NaN</td>\n",
       "      <td>Pyruvate response regulator</td>\n",
       "      <td>pdhR</td>\n",
       "      <td>active IF not (surplus PYR)**</td>\n",
       "      <td>Surplus PYR = if not ((VMAEB &gt; 0 or VSFCA &gt; 0)...</td>\n",
       "    </tr>\n",
       "    <tr>\n",
       "      <th>130</th>\n",
       "      <td>NaN</td>\n",
       "      <td>Ribose response regulator</td>\n",
       "      <td>rbsR</td>\n",
       "      <td>active IF not (RIBxt)</td>\n",
       "      <td>NaN</td>\n",
       "    </tr>\n",
       "    <tr>\n",
       "      <th>131</th>\n",
       "      <td>NaN</td>\n",
       "      <td>Ribose response regulator</td>\n",
       "      <td>rpiR</td>\n",
       "      <td>active IF not (RIBxt)</td>\n",
       "      <td>NaN</td>\n",
       "    </tr>\n",
       "  </tbody>\n",
       "</table>\n",
       "<p>61 rows × 5 columns</p>\n",
       "</div>"
      ],
      "text/plain": [
       "        ID                      Protein              Gene  \\\n",
       "0     ACEA             Isocitrate lyase              aceA   \n",
       "1     ACEB            Malate synthase A              aceB   \n",
       "2     ACEE       Pyruvate dehydrogenase  aceE, aceF, lpdA   \n",
       "4    ACNAR                  Aconitase A              acnA   \n",
       "5    ACNBR                  Aconitase B              acnB   \n",
       "..     ...                          ...               ...   \n",
       "127    NaN     Lactose operon repressor              lacI   \n",
       "128    NaN   Glucose response regulator               mlc   \n",
       "129    NaN  Pyruvate response regulator              pdhR   \n",
       "130    NaN    Ribose response regulator              rbsR   \n",
       "131    NaN    Ribose response regulator              rpiR   \n",
       "\n",
       "                                      Regulatory logic  \\\n",
       "0                                        IF not (IclR)   \n",
       "1                                IF not (ArcA or IclR)   \n",
       "2                                        IF (not PdhR)   \n",
       "4    IF (GLCxt or LCTSxt or RIBxt or GLxt or LACxt ...   \n",
       "5    IF (GLCxt or LCTSxt or RIBxt or GLxt or LACxt ...   \n",
       "..                                                 ...   \n",
       "127                             active IF not (LCTSxt)   \n",
       "128                              active IF not (GLCxt)   \n",
       "129                      active IF not (surplus PYR)**   \n",
       "130                              active IF not (RIBxt)   \n",
       "131                              active IF not (RIBxt)   \n",
       "\n",
       "                                                 Notes  \n",
       "0              Cra may also have a role in regulation.  \n",
       "1              Cra may also have a role in regulation.  \n",
       "2                                                  NaN  \n",
       "4    Although ArcA, FNR and Cra are implicated in r...  \n",
       "5    Although ArcA, FNR and Cra are implicated in r...  \n",
       "..                                                 ...  \n",
       "127  The actual metabolite that binds to lacI to in...  \n",
       "128                                                NaN  \n",
       "129  Surplus PYR = if not ((VMAEB > 0 or VSFCA > 0)...  \n",
       "130                                                NaN  \n",
       "131                                                NaN  \n",
       "\n",
       "[61 rows x 5 columns]"
      ]
     },
     "execution_count": 110,
     "metadata": {},
     "output_type": "execute_result"
    }
   ],
   "source": [
    "rules"
   ]
  },
  {
   "cell_type": "markdown",
   "metadata": {},
   "source": [
    "## Events"
   ]
  },
  {
   "cell_type": "markdown",
   "metadata": {},
   "source": [
    "# Write Model as XML"
   ]
  },
  {
   "cell_type": "code",
   "execution_count": 102,
   "metadata": {},
   "outputs": [],
   "source": [
    "# write as r-deFBA or as deFBA model\n",
    "rdefba = True"
   ]
  },
  {
   "cell_type": "code",
   "execution_count": 131,
   "metadata": {},
   "outputs": [],
   "source": [
    "if rdefba:\n",
    "    # delete contents when opening the file\n",
    "    f = open('model_rdeFBA.xml', 'w').close()\n",
    "    f = open('model_rdeFBA.xml', 'w')\n",
    "else:\n",
    "    # delete contents when opening the file\n",
    "    f = open('model_deFBA.xml', 'w').close()\n",
    "    f = open('model_deFBA.xml', 'w')"
   ]
  },
  {
   "cell_type": "markdown",
   "metadata": {},
   "source": [
    "## First lines"
   ]
  },
  {
   "cell_type": "code",
   "execution_count": 132,
   "metadata": {},
   "outputs": [
    {
     "data": {
      "text/plain": [
       "39"
      ]
     },
     "execution_count": 132,
     "metadata": {},
     "output_type": "execute_result"
    }
   ],
   "source": [
    "# XML definition\n",
    "f.write(\"<?xml version=\\\"1.0\\\" encoding=\\\"UTF-8\\\"?>\\n\")"
   ]
  },
  {
   "cell_type": "code",
   "execution_count": 133,
   "metadata": {},
   "outputs": [],
   "source": [
    "# SBML definition\n",
    "if rdefba: # including QUAL\n",
    "    f.write(\"<sbml xmlns=\\\"http://www.sbml.org/sbml/level3/version2/core\\\" level=\\\"3\\\" version=\\\"2\\\" xmlns:fbc=\\\"http://www.sbml.org/sbml/level3/version1/fbc/version2\\\" fbc:required=\\\"false\\\" xmlns:qual=\\\"http://www.sbml.org/sbml/level3/version1/qual/version1\\\" qual:required=\\\"true\\\">\\n\")\n",
    "else: # without QUAL\n",
    "    f.write(\"<sbml xmlns=\\\"http://www.sbml.org/sbml/level3/version2/core\\\" level=\\\"3\\\" version=\\\"2\\\" xmlns:fbc=\\\"http://www.sbml.org/sbml/level3/version1/fbc/version2\\\" fbc:required=\\\"false\\\">\\n\")"
   ]
  },
  {
   "cell_type": "markdown",
   "metadata": {},
   "source": [
    "fbc strict bei SBML definition?"
   ]
  },
  {
   "cell_type": "code",
   "execution_count": 134,
   "metadata": {},
   "outputs": [],
   "source": [
    "# Model Definition\n",
    "if rdefba:\n",
    "    f.write(\"<model id=\\\"Covert2002_rdeFBA\\\" name=\\\"Covert2002_rdeFBA\\\" fbc:strict=\\\"false\\\">\\n\\n\")\n",
    "else:\n",
    "    f.write(\"<model id=\\\"Covert2002_deFBA\\\" name=\\\"Covert2002_deFBA\\\" fbc:strict=\\\"false\\\">\\n\\n\")"
   ]
  },
  {
   "cell_type": "markdown",
   "metadata": {},
   "source": [
    "## List of Compartments"
   ]
  },
  {
   "cell_type": "code",
   "execution_count": 135,
   "metadata": {},
   "outputs": [
    {
     "data": {
      "text/plain": [
       "140"
      ]
     },
     "execution_count": 135,
     "metadata": {},
     "output_type": "execute_result"
    }
   ],
   "source": [
    "f.write(\"<listOfCompartments>\\n\\t<compartment id=\\\"extracellular\\\" constant=\\\"true\\\"/>\\n\\t<compartment id=\\\"cytosol\\\" constant=\\\"true\\\"/>\\n</listOfCompartments>\\n\\n\")"
   ]
  },
  {
   "cell_type": "markdown",
   "metadata": {},
   "source": [
    "## List of Parameters"
   ]
  },
  {
   "cell_type": "code",
   "execution_count": 136,
   "metadata": {
    "scrolled": false
   },
   "outputs": [
    {
     "data": {
      "text/plain": [
       "93"
      ]
     },
     "execution_count": 136,
     "metadata": {},
     "output_type": "execute_result"
    }
   ],
   "source": [
    "if rdefba:\n",
    "    f.write(\"<listOfParameters>\\n\\t<parameter id=\\\"main\\\" value=\\\"0.25\\\" constant=\\\"true\\\"/>\\n</listOfParameters>\\n\\n\")\n",
    "else:\n",
    "    f.write(\"<listOfParameters>\\n\\t<parameter id=\\\"main\\\" value=\\\"0.25\\\" constant=\\\"true\\\"/>\\n</listOfParameters>\\n\\n\")"
   ]
  },
  {
   "cell_type": "markdown",
   "metadata": {},
   "source": [
    "## List of Qualitative Species (only if rdefba)"
   ]
  },
  {
   "cell_type": "code",
   "execution_count": null,
   "metadata": {},
   "outputs": [],
   "source": [
    "if rdefba:\n",
    "    f.write(\"<qual:listOfQualitativeSpecies>\\n\")\n",
    "    for index, value in regulated['bool_ID'].items():\n",
    "        f.write(\"\\t<qual:qualitativeSpecies qual:id=\\\"\"+value+\"\\\" qual:maxLevel=\\\"1\\\" qual:compartment=\\\"cytosol\\\" qual:constant=\\\"false\\\"/>\\n\")\n",
    "    f.write(\"</qual:listOfQualitativeSpecies>\\n\")"
   ]
  },
  {
   "cell_type": "markdown",
   "metadata": {},
   "source": [
    "## List of Species"
   ]
  },
  {
   "cell_type": "code",
   "execution_count": 137,
   "metadata": {},
   "outputs": [
    {
     "data": {
      "text/plain": [
       "16"
      ]
     },
     "execution_count": 137,
     "metadata": {},
     "output_type": "execute_result"
    }
   ],
   "source": [
    "f.write(\"<listOfSpecies>\\n\")"
   ]
  },
  {
   "cell_type": "markdown",
   "metadata": {},
   "source": [
    "### Metabolites"
   ]
  },
  {
   "cell_type": "markdown",
   "metadata": {},
   "source": [
    "#### extracellular metabolites $\\mathcal{Y}$"
   ]
  },
  {
   "cell_type": "code",
   "execution_count": 138,
   "metadata": {},
   "outputs": [],
   "source": [
    "for index, value in extracellular['id'].items():\n",
    "    f.write(\"<species id=\\\"\"+value+\"\\\" name=\\\"\"+extracellular['name'][index]+\"\\\" compartment=\\\"extracellular\\\" initialAmount=\\\"\"+str(extracellular['initialAmount'][index])+\"\\\" constant=\\\"false\\\" boundaryCondition=\\\"false\\\" hasOnlySubstanceUnits=\\\"true\\\">\\n\")\n",
    "    f.write(\"\\t<annotation>\\n\\t\\t<ram:RAM xmlns:ram=\\\"https://www.fairdomhub.org/sops/304\\\">\\n\\t\\t\\t<ram:species ram:molecularWeight=\\\"0.0\\\" ram:objectiveWeight=\\\"0.0\\\" ram:biomassPercentage=\\\"0.0\\\" ram:speciesType=\\\"extracellular\\\"/>\\n\\t\\t</ram:RAM>\\n\\t</annotation>\\n</species>\\n\")"
   ]
  },
  {
   "cell_type": "markdown",
   "metadata": {},
   "source": [
    "#### extracellular metabolites $\\mathcal{X}$"
   ]
  },
  {
   "cell_type": "code",
   "execution_count": 139,
   "metadata": {},
   "outputs": [],
   "source": [
    "for index, value in intracellular['id'].items():\n",
    "    f.write(\"<species id=\\\"\"+value+\"\\\" name=\\\"\"+intracellular['name'][index]+\"\\\" compartment=\\\"cytosol\\\" initialAmount=\\\"0.0\\\" constant=\\\"false\\\" boundaryCondition=\\\"false\\\" hasOnlySubstanceUnits=\\\"true\\\">\\n\")\n",
    "    f.write(\"\\t<annotation>\\n\\t\\t<ram:RAM xmlns:ram=\\\"https://www.fairdomhub.org/sops/304\\\">\\n\\t\\t\\t<ram:species ram:molecularWeight=\\\"0.0\\\" ram:objectiveWeight=\\\"0.0\\\" ram:biomassPercentage=\\\"0.0\\\" ram:speciesType=\\\"metabolite\\\"/>\\n\\t\\t</ram:RAM>\\n\\t</annotation>\\n</species>\\n\")"
   ]
  },
  {
   "cell_type": "markdown",
   "metadata": {},
   "source": [
    "### Macromolecules $\\mathcal{P}$"
   ]
  },
  {
   "cell_type": "markdown",
   "metadata": {},
   "source": [
    "#### Enzymes $\\mathcal{E}$ (including Ribosome)"
   ]
  },
  {
   "cell_type": "code",
   "execution_count": 140,
   "metadata": {},
   "outputs": [],
   "source": [
    "for index, value in enzymes['id'].items():\n",
    "    f.write(\"<species id=\\\"\"+value+\"\\\" name=\\\"\"+enzymes['name'][index]+\"\\\" compartment=\\\"cytosol\\\" initialAmount=\\\"\"+str(enzymes['initialAmount'][index])+\"\\\" constant=\\\"false\\\" boundaryCondition=\\\"false\\\" hasOnlySubstanceUnits=\\\"true\\\">\\n\")\n",
    "    f.write(\"\\t<annotation>\\n\\t\\t<ram:RAM xmlns:ram=\\\"https://www.fairdomhub.org/sops/304\\\">\\n\\t\\t\\t<ram:species ram:molecularWeight=\\\"\"+str(enzymes['ram:molecularWeight'][index])+\"\\\" ram:objectiveWeight=\\\"\"+str(enzymes['ram:objectiveWeight'][index])+\"\\\" ram:biomassPercentage=\\\"0.0\\\" ram:speciesType=\\\"enzyme\\\"/>\\n\\t\\t</ram:RAM>\\n\\t</annotation>\\n</species>\\n\")"
   ]
  },
  {
   "cell_type": "markdown",
   "metadata": {},
   "source": [
    "#### Regulatory Proteins $\\mathcal{RP}$"
   ]
  },
  {
   "cell_type": "code",
   "execution_count": 141,
   "metadata": {},
   "outputs": [],
   "source": [
    "for index, value in rp['id'].items():\n",
    "    f.write(\"<species id=\\\"\"+value+\"\\\" name=\\\"\"+rp['name'][index]+\"\\\" compartment=\\\"cytosol\\\" initialAmount=\\\"\"+str(rp['initialAmount'][index])+\"\\\" constant=\\\"false\\\" boundaryCondition=\\\"false\\\" hasOnlySubstanceUnits=\\\"true\\\">\\n\")\n",
    "    f.write(\"\\t<annotation>\\n\\t\\t<ram:RAM xmlns:ram=\\\"https://www.fairdomhub.org/sops/304\\\">\\n\\t\\t\\t<ram:species ram:molecularWeight=\\\"\"+str(rp['ram:molecularWeight'][index])+\"\\\" ram:objectiveWeight=\\\"\"+str(rp['ram:objectiveWeight'][index])+\"\\\" ram:biomassPercentage=\\\"0.0\\\" ram:speciesType=\\\"enzyme\\\"/>\\n\\t\\t</ram:RAM>\\n\\t</annotation>\\n</species>\\n\")"
   ]
  },
  {
   "cell_type": "markdown",
   "metadata": {},
   "source": [
    "#### Quota $\\mathcal{Q}$"
   ]
  },
  {
   "cell_type": "code",
   "execution_count": 142,
   "metadata": {},
   "outputs": [],
   "source": [
    "for index, value in quota['ID'].items():\n",
    "    f.write(\"<species id=\\\"\"+value+\"\\\" compartment=\\\"cytosol\\\" initialAmount=\\\"\"+str(quota['initialAmount'][index])+\"\\\" constant=\\\"false\\\" boundaryCondition=\\\"false\\\" hasOnlySubstanceUnits=\\\"true\\\">\\n\")\n",
    "    f.write(\"\\t<annotation>\\n\\t\\t<ram:RAM xmlns:ram=\\\"https://www.fairdomhub.org/sops/304\\\">\\n\\t\\t\\t<ram:species ram:molecularWeight=\\\"\"+str(quota['ram:molecularWeight'][index])+\"\\\" ram:objectiveWeight=\\\"\"+str(quota['ram:objectiveWeight'][index])+\"\\\" ram:biomassPercentage=\\\"\"+str(quota['ram:biomassPercentage'][index])+\"\\\" ram:speciesType=\\\"quota\\\"/>\\n\\t\\t</ram:RAM>\\n\\t</annotation>\\n</species>\\n\")    "
   ]
  },
  {
   "cell_type": "code",
   "execution_count": 143,
   "metadata": {},
   "outputs": [
    {
     "data": {
      "text/plain": [
       "18"
      ]
     },
     "execution_count": 143,
     "metadata": {},
     "output_type": "execute_result"
    }
   ],
   "source": [
    "f.write(\"</listOfSpecies>\\n\\n\")"
   ]
  },
  {
   "cell_type": "markdown",
   "metadata": {},
   "source": [
    "## List of Reactions $\\mathcal{R}$"
   ]
  },
  {
   "cell_type": "code",
   "execution_count": 144,
   "metadata": {},
   "outputs": [
    {
     "data": {
      "text/plain": [
       "18"
      ]
     },
     "execution_count": 144,
     "metadata": {},
     "output_type": "execute_result"
    }
   ],
   "source": [
    "f.write(\"<listOfReactions>\\n\")"
   ]
  },
  {
   "cell_type": "markdown",
   "metadata": {},
   "source": [
    "### Metabolic Reactions $\\mathcal{R_X}$ and $\\mathcal{R_Y}$"
   ]
  },
  {
   "cell_type": "code",
   "execution_count": 145,
   "metadata": {},
   "outputs": [],
   "source": [
    "stoich = 1.0\n",
    "stoich_bool = False\n",
    "for index, value in reactions_turnover['Covert ID'].items():\n",
    "    f.write(\"<reaction id=\\\"\"+value+\"\\\" reversible=\\\"\"+str(reactions_turnover['reversible'][index]).lower()+\"\\\">\\n\\t<annotation>\\n\\t\\t<ram:RAM xmlns:ram=\\\"https://www.fairdomhub.org/sops/304\\\">\\n\\t\\t\\t<ram:reaction ram:kcatForward=\\\"\"+str(reactions_turnover['kcat_fwd/h'][index])+\"\\\" ram:kcatBackward=\\\"\"+str(reactions_turnover['kcat_bwd/h'][index])+\"\\\" ram:maintenanceScaling=\\\"0.0\\\"/>\\n\\t\\t</ram:RAM>\\n\\t</annotation>\\n\")\n",
    "    if pd.isna(reactions_turnover['Gene'][index]): # spontaneous reactions\n",
    "        pass\n",
    "    else:\n",
    "        f.write(\"\\t<fbc:geneProductAssociation fbc:id=\\\"E_\"+value+\"\\\">\\n\\t\\t<fbc:geneProductRef fbc:geneProduct=\\\"E_\"+value+\"\\\"/>\\n\\t</fbc:geneProductAssociation>\\n\")\n",
    "    f.write(\"\\t<listOfReactants>\\n\")\n",
    "    for g in re.split(r'[+\\s]\\s*', reactions_turnover['Reaction'][index]):\n",
    "        if '-' in g:\n",
    "            f.write(\"\\t</listOfReactants>\\n\\t<listOfProducts>\\n\")\n",
    "        else:\n",
    "            try:\n",
    "                stoich = float(g)\n",
    "                stoich_bool = True\n",
    "            except ValueError:\n",
    "                if g == \"\":\n",
    "                    pass\n",
    "                else:\n",
    "                    if stoich_bool == False:\n",
    "                        stoich = 1.0\n",
    "                    f.write(\"\\t\\t<speciesReference species=\\\"\"+g+\"\\\" stoichiometry=\\\"\"+str(stoich)+\"\\\" constant=\\\"true\\\"/>\\n\")\n",
    "                    stoich_bool = False\n",
    "    f.write(\"\\t</listOfProducts>\\n</reaction>\\n\")"
   ]
  },
  {
   "cell_type": "markdown",
   "metadata": {},
   "source": [
    "### Translation Reactions $\\mathcal{R_P}$"
   ]
  },
  {
   "cell_type": "code",
   "execution_count": 146,
   "metadata": {},
   "outputs": [],
   "source": [
    "for index, value in translation['ID'].items():\n",
    "    if any(c.islower() for c in value):\n",
    "        identifier = 'RP_' + value[2:]\n",
    "    else:\n",
    "        identifier = 'E_' + value[2:]\n",
    "    f.write(\"<reaction id=\\\"\"+value+\"\\\" reversible=\\\"false\\\">\\n\\t<annotation>\\n\\t\\t<ram:RAM xmlns:ram=\\\"https://www.fairdomhub.org/sops/304\\\">\\n\\t\\t\\t<ram:reaction ram:kcatForward=\\\"\"+str(translation['ram:kcatForward'][index])+\"\\\" ram:kcatBackward=\\\"0.0\\\" ram:maintenanceScaling=\\\"0.0\\\"/>\\n\\t\\t</ram:RAM>\\n\\t</annotation>\\n\")    \n",
    "    f.write(\"\\t<fbc:geneProductAssociation fbc:id=\\\"E_R\\\">\\n\\t\\t<fbc:geneProductRef fbc:geneProduct=\\\"E_R\\\"/>\\n\\t</fbc:geneProductAssociation>\\n\")\n",
    "    f.write(\"\\t<listOfReactants>\\n\\t\\t<speciesReference species=\\\"Z\\\" stoichiometry=\\\"\"+str(translation['Length'][index])+\"\\\" constant=\\\"true\\\"/>\\n\\t\\t<speciesReference species=\\\"ATP\\\" stoichiometry=\\\"\"+str(translation['Length'][index]*4)+\"\\\" constant=\\\"true\\\"/>\\n\\t</listOfReactants>\\n\")\n",
    "    f.write(\"\\t<listOfProducts>\\n\\t\\t<speciesReference species=\\\"\"+identifier+\"\\\" stoichiometry=\\\"1.0\\\" constant=\\\"true\\\"/>\\n\\t\\t<speciesReference species=\\\"ADP\\\" stoichiometry=\\\"\"+str(translation['Length'][index]*4)+\"\\\" constant=\\\"true\\\"/>\\n\\t\\t<speciesReference species=\\\"PI\\\" stoichiometry=\\\"\"+str(translation['Length'][index]*4)+\"\\\" constant=\\\"true\\\"/>\\n\\t</listOfProducts>\\n</reaction>\\n\")\n",
    "# 3 ATP: 1x ATP-AMT, 2x GTP-GDP (AMP und PPI sind im model!)"
   ]
  },
  {
   "cell_type": "markdown",
   "metadata": {},
   "source": [
    "### Quota: nur für quota rest! quota protein is bei translation!\n",
    "(if isnan(quota[\"gene\"]))..."
   ]
  },
  {
   "cell_type": "code",
   "execution_count": 147,
   "metadata": {},
   "outputs": [],
   "source": [
    "stoich = 1.0\n",
    "stoich_bool = False\n",
    "for index, value in quota['ID'].items():\n",
    "    f.write(\"<reaction id=\\\"Production_\"+value+\"\\\" reversible=\\\"false\\\">\\n\\t<annotation>\\n\\t\\t<ram:RAM xmlns:ram=\\\"https://www.fairdomhub.org/sops/304\\\">\\n\\t\\t\\t<ram:reaction ram:kcatForward=\\\"\"+str(quota['kcat_fwd'][index])+\"\\\" ram:kcatBackward=\\\"0.0\\\" ram:maintenanceScaling=\\\"0.0\\\"/>\\n\\t\\t</ram:RAM>\\n\\t</annotation>\\n\")\n",
    "    if pd.isna(quota['Gene'][index]): # spontaneous reactions\n",
    "        pass\n",
    "    else:\n",
    "        f.write(\"\\t<fbc:geneProductAssociation fbc:id=\\\"E_R\\\">\\n\\t\\t<fbc:geneProductRef fbc:geneProduct=\\\"E_R\\\"/>\\n\\t</fbc:geneProductAssociation>\\n\")\n",
    "    f.write(\"\\t<listOfReactants>\\n\")\n",
    "    for g in re.split(r'[+\\s]\\s*', quota['Reaction'][index]):\n",
    "        if '-' in g:\n",
    "            f.write(\"\\t</listOfReactants>\\n\\t<listOfProducts>\\n\")\n",
    "        else:\n",
    "            try:\n",
    "                stoich = float(g)\n",
    "                stoich_bool = True\n",
    "            except ValueError:\n",
    "                if g == \"\":\n",
    "                    pass\n",
    "                else:\n",
    "                    if stoich_bool == False:\n",
    "                        stoich = 1.0\n",
    "                    if g =='Biomass':\n",
    "                        g = 'Quota_R'\n",
    "                    f.write(\"\\t\\t<speciesReference species=\\\"\"+g+\"\\\" stoichiometry=\\\"\"+str(stoich)+\"\\\" constant=\\\"true\\\"/>\\n\")\n",
    "                    stoich_bool = False\n",
    "    f.write(\"\\t</listOfProducts>\\n</reaction>\\n\")"
   ]
  },
  {
   "cell_type": "markdown",
   "metadata": {},
   "source": [
    "### Maintenance Reaction"
   ]
  },
  {
   "cell_type": "code",
   "execution_count": 320,
   "metadata": {
    "scrolled": true
   },
   "outputs": [
    {
     "name": "stdout",
     "output_type": "stream",
     "text": [
      "<reaction id=\"Maintenance\" name=\"Maintenance\" reversible=\"false\">\n",
      "\t<annotation>\n",
      "\t\t<ram:RAM xmlns:ram=\"https://www.fairdomhub.org/sops/304\">\n",
      "\t\t\t<ram:reaction ram:kcatForward=\"\" ram:kcatBackward=\"\" ram:maintenanceScaling=\"main\"/>\n",
      "\t\t</ram:RAM>\n",
      "\t</annotation>\n",
      "\t<listOfReactants>\n",
      "\t\t<speciesReference species=\"ATP\" stoichiometry=\"1\" constant=\"true\"/>\n",
      "\t</listOfReactants>\n",
      "\t<listOfProducts>\n",
      "\t\t<speciesReference species=\"ADP\" stoichiometry=\"1\" constant=\"true\"/>\n",
      "\t\t<speciesReference species=\"PI\" stoichiometry=\"1\" constant=\"true\"/>\n",
      "\t</listOfProducts>\n",
      "</reaction>\n",
      "\n"
     ]
    }
   ],
   "source": [
    "print(\"<reaction id=\\\"Maintenance\\\" name=\\\"Maintenance\\\" reversible=\\\"false\\\">\\n\\t<annotation>\\n\\t\\t<ram:RAM xmlns:ram=\\\"https://www.fairdomhub.org/sops/304\\\">\\n\\t\\t\\t<ram:reaction ram:kcatForward=\\\"\\\" ram:kcatBackward=\\\"\\\" ram:maintenanceScaling=\\\"main\\\"/>\\n\\t\\t</ram:RAM>\\n\\t</annotation>\\n\\t<listOfReactants>\\n\\t\\t<speciesReference species=\\\"ATP\\\" stoichiometry=\\\"1\\\" constant=\\\"true\\\"/>\\n\\t</listOfReactants>\\n\\t<listOfProducts>\\n\\t\\t<speciesReference species=\\\"ADP\\\" stoichiometry=\\\"1\\\" constant=\\\"true\\\"/>\\n\\t\\t<speciesReference species=\\\"PI\\\" stoichiometry=\\\"1\\\" constant=\\\"true\\\"/>\\n\\t</listOfProducts>\\n</reaction>\\n\")"
   ]
  },
  {
   "cell_type": "code",
   "execution_count": 149,
   "metadata": {},
   "outputs": [
    {
     "data": {
      "text/plain": [
       "20"
      ]
     },
     "execution_count": 149,
     "metadata": {},
     "output_type": "execute_result"
    }
   ],
   "source": [
    "f.write(\"</listOfReactions>\\n\\n\")"
   ]
  },
  {
   "cell_type": "markdown",
   "metadata": {},
   "source": [
    "## List of Gene Products"
   ]
  },
  {
   "cell_type": "markdown",
   "metadata": {},
   "source": [
    "### Enzymes (including Ribosome)"
   ]
  },
  {
   "cell_type": "code",
   "execution_count": 150,
   "metadata": {},
   "outputs": [
    {
     "data": {
      "text/plain": [
       "25"
      ]
     },
     "execution_count": 150,
     "metadata": {},
     "output_type": "execute_result"
    }
   ],
   "source": [
    "f.write(\"<fbc:listOfGeneProducts>\\n\")"
   ]
  },
  {
   "cell_type": "code",
   "execution_count": 151,
   "metadata": {},
   "outputs": [],
   "source": [
    "for index, value in enzymes['id'].items():\n",
    "    f.write(\"\\t<fbc:geneProduct fbc:id=\\\"\"+value+\"\\\" fbc:label=\\\"\"+enzymes['Gene'][index]+\"_\"+value[2:]+\"\\\" fbc:associatedSpecies=\\\"\"+value+\"\\\"/>\\n\")\n",
    "# Gene_Protein in order to have unique fbc:label values"
   ]
  },
  {
   "cell_type": "markdown",
   "metadata": {},
   "source": [
    "### Regulatory Proteins"
   ]
  },
  {
   "cell_type": "code",
   "execution_count": 152,
   "metadata": {},
   "outputs": [],
   "source": [
    "for index, value in rp['id'].items():\n",
    "    f.write(\"\\t<fbc:geneProduct fbc:id=\\\"\"+value+\"\\\" fbc:label=\\\"\"+rp['Gene'][index]+\"\\\" fbc:associatedSpecies=\\\"\"+value+\"\\\"/>\\n\")"
   ]
  },
  {
   "cell_type": "code",
   "execution_count": 153,
   "metadata": {},
   "outputs": [
    {
     "data": {
      "text/plain": [
       "27"
      ]
     },
     "execution_count": 153,
     "metadata": {},
     "output_type": "execute_result"
    }
   ],
   "source": [
    "f.write(\"</fbc:listOfGeneProducts>\\n\\n\")"
   ]
  },
  {
   "cell_type": "markdown",
   "metadata": {},
   "source": [
    "## Last lines"
   ]
  },
  {
   "cell_type": "code",
   "execution_count": 154,
   "metadata": {},
   "outputs": [
    {
     "data": {
      "text/plain": [
       "7"
      ]
     },
     "execution_count": 154,
     "metadata": {},
     "output_type": "execute_result"
    }
   ],
   "source": [
    "f.write(\"</model>\\n\")\n",
    "f.write(\"</sbml>\")"
   ]
  },
  {
   "cell_type": "code",
   "execution_count": 155,
   "metadata": {},
   "outputs": [],
   "source": [
    "f.close()"
   ]
  },
  {
   "cell_type": "code",
   "execution_count": null,
   "metadata": {},
   "outputs": [],
   "source": []
  }
 ],
 "metadata": {
  "kernelspec": {
   "display_name": "Python 3",
   "language": "python",
   "name": "python3"
  },
  "language_info": {
   "codemirror_mode": {
    "name": "ipython",
    "version": 3
   },
   "file_extension": ".py",
   "mimetype": "text/x-python",
   "name": "python",
   "nbconvert_exporter": "python",
   "pygments_lexer": "ipython3",
   "version": "3.7.7"
  }
 },
 "nbformat": 4,
 "nbformat_minor": 4
}
