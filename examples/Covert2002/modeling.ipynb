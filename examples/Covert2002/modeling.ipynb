{
 "cells": [
  {
   "cell_type": "code",
   "execution_count": 165,
   "metadata": {},
   "outputs": [],
   "source": [
    "import pandas as pd\n",
    "import numpy as np\n",
    "import re"
   ]
  },
  {
   "cell_type": "markdown",
   "metadata": {},
   "source": [
    "# Read original rFBA model\n",
    "\n",
    "PDF file needs to be parsed manually...\n",
    "\n",
    "(in order to be in accordance with the syntax of 'id' attribute values of the SBML type 'SId' (Reference: L3V2 Section 3.1.7), the metabolites 13PDG, 2PG, and 3PG were renamed to PDG13, PG2, and PG3, respectively.)"
   ]
  },
  {
   "cell_type": "code",
   "execution_count": 166,
   "metadata": {},
   "outputs": [],
   "source": [
    "#import PyPDF2\n",
    "#pdfFileObj = open('Covert2002/SI.pdf', 'rb')\n",
    "#pdfReader = PyPDF2.PdfFileReader(pdfFileObj)\n",
    "#pageObj = pdfReader.getPage(3)\n",
    "#pageObj.extractText()"
   ]
  },
  {
   "cell_type": "code",
   "execution_count": 167,
   "metadata": {},
   "outputs": [],
   "source": [
    "# reactions\n",
    "SI1 = pd.read_csv('SI-1.tsv', sep='\\t')"
   ]
  },
  {
   "cell_type": "code",
   "execution_count": 168,
   "metadata": {
    "scrolled": false
   },
   "outputs": [],
   "source": [
    "# metabolites\n",
    "SI2 = pd.read_csv('SI-2.tsv', sep='\\t')\n",
    "SI2 = SI2.sort_values(by=['id'])"
   ]
  },
  {
   "cell_type": "markdown",
   "metadata": {},
   "source": [
    "## Add Amino Acid-producing enzyme and Ribosome"
   ]
  },
  {
   "cell_type": "code",
   "execution_count": 169,
   "metadata": {},
   "outputs": [],
   "source": [
    "SI1 = SI1.append({'ID': 'ASPT', 'Protein': 'L-aspartase', 'Gene': 'aspA', 'Reaction': 'FUM <-> Z'}, ignore_index=True)\n",
    "SI1 = SI1.append({'ID': 'R', 'Protein': 'Ribosome', 'Gene': 'rplA, rplB, rplC, rplD, rplE, rplF, rplI, rplJ, rplK, rplL, rplM, rplN, rplO, rplP, rplQ, rplR, rplS, rplT, rplU, rplV, rplW, rplX, rplY, rpmA, rpmB, rpmC, rpmD, rpmE, rpmF, rpmG, rpmH, rpmI, rpmJ, rpsA, rpsB, rpsC, rpsD, rpsE, rpsF, rpsG, rpsH, rpsI, rpsJ, rpsK, rpsL, rpsM, rpsN, rpsO, rpsP, rpsQ, rpsR, rpsS, rpsT, rpsU'}, ignore_index=True)"
   ]
  },
  {
   "cell_type": "markdown",
   "metadata": {},
   "source": [
    "## Reformulate gene IDs"
   ]
  },
  {
   "cell_type": "code",
   "execution_count": 170,
   "metadata": {},
   "outputs": [],
   "source": [
    "# Reformulation of \"lumped\" IDs\n",
    "SI1.loc[SI1.ID == 'ACEE', 'Gene'] = 'aceE, aceF, lpdA'\n",
    "SI1.loc[SI1.ID == 'ATPAR', 'Gene'] = 'atpA, atpB, atpC, atpD, atpE, atpF, atpG, atpH, atpI'\n",
    "SI1.loc[SI1.ID == 'CYDA', 'Gene'] = 'cydA, cydB'\n",
    "SI1.loc[SI1.ID == 'CYOA', 'Gene'] = 'cyoA, cyoB, cyoC, cyoD'\n",
    "SI1.loc[SI1.ID == 'FDNG', 'Gene'] = 'fdnG, fdnH, fdnI'\n",
    "SI1.loc[SI1.ID == 'FDOH', 'Gene'] = 'fdoI, fdoH, fdoG'\n",
    "SI1.loc[SI1.ID == 'FRDA', 'Gene'] = 'frdA, frdB, frdC, frdD'\n",
    "SI1.loc[SI1.ID == 'GLPA', 'Gene'] = 'glpA, glpB, glpC'\n",
    "SI1.loc[SI1.ID == 'NUOA', 'Gene'] = 'nuoA, nuoB, nuoE, nuoF, nuoG, nuoH, nuoI, nuoJ, nuoK, nuoL, nuoM, nuoN'\n",
    "SI1.loc[SI1.ID == 'PFLA', 'Gene'] = 'pflA, pflB'\n",
    "SI1.loc[SI1.ID == 'PFLC', 'Gene'] = 'pflC, pflD'\n",
    "SI1.loc[SI1.ID == 'PNTA1', 'Gene'] = 'pntA, pntB'\n",
    "SI1.loc[SI1.ID == 'PNTA2', 'Gene'] = 'pntA, pntB'\n",
    "SI1.loc[SI1.ID == 'SDHA1', 'Gene'] = 'sdhA, sdhB, sdhC, sdhD'\n",
    "SI1.loc[SI1.ID == 'SDHA2', 'Gene'] = 'sdhA, sdhB, sdhC, sdhD'\n",
    "SI1.loc[SI1.ID == 'SUCA', 'Gene'] = 'sucA, sucB, lpdA'\n",
    "SI1.loc[SI1.ID == 'SUCCR', 'Gene'] = 'sucC, sucD'\n",
    "SI1.loc[SI1.ID == 'GLCPTS', 'Gene'] = 'ptsG, ptsH, ptsI, crr'\n",
    "SI1.loc[SI1.ID == 'PIUP2R', 'Gene'] = 'pitA, pitB'\n",
    "SI1.loc[SI1.ID == 'RIBUPR', 'Gene'] = 'rbsA, rbsB, rbsC, rbsD'"
   ]
  },
  {
   "cell_type": "code",
   "execution_count": 171,
   "metadata": {},
   "outputs": [],
   "source": [
    "# manual curation\n",
    "SI1.loc[SI1.Protein == 'Catabolite activator protein', 'Gene'] = 'cra' # 'cra (fruR)' - beide Namen bezeichnen das gleiche Gen\n",
    "SI1.loc[SI1.ID == 'GLCUP', 'Gene'] = 'galP' # 'galP, etc.' - galP ist ausreichend\n",
    "SI1.loc[SI1.ID == 'PCKA', 'Gene'] = 'pck' # 'pckA'\n",
    "SI1.loc[SI1.ID == 'SFCA', 'Gene'] = 'maeA' # 'sfcA'\n",
    "SI1.loc[SI1.ID == 'GPMBR', 'Gene'] = 'gpmA' # 'sfcA' - gpmB gibt es nicht; gpmA katalysiert die gleiche Reaktion"
   ]
  },
  {
   "cell_type": "code",
   "execution_count": 172,
   "metadata": {},
   "outputs": [],
   "source": [
    "genes_list = []\n",
    "\n",
    "for index, value in SI1['Gene'].items():\n",
    "    if isinstance(value, str):\n",
    "        for g in value.split(', '):\n",
    "            if g not in genes_list:\n",
    "                genes_list.append(g)"
   ]
  },
  {
   "cell_type": "markdown",
   "metadata": {},
   "source": [
    "# Species"
   ]
  },
  {
   "cell_type": "code",
   "execution_count": 173,
   "metadata": {},
   "outputs": [],
   "source": [
    "# Split SI2 into intra- and extracellular metabolites\n",
    "\n",
    "# add column with boolean variable\n",
    "SI2['external'] = 1\n",
    "SI2['external'] = SI2['name'].str.contains(\"External\")\n",
    "\n",
    "# split dataset\n",
    "extracellular = SI2.query(\"external\")\n",
    "intracellular = SI2.query(\"external == False\")"
   ]
  },
  {
   "cell_type": "markdown",
   "metadata": {},
   "source": [
    "## Intracellular Metabolites $\\mathcal{X}$"
   ]
  },
  {
   "cell_type": "code",
   "execution_count": 174,
   "metadata": {},
   "outputs": [],
   "source": [
    "# drop boolean column\n",
    "intracellular = intracellular.drop(['external'], axis=1)"
   ]
  },
  {
   "cell_type": "code",
   "execution_count": 175,
   "metadata": {},
   "outputs": [],
   "source": [
    "# add amino acid\n",
    "intracellular = intracellular.append({'id': 'Z', 'name': 'amino acid'}, ignore_index=True)"
   ]
  },
  {
   "cell_type": "code",
   "execution_count": 176,
   "metadata": {},
   "outputs": [],
   "source": [
    "# add attributes\n",
    "intracellular[\"compartment\"] = 'cytosol'\n",
    "intracellular[\"constant\"] = 'false'\n",
    "intracellular[\"boundaryCondition\"] = 'false'\n",
    "intracellular[\"hasOnlySubstanceUnits\"] = 'true'\n",
    "intracellular[\"ram:speciesType\"] = 'metabolite'"
   ]
  },
  {
   "cell_type": "markdown",
   "metadata": {},
   "source": [
    "## Extracellular Metabolites $\\mathcal{Y}$"
   ]
  },
  {
   "cell_type": "code",
   "execution_count": 177,
   "metadata": {},
   "outputs": [],
   "source": [
    "# drop boolean column\n",
    "extracellular = extracellular.drop(['external'], axis=1)"
   ]
  },
  {
   "cell_type": "code",
   "execution_count": 178,
   "metadata": {},
   "outputs": [],
   "source": [
    "# abundant species\n",
    "extracellular.at[extracellular['id'] == 'CO2xt', 'initialAmount'] = 10000\n",
    "extracellular.at[extracellular['id'] == 'HEXT', 'initialAmount'] = 10000\n",
    "extracellular.at[extracellular['id'] == 'PIxt', 'initialAmount'] = 10000\n",
    "\n",
    "# potential product are initially zero\n",
    "extracellular.at[extracellular['id'] == 'ETHxt', 'initialAmount'] = 0\n",
    "extracellular.at[extracellular['id'] == 'FORxt', 'initialAmount'] = 0\n",
    "extracellular.at[extracellular['id'] == 'LACxt', 'initialAmount'] = 0\n",
    "extracellular.at[extracellular['id'] == 'LCTSxt', 'initialAmount'] = 0\n",
    "extracellular.at[extracellular['id'] == 'PYRxt', 'initialAmount'] = 0\n",
    "\n",
    "# carbon sources and O2: initial amount depends on the scenario; aerobic glucose as default:\n",
    "extracellular.at[extracellular['id'] == 'ACxt', 'initialAmount'] = 0\n",
    "extracellular.at[extracellular['id'] == 'GLCxt', 'initialAmount'] = 100\n",
    "extracellular.at[extracellular['id'] == 'GLxt', 'initialAmount'] = 0\n",
    "extracellular.at[extracellular['id'] == 'O2xt', 'initialAmount'] = 10000\n",
    "extracellular.at[extracellular['id'] == 'RIBxt', 'initialAmount'] = 0\n",
    "extracellular.at[extracellular['id'] == 'SUCCxt', 'initialAmount'] = 0"
   ]
  },
  {
   "cell_type": "code",
   "execution_count": 179,
   "metadata": {},
   "outputs": [],
   "source": [
    "# add attributes\n",
    "extracellular[\"compartment\"] = 'extracellular'\n",
    "extracellular[\"constant\"] = 'false'\n",
    "extracellular[\"boundaryCondition\"] = 'false' # not false for every species\n",
    "extracellular[\"hasOnlySubstanceUnits\"] = 'true'\n",
    "extracellular[\"ram:speciesType\"] = 'extracellular'"
   ]
  },
  {
   "cell_type": "markdown",
   "metadata": {},
   "source": [
    "## Macromolecules $\\mathcal{P}$"
   ]
  },
  {
   "cell_type": "markdown",
   "metadata": {},
   "source": [
    "### Enzymes $\\mathcal{E}$"
   ]
  },
  {
   "cell_type": "code",
   "execution_count": 180,
   "metadata": {},
   "outputs": [],
   "source": [
    "# create copy of first part of SI\n",
    "enzymes = SI1[['ID', 'Protein', 'Gene', 'Regulatory logic']].copy()"
   ]
  },
  {
   "cell_type": "code",
   "execution_count": 181,
   "metadata": {},
   "outputs": [],
   "source": [
    "# delete rows without ID (i.e. regulatory proteins), without Gene (i.e. spontaneous) or without Protein (exchange, biomass, maintenance)\n",
    "enzymes.dropna(subset=['ID', 'Protein', 'Gene'], inplace=True) # in place: Keep df with valid entries in the same variable"
   ]
  },
  {
   "cell_type": "code",
   "execution_count": 182,
   "metadata": {},
   "outputs": [],
   "source": [
    "# create enzyme IDs ('E_' + reaction id)\n",
    "enzymes[\"id\"] = 'E_' + enzymes[\"ID\"]\n",
    "enzymes = enzymes.drop(['ID'], axis=1) # delete old IDs\n",
    "enzymes = enzymes[['id', 'Protein', 'Gene', 'Regulatory logic']] # order columns"
   ]
  },
  {
   "cell_type": "code",
   "execution_count": 183,
   "metadata": {
    "scrolled": true
   },
   "outputs": [],
   "source": [
    "enzymes = enzymes.rename(columns={\"Protein\": \"name\"})"
   ]
  },
  {
   "cell_type": "code",
   "execution_count": 184,
   "metadata": {},
   "outputs": [],
   "source": [
    "# add attributes\n",
    "enzymes[\"compartment\"] = 'cytosol'\n",
    "enzymes[\"constant\"] = 'false'\n",
    "enzymes[\"boundaryCondition\"] = 'false'\n",
    "enzymes[\"hasOnlySubstanceUnits\"] = 'true'\n",
    "enzymes[\"initialAmount\"] = np.nan\n",
    "enzymes[\"ram:molecularWeight\"] = None # are set later\n",
    "enzymes[\"ram:objectiveWeight\"] = None # are set later\n",
    "enzymes[\"ram:biomassPercentage\"] = 0.0\n",
    "enzymes[\"ram:speciesType\"] = 'enzyme'\n",
    "enzymes[\"degradationRate\"] = 0.01"
   ]
  },
  {
   "cell_type": "code",
   "execution_count": 185,
   "metadata": {
    "scrolled": true
   },
   "outputs": [],
   "source": [
    "enzymes.at[enzymes[\"id\"] == \"R\", \"degradationRate\"] = 0.001"
   ]
  },
  {
   "cell_type": "markdown",
   "metadata": {},
   "source": [
    "### Regulatory Proteins $\\mathcal{RP}$"
   ]
  },
  {
   "cell_type": "code",
   "execution_count": 186,
   "metadata": {},
   "outputs": [],
   "source": [
    "# create copy of first part of SI\n",
    "rp = SI1[['ID', 'Protein', 'Gene']].copy()"
   ]
  },
  {
   "cell_type": "code",
   "execution_count": 187,
   "metadata": {},
   "outputs": [],
   "source": [
    "# keep rows without ID\n",
    "rp = rp[pd.isnull(rp['ID'])]\n",
    "rp = rp.drop(['ID'], axis=1)"
   ]
  },
  {
   "cell_type": "code",
   "execution_count": 188,
   "metadata": {},
   "outputs": [],
   "source": [
    "# rp id = 'RP_' + gene id\n",
    "rp[\"id\"] = 'RP_' + rp[\"Gene\"]\n",
    "rp = rp[['id', 'Protein', 'Gene']] # order columns"
   ]
  },
  {
   "cell_type": "code",
   "execution_count": 189,
   "metadata": {
    "scrolled": true
   },
   "outputs": [],
   "source": [
    "rp = rp.rename(columns={\"Protein\": \"name\"})"
   ]
  },
  {
   "cell_type": "code",
   "execution_count": 190,
   "metadata": {},
   "outputs": [],
   "source": [
    "# add attributes\n",
    "rp[\"compartment\"] = 'cytosol'\n",
    "rp[\"constant\"] = 'false'\n",
    "rp[\"boundaryCondition\"] = 'false'\n",
    "rp[\"hasOnlySubstanceUnits\"] = 'true'\n",
    "rp[\"initialAmount\"] = np.nan\n",
    "rp[\"ram:biomassPercentage\"] = 0.0\n",
    "rp[\"ram:molecularWeight\"] = None # are set later\n",
    "rp[\"ram:objectiveWeight\"] = None # are set later\n",
    "rp[\"ram:speciesType\"] = 'enzyme'\n",
    "rp[\"degradationRate\"] = 0.2"
   ]
  },
  {
   "cell_type": "markdown",
   "metadata": {},
   "source": [
    "### Quota $\\mathcal{Q}$"
   ]
  },
  {
   "cell_type": "code",
   "execution_count": 191,
   "metadata": {},
   "outputs": [],
   "source": [
    "quota = SI1[['Reaction']].loc[SI1['Protein'] == \"Biomass production flux\"]"
   ]
  },
  {
   "cell_type": "code",
   "execution_count": 192,
   "metadata": {},
   "outputs": [],
   "source": [
    "biomass_rxn = quota['Reaction'].values"
   ]
  },
  {
   "cell_type": "code",
   "execution_count": 193,
   "metadata": {},
   "outputs": [],
   "source": [
    "stoich = []\n",
    "spec = []\n",
    "product = False\n",
    "\n",
    "for s in biomass_rxn[0].split():\n",
    "    if '-' in s:\n",
    "        product = True\n",
    "    try:\n",
    "        s = float(s)\n",
    "        if product:\n",
    "            stoich.append(s)\n",
    "        else:\n",
    "            stoich.append(-s)\n",
    "    except ValueError:\n",
    "        if '+' not in s and '-' not in s:\n",
    "            spec.append(s)"
   ]
  },
  {
   "cell_type": "code",
   "execution_count": 194,
   "metadata": {},
   "outputs": [],
   "source": [
    "mw_mol = [503.15, 662.42, 741.38, 258.12, 258.12, 228.09, 198.07, 170.06, 183.03, 165.02, 87.05, 805.54, 130.06, 144.08, 763.50, 424.18, 94.98, 663.42, 740.38, 1000]\n",
    "mw_mmol = [mw/1000 for mw in mw_mol]"
   ]
  },
  {
   "cell_type": "code",
   "execution_count": 195,
   "metadata": {},
   "outputs": [],
   "source": [
    "biomass = pd.DataFrame({'id': spec, 'stoichiometry': stoich, 'molecular weight [g/mmol]': mw_mmol})"
   ]
  },
  {
   "cell_type": "code",
   "execution_count": 196,
   "metadata": {},
   "outputs": [],
   "source": [
    "biomass['weight [g]'] = biomass['stoichiometry'] * biomass['molecular weight [g/mmol]']"
   ]
  },
  {
   "cell_type": "code",
   "execution_count": 197,
   "metadata": {},
   "outputs": [],
   "source": [
    "# calculate weight of biomass\n",
    "educt_surplus = biomass['weight [g]'].sum() - 1.0 # subtract biomass 'weight'\n",
    "biomass_weight = -educt_surplus # new biomass weight equals educt surplus"
   ]
  },
  {
   "cell_type": "code",
   "execution_count": 198,
   "metadata": {},
   "outputs": [],
   "source": [
    "# set weight of 'biomass', which will be reformulated as Quota_rest\n",
    "biomass.at[biomass['id'] == 'Biomass', 'biomass_weight'] = biomass_weight"
   ]
  },
  {
   "cell_type": "markdown",
   "metadata": {},
   "source": [
    "Fraction of proteins $\\varphi_{\\mathrm{protein}}$ is set to 0.7 (for details, see report), so the 'remaining' quota will make up 30 %"
   ]
  },
  {
   "cell_type": "code",
   "execution_count": 199,
   "metadata": {},
   "outputs": [],
   "source": [
    "# add attributes for quota 'rest'\n",
    "quota[\"ID\"] = 'Quota_rest'\n",
    "quota[\"ram:molecularWeight\"] = biomass_weight\n",
    "quota[\"ram:objectiveWeight\"] = biomass_weight\n",
    "quota[\"ram:biomassPercentage\"] = 0.3\n",
    "quota[\"degradationRate\"] = 0.001"
   ]
  },
  {
   "cell_type": "markdown",
   "metadata": {},
   "source": [
    "#### adjust protein fraction $\\phi^*_{\\text{protein}}$\n",
    "Determine fraction of proteins explicitly modeled using data by *Li et al.* for E. coli on minimal medium"
   ]
  },
  {
   "cell_type": "code",
   "execution_count": 200,
   "metadata": {
    "scrolled": true
   },
   "outputs": [],
   "source": [
    "li = pd.read_csv('Li_minimal.tsv', sep='\\t')"
   ]
  },
  {
   "cell_type": "code",
   "execution_count": 201,
   "metadata": {},
   "outputs": [],
   "source": [
    "# add column specifying whether the protein is included in the model\n",
    "li['included'] = 1\n",
    "li['included'] = li['!Protein:Name'].isin(genes_list)"
   ]
  },
  {
   "cell_type": "code",
   "execution_count": 202,
   "metadata": {},
   "outputs": [],
   "source": [
    "li_included = li.query(\"included\")"
   ]
  },
  {
   "cell_type": "code",
   "execution_count": 203,
   "metadata": {},
   "outputs": [],
   "source": [
    "n_missing_genes = len(genes_list)-len(li_included)\n",
    "frac_explicit = li_included['!Abundance:[original]'].sum()/li['!Abundance:[original]'].sum()\n",
    "frac_adjusted = 0.55*(1-li_included['!Abundance:[original]'].sum()/li['!Abundance:[original]'].sum())"
   ]
  },
  {
   "cell_type": "code",
   "execution_count": 204,
   "metadata": {},
   "outputs": [
    {
     "name": "stdout",
     "output_type": "stream",
     "text": [
      "13 genes from the model are not included in the dataset by Li et al.\n"
     ]
    }
   ],
   "source": [
    "print(\"%i genes from the model are not included in the dataset by Li et al.\" %n_missing_genes)"
   ]
  },
  {
   "cell_type": "code",
   "execution_count": 205,
   "metadata": {
    "scrolled": true
   },
   "outputs": [
    {
     "name": "stdout",
     "output_type": "stream",
     "text": [
      "The fraction of protein explicitly modeled in the dataset by Li et al. is 30.310474%. Therefore, the adjusted protein quota is 38.329239% and the fraction of explicitly modeled proteins in the model is 16.670761%\n"
     ]
    }
   ],
   "source": [
    "print(\"The fraction of protein explicitly modeled in the dataset by Li et al. is %f%%. Therefore, the adjusted protein quota is %f%% and the fraction of explicitly modeled proteins in the model is %f%%\" %(frac_explicit*100, frac_adjusted*100, (0.55-frac_adjusted)*100))"
   ]
  },
  {
   "cell_type": "code",
   "execution_count": 206,
   "metadata": {},
   "outputs": [],
   "source": [
    "# add protein quota\n",
    "# weights are determined later: length will be set to median length of all proteins explicitly modeled\n",
    "quota = quota.append({\"ID\": 'Quota_protein', \"Gene\": 'R', \"ram:biomassPercentage\": frac_adjusted, \"degradationRate\": 0.01}, ignore_index=True)"
   ]
  },
  {
   "cell_type": "code",
   "execution_count": 207,
   "metadata": {},
   "outputs": [],
   "source": [
    "quota['compartment'] = 'cytosol'\n",
    "quota[\"initialAmount\"] = np.nan"
   ]
  },
  {
   "cell_type": "code",
   "execution_count": 208,
   "metadata": {},
   "outputs": [
    {
     "data": {
      "text/html": [
       "<div>\n",
       "<style scoped>\n",
       "    .dataframe tbody tr th:only-of-type {\n",
       "        vertical-align: middle;\n",
       "    }\n",
       "\n",
       "    .dataframe tbody tr th {\n",
       "        vertical-align: top;\n",
       "    }\n",
       "\n",
       "    .dataframe thead th {\n",
       "        text-align: right;\n",
       "    }\n",
       "</style>\n",
       "<table border=\"1\" class=\"dataframe\">\n",
       "  <thead>\n",
       "    <tr style=\"text-align: right;\">\n",
       "      <th></th>\n",
       "      <th>Reaction</th>\n",
       "      <th>ID</th>\n",
       "      <th>ram:molecularWeight</th>\n",
       "      <th>ram:objectiveWeight</th>\n",
       "      <th>ram:biomassPercentage</th>\n",
       "      <th>degradationRate</th>\n",
       "      <th>Gene</th>\n",
       "      <th>compartment</th>\n",
       "      <th>initialAmount</th>\n",
       "    </tr>\n",
       "  </thead>\n",
       "  <tbody>\n",
       "    <tr>\n",
       "      <th>0</th>\n",
       "      <td>41.25 ATP + 3.54 NAD + 18.22 NADPH + 0.2 G6P +...</td>\n",
       "      <td>Quota_rest</td>\n",
       "      <td>0.864801</td>\n",
       "      <td>0.864801</td>\n",
       "      <td>0.300000</td>\n",
       "      <td>0.001</td>\n",
       "      <td>NaN</td>\n",
       "      <td>cytosol</td>\n",
       "      <td>NaN</td>\n",
       "    </tr>\n",
       "    <tr>\n",
       "      <th>1</th>\n",
       "      <td>NaN</td>\n",
       "      <td>Quota_protein</td>\n",
       "      <td>NaN</td>\n",
       "      <td>NaN</td>\n",
       "      <td>0.383292</td>\n",
       "      <td>0.010</td>\n",
       "      <td>R</td>\n",
       "      <td>cytosol</td>\n",
       "      <td>NaN</td>\n",
       "    </tr>\n",
       "  </tbody>\n",
       "</table>\n",
       "</div>"
      ],
      "text/plain": [
       "                                            Reaction             ID  \\\n",
       "0  41.25 ATP + 3.54 NAD + 18.22 NADPH + 0.2 G6P +...     Quota_rest   \n",
       "1                                                NaN  Quota_protein   \n",
       "\n",
       "   ram:molecularWeight  ram:objectiveWeight  ram:biomassPercentage  \\\n",
       "0             0.864801             0.864801               0.300000   \n",
       "1                  NaN                  NaN               0.383292   \n",
       "\n",
       "   degradationRate Gene compartment  initialAmount  \n",
       "0            0.001  NaN     cytosol            NaN  \n",
       "1            0.010    R     cytosol            NaN  "
      ]
     },
     "execution_count": 208,
     "metadata": {},
     "output_type": "execute_result"
    }
   ],
   "source": [
    "quota"
   ]
  },
  {
   "cell_type": "markdown",
   "metadata": {},
   "source": [
    "# Reactions $\\mathcal{R}$"
   ]
  },
  {
   "cell_type": "markdown",
   "metadata": {},
   "source": [
    "## Metabolic Reactions $\\mathcal{R_X}$ and Uptake Reactions $\\mathcal{R_Y}$"
   ]
  },
  {
   "cell_type": "code",
   "execution_count": 209,
   "metadata": {},
   "outputs": [],
   "source": [
    "# create copy of first part of SI\n",
    "reactions = SI1[['ID', 'Protein', 'Gene', 'Reaction']].copy()"
   ]
  },
  {
   "cell_type": "code",
   "execution_count": 210,
   "metadata": {},
   "outputs": [],
   "source": [
    "# delete rows without Reaction\n",
    "reactions.dropna(subset=['Reaction'], inplace=True)"
   ]
  },
  {
   "cell_type": "code",
   "execution_count": 211,
   "metadata": {},
   "outputs": [],
   "source": [
    "# delete exchange reactions\n",
    "reactions = reactions[~reactions.Protein.str.contains('exchange')]"
   ]
  },
  {
   "cell_type": "code",
   "execution_count": 212,
   "metadata": {},
   "outputs": [],
   "source": [
    "# delete maintenance and biomass reactions\n",
    "reactions.drop(reactions[reactions.ID == 'ATPM'].index, inplace=True)\n",
    "reactions.drop(reactions[reactions.ID == 'VGRO'].index, inplace=True)"
   ]
  },
  {
   "cell_type": "code",
   "execution_count": 213,
   "metadata": {},
   "outputs": [],
   "source": [
    "# add reaction for amino acid\n",
    "reactions = reactions.append({'ID': 'ASPT', 'Protein': 'L-aspartase', 'Reaction': 'FUM <-> Z'}, ignore_index=True)"
   ]
  },
  {
   "cell_type": "markdown",
   "metadata": {},
   "source": [
    "### turnover rates"
   ]
  },
  {
   "cell_type": "code",
   "execution_count": 214,
   "metadata": {},
   "outputs": [],
   "source": [
    "reactions_turnover = pd.read_csv('TurnoverRates.tsv', sep='\\t')"
   ]
  },
  {
   "cell_type": "code",
   "execution_count": 215,
   "metadata": {},
   "outputs": [],
   "source": [
    "latex = reactions_turnover"
   ]
  },
  {
   "cell_type": "code",
   "execution_count": 216,
   "metadata": {},
   "outputs": [],
   "source": [
    "latex = latex.drop(['Protein', 'Gene', 'reversible', 'Reaction'], axis=1) # delete old IDs"
   ]
  },
  {
   "cell_type": "code",
   "execution_count": 217,
   "metadata": {},
   "outputs": [],
   "source": [
    "latex = latex[['Covert ID', 'BiGG ID', 'EC number', 'kcat_fwd/s', 'Organism (fwd)', 'kcat_bwd/s', 'Organism (bwd)']] # order columns"
   ]
  },
  {
   "cell_type": "code",
   "execution_count": 218,
   "metadata": {},
   "outputs": [],
   "source": [
    "latex['latex'] = '\\\\\\\\'"
   ]
  },
  {
   "cell_type": "code",
   "execution_count": 219,
   "metadata": {},
   "outputs": [],
   "source": [
    "latex.to_csv('turnover_latex.txt', sep='&', index=False)"
   ]
  },
  {
   "cell_type": "code",
   "execution_count": 220,
   "metadata": {},
   "outputs": [],
   "source": [
    "# add column with boolean variable\n",
    "reactions_turnover['transport'] = 1\n",
    "reactions_turnover['transport'] = reactions_turnover['Protein'].str.contains(\"transport|efflux|uptake|secretion|permease\")\n",
    "\n",
    "# split dataset\n",
    "turnover_transport = reactions_turnover.query(\"transport\")\n",
    "turnover_metabolic = reactions_turnover.query(\"transport == False\")"
   ]
  },
  {
   "cell_type": "code",
   "execution_count": 221,
   "metadata": {},
   "outputs": [],
   "source": [
    "missing = reactions_turnover['kcat_fwd/s'].str.count('kcat').sum()+reactions_turnover['kcat_bwd/s'].str.count('kcat').sum()+reactions_turnover['kcat_fwd/s'].str.count('diffusion').sum()+reactions_turnover['kcat_bwd/s'].str.count('diffusion').sum()"
   ]
  },
  {
   "cell_type": "code",
   "execution_count": 222,
   "metadata": {
    "scrolled": true
   },
   "outputs": [
    {
     "name": "stdout",
     "output_type": "stream",
     "text": [
      "Total number of reactions and reverse reactions: 152\n",
      "Missing values (total): 37 (24.342105 %)\n",
      "Missing values (metabolic): 7 (5.737705 %)\n",
      "Missing values (transport): 30 (100.000000 %)\n"
     ]
    }
   ],
   "source": [
    "print(\"Total number of reactions and reverse reactions: %i\" %(len(reactions_turnover)+reactions_turnover['reversible'].sum()))\n",
    "print(\"Missing values (total): %i (%f %%)\" %(missing, missing/(len(reactions_turnover)+reactions_turnover['reversible'].sum())*100))\n",
    "print(\"Missing values (metabolic): %i (%f %%)\" %(turnover_metabolic['kcat_fwd/s'].str.count('kcat').sum()+turnover_metabolic['kcat_bwd/s'].str.count('kcat').sum(), (turnover_metabolic['kcat_fwd/s'].str.count('kcat').sum()+turnover_metabolic['kcat_bwd/s'].str.count('kcat').sum())/(len(turnover_metabolic)+turnover_metabolic['reversible'].sum())*100))\n",
    "print(\"Missing values (transport): %i (%f %%)\" %(missing-turnover_metabolic['kcat_fwd/s'].str.count('kcat').sum()-turnover_metabolic['kcat_bwd/s'].str.count('kcat').sum(), (missing-turnover_metabolic['kcat_fwd/s'].str.count('kcat').sum()-turnover_metabolic['kcat_bwd/s'].str.count('kcat').sum())/(len(turnover_transport)+turnover_transport['reversible'].sum())*100))"
   ]
  },
  {
   "cell_type": "code",
   "execution_count": 223,
   "metadata": {},
   "outputs": [],
   "source": [
    "all_values = []\n",
    "\n",
    "# Iterate over two given columns only from the dataframe\n",
    "for column in reactions_turnover[['kcat_fwd/s', 'kcat_bwd/s']]:\n",
    "    # Select column contents by column name using [] operator\n",
    "    columnSeriesObj = reactions_turnover[column]\n",
    "    for v in columnSeriesObj.values:\n",
    "        try:\n",
    "            v = float(v)\n",
    "            if v > 0:\n",
    "                all_values.append(v)\n",
    "        except ValueError:\n",
    "            pass"
   ]
  },
  {
   "cell_type": "code",
   "execution_count": 224,
   "metadata": {},
   "outputs": [
    {
     "data": {
      "text/plain": [
       "66.6"
      ]
     },
     "execution_count": 224,
     "metadata": {},
     "output_type": "execute_result"
    }
   ],
   "source": [
    "np.median(all_values)\n",
    "#np.mean(all_values)"
   ]
  },
  {
   "cell_type": "code",
   "execution_count": 225,
   "metadata": {},
   "outputs": [],
   "source": [
    "reactions_turnover = reactions_turnover.replace(to_replace = 'kcat', value = np.median(all_values))\n",
    "reactions_turnover = reactions_turnover.replace(to_replace = 'diffusion', value = 0.0) # spontaneous rxns"
   ]
  },
  {
   "cell_type": "code",
   "execution_count": 226,
   "metadata": {},
   "outputs": [],
   "source": [
    "reactions_turnover[\"kcat_fwd/s\"] = pd.to_numeric(reactions_turnover[\"kcat_fwd/s\"])\n",
    "reactions_turnover[\"kcat_bwd/s\"] = pd.to_numeric(reactions_turnover[\"kcat_bwd/s\"])"
   ]
  },
  {
   "cell_type": "code",
   "execution_count": 227,
   "metadata": {},
   "outputs": [],
   "source": [
    "reactions_turnover[\"fbc:geneProductAssociation\"] = np.where(pd.isna(reactions_turnover[\"Gene\"]), np.nan, 'E_' + reactions_turnover[\"Covert ID\"])\n",
    "reactions_turnover['kcat_fwd/min'] = reactions_turnover['kcat_fwd/s'].apply(lambda x: x*60) # conversion from 1/s to 1/min\n",
    "reactions_turnover['kcat_bwd/min'] = reactions_turnover['kcat_bwd/s'].apply(lambda x: x*60) # conversion from 1/s to 1/min\n",
    "reactions_turnover[\"fbc:maintenanceScaling\"] = 0.0"
   ]
  },
  {
   "cell_type": "markdown",
   "metadata": {},
   "source": [
    "## Translation $\\mathcal{R_P}$"
   ]
  },
  {
   "cell_type": "code",
   "execution_count": 228,
   "metadata": {},
   "outputs": [],
   "source": [
    "# Ribosomal activity: 17 amino acids / s\n",
    "amino_acids_per_min = 1020\n",
    "# take molecular weight of Asp as MW for amino acid, i.e. 0.1331 g/mmol\n",
    "weight_amino_acid = 0.1331"
   ]
  },
  {
   "cell_type": "code",
   "execution_count": 229,
   "metadata": {},
   "outputs": [],
   "source": [
    "translation = SI1[['ID', 'Protein', 'Gene', 'Regulatory logic']].copy()"
   ]
  },
  {
   "cell_type": "code",
   "execution_count": 230,
   "metadata": {},
   "outputs": [],
   "source": [
    "# drop rows without Gene (spontaneous reactions...)\n",
    "translation.dropna(subset=['Gene'], inplace=True)"
   ]
  },
  {
   "cell_type": "code",
   "execution_count": 231,
   "metadata": {},
   "outputs": [],
   "source": [
    "# rename old ID column to \"Covert ID\"\n",
    "translation = translation.rename(columns={\"ID\": \"Covert ID\"})"
   ]
  },
  {
   "cell_type": "code",
   "execution_count": 232,
   "metadata": {},
   "outputs": [],
   "source": [
    "# create new ID\n",
    "translation[\"ID\"] = np.where(pd.isna(translation[\"Covert ID\"]), 'T_' + translation[\"Gene\"], 'T_' + translation[\"Covert ID\"])"
   ]
  },
  {
   "cell_type": "code",
   "execution_count": 233,
   "metadata": {},
   "outputs": [],
   "source": [
    "translation[\"Length\"] = None"
   ]
  },
  {
   "cell_type": "code",
   "execution_count": 234,
   "metadata": {},
   "outputs": [],
   "source": [
    "uniprot = pd.read_csv('uniprot.tsv', sep='\\t')"
   ]
  },
  {
   "cell_type": "code",
   "execution_count": 235,
   "metadata": {},
   "outputs": [],
   "source": [
    "for index, value in translation['Gene'].items():\n",
    "    length = 0\n",
    "    for g in value.split(', '):\n",
    "        try:\n",
    "            length = length + uniprot.loc[uniprot['yourlist'] == g, 'Length'].values[0]\n",
    "        except ValueError:\n",
    "            pass\n",
    "    translation['Length'][index] = length"
   ]
  },
  {
   "cell_type": "code",
   "execution_count": 236,
   "metadata": {},
   "outputs": [],
   "source": [
    "median_length = translation['Length'].median()"
   ]
  },
  {
   "cell_type": "code",
   "execution_count": 237,
   "metadata": {},
   "outputs": [],
   "source": [
    "# append translation of protein quota\n",
    "translation = translation.append({\"ID\": 'T_Quota_protein', \"Length\": median_length}, ignore_index=True)"
   ]
  },
  {
   "cell_type": "code",
   "execution_count": 238,
   "metadata": {},
   "outputs": [],
   "source": [
    "translation[\"reversible\"] = 'false'\n",
    "translation['ram:kcatForward'] = round(translation['Length'].apply(lambda x: amino_acids_per_min/x),5)\n",
    "translation['ram:kcatBackward'] = 0.0\n",
    "translation[\"fbc:maintenanceScaling\"] = 0.0\n",
    "translation[\"fbc:geneProductAssociation\"] = 'R'"
   ]
  },
  {
   "cell_type": "markdown",
   "metadata": {},
   "source": [
    "### set weights for macromolecules"
   ]
  },
  {
   "cell_type": "code",
   "execution_count": 239,
   "metadata": {
    "scrolled": true
   },
   "outputs": [],
   "source": [
    "# take molecular weight of Asp as MW for amino acid, i.e. 0.1331 g/mmol\n",
    "for index, value in enzymes['id'].items():\n",
    "    weight = weight_amino_acid * float(translation.loc[translation['ID'] == value.replace('E_', 'T_'), 'Length'].values[0])\n",
    "    enzymes.at[index, \"ram:molecularWeight\"] = weight\n",
    "    enzymes.at[index, \"ram:objectiveWeight\"] = weight"
   ]
  },
  {
   "cell_type": "code",
   "execution_count": 240,
   "metadata": {},
   "outputs": [],
   "source": [
    "# take molecular weight of Asp as MW for amino acid, i.e. 0.1331 g/mmol\n",
    "for index, value in rp['id'].items():\n",
    "    weight = weight_amino_acid * float(translation.loc[translation['ID'] == value.replace('RP_', 'T_'), 'Length'].values[0])\n",
    "    rp.at[index, \"ram:molecularWeight\"] = weight\n",
    "    rp.at[index, \"ram:objectiveWeight\"] = weight"
   ]
  },
  {
   "cell_type": "code",
   "execution_count": 241,
   "metadata": {},
   "outputs": [],
   "source": [
    "# now set weights of protein quota\n",
    "quota.at[quota['ID'] == 'Quota_protein', 'ram:molecularWeight'] = median_length * weight_amino_acid\n",
    "quota.at[quota['ID'] == 'Quota_protein', 'ram:objectiveWeight'] = median_length * weight_amino_acid"
   ]
  },
  {
   "cell_type": "markdown",
   "metadata": {},
   "source": [
    "## Maintenance Reaction $\\mathcal{R_M}$"
   ]
  },
  {
   "cell_type": "code",
   "execution_count": 242,
   "metadata": {},
   "outputs": [],
   "source": [
    "# filter maintenance reaction from SI\n",
    "main_df = SI1.filter(SI1[SI1.ID == 'ATPM'].index, axis = 0)"
   ]
  },
  {
   "cell_type": "markdown",
   "metadata": {},
   "source": [
    "# Regulated Proteins $p = \\mathcal{RE} \\cup \\mathcal{RP}$"
   ]
  },
  {
   "cell_type": "code",
   "execution_count": 243,
   "metadata": {},
   "outputs": [],
   "source": [
    "# create copy of first part of SI\n",
    "regulated = SI1[['ID', 'Protein', 'Gene', 'Regulatory logic']].copy()"
   ]
  },
  {
   "cell_type": "code",
   "execution_count": 244,
   "metadata": {},
   "outputs": [],
   "source": [
    "# delete rows without Regulation\n",
    "regulated.dropna(subset=['Regulatory logic'], inplace=True)"
   ]
  },
  {
   "cell_type": "code",
   "execution_count": 245,
   "metadata": {},
   "outputs": [],
   "source": [
    "# Create IDs of boolean variables representing gene expresssion for regulated proteins\n",
    "# regulated enzymes: 'G_' + ID (uppercase)\n",
    "# regulatory proteins: 'G_' + Gene (lowercase)\n",
    "regulated[\"bool_ID\"] = np.where(pd.isna(regulated[\"ID\"]), 'G_' + regulated[\"Gene\"] + '_bar', 'G_' + regulated[\"ID\"] + '_bar')"
   ]
  },
  {
   "cell_type": "markdown",
   "metadata": {},
   "source": [
    "## Events"
   ]
  },
  {
   "cell_type": "code",
   "execution_count": 246,
   "metadata": {},
   "outputs": [],
   "source": [
    "events = pd.DataFrame()"
   ]
  },
  {
   "cell_type": "markdown",
   "metadata": {},
   "source": [
    "### Control of boolean variables controlling RP gene expression"
   ]
  },
  {
   "cell_type": "code",
   "execution_count": 247,
   "metadata": {},
   "outputs": [],
   "source": [
    "# effect of O2 only\n",
    "events = events.append({'id':'low_O2', 'variable':'O2xt', 'relation':'lt', 'threshold':'theta_xt', 'assignment':['qual_con_arcA_bar', 'qual_con_fnr_bar'], 'value':['1', '1']}, ignore_index=True)\n",
    "events = events.append({'id':'high_O2', 'variable':'O2xt', 'relation':'geq', 'threshold':'theta_xt', 'assignment':['qual_con_arcA_bar', 'qual_con_fnr_bar'], 'value':['0', '0']}, ignore_index=True)\n",
    "# effect of SUCC only\n",
    "events = events.append({'id':'low_SUCC', 'variable':'SUCCxt', 'relation':'lt', 'threshold':'theta_xt', 'assignment':['qual_con_dcuS_bar'], 'value':['0']}, ignore_index=True)\n",
    "events = events.append({'id':'high_SUCC', 'variable':'SUCCxt', 'relation':'geq', 'threshold':'theta_xt', 'assignment':['qual_con_dcuS_bar'], 'value':['1']}, ignore_index=True)\n",
    "# effect of LCTS only\n",
    "events = events.append({'id':'low_LCTS', 'variable':'LCTSxt', 'relation':'lt', 'threshold':'theta_xt', 'assignment':['qual_con_galR_bar', 'qual_con_galS_bar', 'qual_con_lacI_bar'], 'value':['1', '1', '1']}, ignore_index=True)\n",
    "events = events.append({'id':'high_LCTS', 'variable':'LCTSxt', 'relation':'geq', 'threshold':'theta_xt', 'assignment':['qual_con_galR_bar', 'qual_con_galS_bar', 'qual_con_lacI_bar'], 'value':['0', '0', '0']}, ignore_index=True)\n",
    "# effect of GL only\n",
    "events = events.append({'id':'low_GL', 'variable':'GLxt', 'relation':'lt', 'threshold':'theta_xt', 'assignment':['qual_con_glpR_bar'], 'value':['1']}, ignore_index=True)\n",
    "events = events.append({'id':'high_GL', 'variable':'GLxt', 'relation':'geq', 'threshold':'theta_xt', 'assignment':['qual_con_glpR_bar'], 'value':['0']}, ignore_index=True)\n",
    "# effect of GLC only\n",
    "events = events.append({'id':'low_GLC', 'variable':'GLCxt', 'relation':'lt', 'threshold':'theta_xt', 'assignment':['qual_con_mlc_bar'], 'value':['1']}, ignore_index=True)\n",
    "events = events.append({'id':'high_GLC', 'variable':'GLCxt', 'relation':'geq', 'threshold':'theta_xt', 'assignment':['qual_con_mlc_bar'], 'value':['0']}, ignore_index=True)\n",
    "# effect of RIB only\n",
    "events = events.append({'id':'low_RIB', 'variable':'RIBxt', 'relation':'lt', 'threshold':'theta_xt', 'assignment':['qual_con_rbsR_bar', 'qual_con_rpiR_bar'], 'value':['1', '1']}, ignore_index=True)\n",
    "events = events.append({'id':'high_RIB', 'variable':'RIBxt', 'relation':'geq', 'threshold':'theta_xt', 'assignment':['qual_con_rbsR_bar', 'qual_con_rpiR_bar'], 'value':['0', '0']}, ignore_index=True)\n",
    "# effect of RP DcuS only\n",
    "events = events.append({'id':'low_DcuS', 'variable':'RP_dcuS', 'relation':'lt', 'threshold':'theta_RP', 'assignment':['qual_con_dcuR_bar'], 'value':['0']}, ignore_index=True)\n",
    "events = events.append({'id':'high_DcuS', 'variable':'RP_dcuS', 'relation':'geq', 'threshold':'theta_RP', 'assignment':['qual_con_dcuR_bar'], 'value':['1']}, ignore_index=True)\n",
    "# effect of RP FadR only\n",
    "events = events.append({'id':'low_FadR', 'variable':'RP_fadR', 'relation':'lt', 'threshold':'theta_RP', 'assignment':['qual_con_iclR_bar'], 'value':['0']}, ignore_index=True)\n",
    "events = events.append({'id':'high_FadR', 'variable':'RP_fadR', 'relation':'geq', 'threshold':'theta_RP', 'assignment':['qual_con_iclR_bar'], 'value':['1']}, ignore_index=True)\n",
    "\n",
    "### complex regulation ###\n",
    "# cra\n",
    "# crp\n",
    "# fadR\n",
    "# pdhR"
   ]
  },
  {
   "cell_type": "markdown",
   "metadata": {},
   "source": [
    "### Control of boolean variables controlling Enzyme gene expression"
   ]
  },
  {
   "cell_type": "code",
   "execution_count": 248,
   "metadata": {},
   "outputs": [],
   "source": [
    "# effect of RP IclR only\n",
    "events = events.append({'id':'low_IclR', 'variable':'RP_iclR', 'relation':'lt', 'threshold':'theta_RP', 'assignment':['qual_con_ACEA_bar'], 'value':['1']}, ignore_index=True)\n",
    "events = events.append({'id':'high_IclR', 'variable':'RP_iclR', 'relation':'geq', 'threshold':'theta_RP', 'assignment':['qual_con_ACEA_bar'], 'value':['0']}, ignore_index=True)\n",
    "# effect of RP PdhR only\n",
    "events = events.append({'id':'low_PdhR', 'variable':'RP_pdhR', 'relation':'lt', 'threshold':'theta_RP', 'assignment':['qual_con_ACEE_bar', 'qual_con_SUCA_bar'], 'value':['1', '1']}, ignore_index=True)\n",
    "events = events.append({'id':'high_PdhR', 'variable':'RP_pdhR', 'relation':'geq', 'threshold':'theta_RP', 'assignment':['qual_con_ACEE_bar', 'qual_con_SUCA_bar'], 'value':['0', '0']}, ignore_index=True)\n",
    "# effect of RP FNR only\n",
    "events = events.append({'id':'low_FNR', 'variable':'RP_FNR', 'relation':'lt', 'threshold':'theta_RP', 'assignment':['qual_con_FDNG_bar', 'qual_con_FUMBR_bar', 'qual_con_NDH_bar'], 'value':['0', '0', '1']}, ignore_index=True)\n",
    "events = events.append({'id':'high_FNR', 'variable':'RP_FNR', 'relation':'geq', 'threshold':'theta_RP', 'assignment':['qual_con_FDNG_bar', 'qual_con_FUMBR_bar', 'qual_con_NDH_bar'], 'value':['1', '1', '0']}, ignore_index=True)\n",
    "# effect of RP ArcA only\n",
    "events = events.append({'id':'low_arcA', 'variable':'RP_arcA', 'relation':'lt', 'threshold':'theta_RP', 'assignment':['qual_con_MDHR_bar'], 'value':['1']}, ignore_index=True)\n",
    "events = events.append({'id':'high_arcA', 'variable':'RP_arcA', 'relation':'geq', 'threshold':'theta_RP', 'assignment':['qual_con_MDHR_bar'], 'value':['0']}, ignore_index=True)\n",
    "# effects of Cra only\n",
    "events = events.append({'id':'low_Cra', 'variable':'RP_cra', 'relation':'lt', 'threshold':'theta_RP', 'assignment':['qual_con_PPSA_bar', 'qual_con_PYKF_bar'], 'value':['0', '1']}, ignore_index=True)\n",
    "events = events.append({'id':'high_Cra', 'variable':'RP_cra', 'relation':'geq', 'threshold':'theta_RP', 'assignment':['qual_con_PPSA_bar', 'qual_con_PYKF_bar'], 'value':['1', '0']}, ignore_index=True)\n",
    "# effect of RpiR only\n",
    "events = events.append({'id':'low_RpiR', 'variable':'RP_rpiR', 'relation':'lt', 'threshold':'theta_RP', 'assignment':['qual_con_RPIBR_bar'], 'value':['1']}, ignore_index=True)\n",
    "events = events.append({'id':'high_RpiR', 'variable':'RP_rpiR', 'relation':'geq', 'threshold':'theta_RP', 'assignment':['qual_con_RPIBR_bar'], 'value':['0']}, ignore_index=True)\n",
    "\n",
    "### complex regulation ###\n",
    "# ACEB\n",
    "# ADHER\n",
    "# CYDA\n",
    "# CYOA\n",
    "# FRDA\n",
    "# FUMAR, SDHA1, SDHA2\n",
    "# PFLA, PFLC, FORUPR, DCUC\n",
    "\n",
    "### regulation not modeled by Covert et al. ###\n",
    "# FUMCR"
   ]
  },
  {
   "cell_type": "markdown",
   "metadata": {},
   "source": [
    "## Qualitative Species"
   ]
  },
  {
   "cell_type": "code",
   "execution_count": 249,
   "metadata": {},
   "outputs": [],
   "source": [
    "# initialize with gene names of regulatory proteins\n",
    "qualspec = rp[['Gene']].copy()\n",
    "qualspec['id'] = qualspec['Gene'] + '_bar'"
   ]
  },
  {
   "cell_type": "code",
   "execution_count": 250,
   "metadata": {},
   "outputs": [],
   "source": [
    "# gene expression of regulated enzymes\n",
    "for index, enzyme in enzymes['id'].items():\n",
    "    if not pd.isna(enzymes['Regulatory logic'][index]):\n",
    "        ID = enzyme[2:] + '_bar'\n",
    "        qualspec = qualspec.append({'id': ID}, ignore_index=True)"
   ]
  },
  {
   "cell_type": "code",
   "execution_count": 251,
   "metadata": {
    "scrolled": true
   },
   "outputs": [],
   "source": [
    "qualspec['max'] = 1"
   ]
  },
  {
   "cell_type": "markdown",
   "metadata": {},
   "source": [
    "# Parameters"
   ]
  },
  {
   "cell_type": "code",
   "execution_count": 252,
   "metadata": {},
   "outputs": [],
   "source": [
    "parameters = {'epsilon_trans':0.000001, 'theta_xt':0.0001, 'theta_RP': 0.000001}"
   ]
  },
  {
   "cell_type": "code",
   "execution_count": 253,
   "metadata": {},
   "outputs": [],
   "source": [
    "fbc_parameters = []"
   ]
  },
  {
   "cell_type": "markdown",
   "metadata": {},
   "source": [
    "# Write Model as XML"
   ]
  },
  {
   "cell_type": "code",
   "execution_count": 254,
   "metadata": {},
   "outputs": [],
   "source": [
    "rdefba = False"
   ]
  },
  {
   "cell_type": "code",
   "execution_count": 255,
   "metadata": {},
   "outputs": [],
   "source": [
    "if rdefba:\n",
    "    name = 'ecoli_rdeFBA'\n",
    "else:\n",
    "    name = 'ecoli_deFBA'"
   ]
  },
  {
   "cell_type": "code",
   "execution_count": 256,
   "metadata": {},
   "outputs": [],
   "source": [
    "f = open(name + '.xml', 'w').close()\n",
    "f = open(name + '.xml', 'w')"
   ]
  },
  {
   "cell_type": "markdown",
   "metadata": {},
   "source": [
    "## First lines"
   ]
  },
  {
   "cell_type": "code",
   "execution_count": 257,
   "metadata": {
    "scrolled": true
   },
   "outputs": [
    {
     "data": {
      "text/plain": [
       "39"
      ]
     },
     "execution_count": 257,
     "metadata": {},
     "output_type": "execute_result"
    }
   ],
   "source": [
    "# XML definition\n",
    "f.write(\"<?xml version=\\\"1.0\\\" encoding=\\\"UTF-8\\\"?>\\n\")"
   ]
  },
  {
   "cell_type": "code",
   "execution_count": 258,
   "metadata": {},
   "outputs": [],
   "source": [
    "# SBML definition\n",
    "if rdefba:\n",
    "    f.write(\"<sbml xmlns=\\\"http://www.sbml.org/sbml/level3/version2/core\\\" level=\\\"3\\\" version=\\\"2\\\" xmlns:qual=\\\"http://www.sbml.org/sbml/level3/version1/qual/version1\\\" qual:required=\\\"true\\\" xmlns:fbc=\\\"http://www.sbml.org/sbml/level3/version1/fbc/version2\\\" fbc:required=\\\"false\\\">\\n\")\n",
    "else:\n",
    "    f.write(\"<sbml xmlns=\\\"http://www.sbml.org/sbml/level3/version2/core\\\" level=\\\"3\\\" version=\\\"2\\\" xmlns:fbc=\\\"http://www.sbml.org/sbml/level3/version1/fbc/version2\\\" fbc:required=\\\"false\\\">\\n\")\n"
   ]
  },
  {
   "cell_type": "code",
   "execution_count": 259,
   "metadata": {},
   "outputs": [
    {
     "data": {
      "text/plain": [
       "64"
      ]
     },
     "execution_count": 259,
     "metadata": {},
     "output_type": "execute_result"
    }
   ],
   "source": [
    "# Model Definition\n",
    "f.write(\"<model id=\\\"\" + name + \"\\\" name=\\\"\" + name + \"\\\" fbc:strict=\\\"false\\\">\\n\\n\")"
   ]
  },
  {
   "cell_type": "markdown",
   "metadata": {},
   "source": [
    "## List of Compartments"
   ]
  },
  {
   "cell_type": "code",
   "execution_count": 260,
   "metadata": {
    "scrolled": true
   },
   "outputs": [
    {
     "data": {
      "text/plain": [
       "142"
      ]
     },
     "execution_count": 260,
     "metadata": {},
     "output_type": "execute_result"
    }
   ],
   "source": [
    "f.write(\"<listOfCompartments>\\n  <compartment id=\\\"extracellular\\\" constant=\\\"true\\\"/>\\n  <compartment id=\\\"cytosol\\\" constant=\\\"true\\\"/>\\n</listOfCompartments>\\n\\n\")"
   ]
  },
  {
   "cell_type": "markdown",
   "metadata": {},
   "source": [
    "## List of Species"
   ]
  },
  {
   "cell_type": "code",
   "execution_count": 261,
   "metadata": {},
   "outputs": [
    {
     "data": {
      "text/plain": [
       "16"
      ]
     },
     "execution_count": 261,
     "metadata": {},
     "output_type": "execute_result"
    }
   ],
   "source": [
    "f.write(\"<listOfSpecies>\\n\")"
   ]
  },
  {
   "cell_type": "markdown",
   "metadata": {},
   "source": [
    "### Metabolites"
   ]
  },
  {
   "cell_type": "markdown",
   "metadata": {},
   "source": [
    "#### extracellular metabolites $\\mathcal{Y}$"
   ]
  },
  {
   "cell_type": "code",
   "execution_count": 262,
   "metadata": {},
   "outputs": [],
   "source": [
    "for index, value in extracellular['id'].items():\n",
    "    f.write(\"<species id=\\\"\"+value+\"\\\" name=\\\"\"+extracellular['name'][index]+\"\\\" compartment=\\\"extracellular\\\" initialAmount=\\\"\"+str(extracellular['initialAmount'][index])+\"\\\" constant=\\\"false\\\" boundaryCondition=\\\"\"+extracellular['boundaryCondition'][index]+\"\\\" hasOnlySubstanceUnits=\\\"true\\\">\\n  <annotation>\\n    <ram:RAM xmlns:ram=\\\"https://www.fairdomhub.org/sops/304\\\">\\n      <ram:species ram:molecularWeight=\\\"0.0\\\" ram:objectiveWeight=\\\"0.0\\\" ram:biomassPercentage=\\\"0.0\\\" ram:speciesType=\\\"extracellular\\\"/>\\n    </ram:RAM>\\n  </annotation>\\n</species>\\n\")"
   ]
  },
  {
   "cell_type": "markdown",
   "metadata": {},
   "source": [
    "#### extracellular metabolites $\\mathcal{X}$"
   ]
  },
  {
   "cell_type": "code",
   "execution_count": 263,
   "metadata": {},
   "outputs": [],
   "source": [
    "for index, value in intracellular['id'].items():\n",
    "    f.write(\"<species id=\\\"\"+value+\"\\\" name=\\\"\"+intracellular['name'][index]+\"\\\" compartment=\\\"cytosol\\\" initialAmount=\\\"0.0\\\" constant=\\\"false\\\" boundaryCondition=\\\"false\\\" hasOnlySubstanceUnits=\\\"true\\\">\\n  <annotation>\\n    <ram:RAM xmlns:ram=\\\"https://www.fairdomhub.org/sops/304\\\">\\n      <ram:species ram:molecularWeight=\\\"0.0\\\" ram:objectiveWeight=\\\"0.0\\\" ram:biomassPercentage=\\\"0.0\\\" ram:speciesType=\\\"metabolite\\\"/>\\n    </ram:RAM>\\n  </annotation>\\n</species>\\n\")"
   ]
  },
  {
   "cell_type": "markdown",
   "metadata": {},
   "source": [
    "### Macromolecules $\\mathcal{P}$"
   ]
  },
  {
   "cell_type": "markdown",
   "metadata": {},
   "source": [
    "#### Enzymes $\\mathcal{E}$ (including Ribosome)"
   ]
  },
  {
   "cell_type": "code",
   "execution_count": 264,
   "metadata": {},
   "outputs": [],
   "source": [
    "for index, value in enzymes['id'].items():\n",
    "    f.write(\"<species id=\\\"\"+value+\"\\\" name=\\\"\"+enzymes['name'][index]+\"\\\" compartment=\\\"cytosol\\\" initialAmount=\\\"\"+str(enzymes['initialAmount'][index])+\"\\\" constant=\\\"false\\\" boundaryCondition=\\\"false\\\" hasOnlySubstanceUnits=\\\"true\\\">\\n  <annotation>\\n    <ram:RAM xmlns:ram=\\\"https://www.fairdomhub.org/sops/304\\\">\\n      <ram:species ram:molecularWeight=\\\"\"+str(enzymes['ram:molecularWeight'][index])+\"\\\" ram:objectiveWeight=\\\"\"+str(enzymes['ram:objectiveWeight'][index])+\"\\\" ram:biomassPercentage=\\\"0.0\\\" ram:speciesType=\\\"enzyme\\\"/>\\n    </ram:RAM>\\n  </annotation>\\n</species>\\n\")"
   ]
  },
  {
   "cell_type": "markdown",
   "metadata": {},
   "source": [
    "#### Regulatory Proteins $\\mathcal{RP}$"
   ]
  },
  {
   "cell_type": "code",
   "execution_count": 265,
   "metadata": {},
   "outputs": [],
   "source": [
    "if rdefba:\n",
    "    for index, value in rp['id'].items():\n",
    "        f.write(\"<species id=\\\"\"+value+\"\\\" name=\\\"\"+rp['name'][index]+\"\\\" compartment=\\\"cytosol\\\" initialAmount=\\\"\"+str(rp['initialAmount'][index])+\"\\\" constant=\\\"false\\\" boundaryCondition=\\\"false\\\" hasOnlySubstanceUnits=\\\"true\\\">\\n  <annotation>\\n    <ram:RAM xmlns:ram=\\\"https://www.fairdomhub.org/sops/304\\\">\\n      <ram:species ram:molecularWeight=\\\"\"+str(rp['ram:molecularWeight'][index])+\"\\\" ram:objectiveWeight=\\\"\"+str(rp['ram:objectiveWeight'][index])+\"\\\" ram:biomassPercentage=\\\"0.0\\\" ram:speciesType=\\\"enzyme\\\"/>\\n    </ram:RAM>\\n  </annotation>\\n</species>\\n\")"
   ]
  },
  {
   "cell_type": "markdown",
   "metadata": {},
   "source": [
    "#### Quota $\\mathcal{Q}$"
   ]
  },
  {
   "cell_type": "code",
   "execution_count": 266,
   "metadata": {},
   "outputs": [],
   "source": [
    "for index, value in quota['ID'].items():\n",
    "    f.write(\"<species id=\\\"\"+value+\"\\\" compartment=\\\"cytosol\\\" initialAmount=\\\"\"+str(quota['initialAmount'][index])+\"\\\" constant=\\\"false\\\" boundaryCondition=\\\"false\\\" hasOnlySubstanceUnits=\\\"true\\\">\\n  <annotation>\\n    <ram:RAM xmlns:ram=\\\"https://www.fairdomhub.org/sops/304\\\">\\n      <ram:species ram:molecularWeight=\\\"\"+str(quota['ram:molecularWeight'][index])+\"\\\" ram:objectiveWeight=\\\"\"+str(quota['ram:objectiveWeight'][index])+\"\\\" ram:biomassPercentage=\\\"\"+str(quota['ram:biomassPercentage'][index])+\"\\\" ram:speciesType=\\\"quota\\\"/>\\n    </ram:RAM>\\n  </annotation>\\n</species>\\n\")    "
   ]
  },
  {
   "cell_type": "code",
   "execution_count": 267,
   "metadata": {},
   "outputs": [
    {
     "data": {
      "text/plain": [
       "18"
      ]
     },
     "execution_count": 267,
     "metadata": {},
     "output_type": "execute_result"
    }
   ],
   "source": [
    "f.write(\"</listOfSpecies>\\n\\n\")"
   ]
  },
  {
   "cell_type": "markdown",
   "metadata": {},
   "source": [
    "## List of Reactions $\\mathcal{R}$"
   ]
  },
  {
   "cell_type": "code",
   "execution_count": 268,
   "metadata": {
    "scrolled": true
   },
   "outputs": [
    {
     "data": {
      "text/plain": [
       "18"
      ]
     },
     "execution_count": 268,
     "metadata": {},
     "output_type": "execute_result"
    }
   ],
   "source": [
    "f.write(\"<listOfReactions>\\n\")"
   ]
  },
  {
   "cell_type": "markdown",
   "metadata": {},
   "source": [
    "### Metabolic Reactions $\\mathcal{R_X}$ and $\\mathcal{R_Y}$"
   ]
  },
  {
   "cell_type": "code",
   "execution_count": 269,
   "metadata": {},
   "outputs": [],
   "source": [
    "stoich = 1.0\n",
    "stoich_bool = False\n",
    "for index, value in reactions_turnover['Covert ID'].items():\n",
    "    if '<' in reactions_turnover['Reaction'][index]: # reversible\n",
    "        f.write(\"<reaction id=\\\"\"+value+\"\\\" reversible=\\\"true\\\">\\n  <annotation>\\n    <ram:RAM xmlns:ram=\\\"https://www.fairdomhub.org/sops/304\\\">\\n      <ram:reaction ram:kcatForward=\\\"\"+str(reactions_turnover['kcat_fwd/min'][index])+\"\\\" ram:kcatBackward=\\\"\"+str(reactions_turnover['kcat_bwd/min'][index])+\"\\\" ram:maintenanceScaling=\\\"0.0\\\"/>\\n    </ram:RAM>\\n  </annotation>\\n\")\n",
    "    else:\n",
    "        f.write(\"<reaction id=\\\"\"+value+\"\\\" reversible=\\\"false\\\">\\n  <annotation>\\n    <ram:RAM xmlns:ram=\\\"https://www.fairdomhub.org/sops/304\\\">\\n      <ram:reaction ram:kcatForward=\\\"\"+str(reactions_turnover['kcat_fwd/min'][index])+\"\\\" ram:kcatBackward=\\\"0.0\\\" ram:maintenanceScaling=\\\"0.0\\\"/>\\n    </ram:RAM>\\n  </annotation>\\n\")\n",
    "    if pd.isna(reactions_turnover['fbc:geneProductAssociation'][index]): # spontaneous reactions\n",
    "        pass\n",
    "    else:\n",
    "        f.write(\"  <fbc:geneProductAssociation fbc:id=\\\"\"+reactions_turnover['fbc:geneProductAssociation'][index]+\"\\\">\\n    <fbc:geneProductRef fbc:geneProduct=\\\"\"+reactions_turnover['fbc:geneProductAssociation'][index]+\"\\\"/>\\n  </fbc:geneProductAssociation>\\n\")\n",
    "    f.write(\"  <listOfReactants>\\n\")\n",
    "    for g in re.split(r'[+\\s]\\s*', reactions_turnover['Reaction'][index]):\n",
    "        if '-' in g:\n",
    "            f.write(\"  </listOfReactants>\\n  <listOfProducts>\\n\")\n",
    "        else:\n",
    "            try:\n",
    "                stoich = float(g)\n",
    "                stoich_bool = True\n",
    "            except ValueError:\n",
    "                if g == \"\":\n",
    "                    pass\n",
    "                else:\n",
    "                    if stoich_bool == False:\n",
    "                        stoich = 1.0\n",
    "                    f.write(\"    <speciesReference species=\\\"\"+g+\"\\\" stoichiometry=\\\"\"+str(stoich)+\"\\\" constant=\\\"true\\\"/>\\n\")\n",
    "                    stoich_bool = False\n",
    "    f.write(\"  </listOfProducts>\\n</reaction>\\n\")"
   ]
  },
  {
   "cell_type": "markdown",
   "metadata": {},
   "source": [
    "### Translation Reactions $\\mathcal{R_P}$"
   ]
  },
  {
   "cell_type": "code",
   "execution_count": 291,
   "metadata": {},
   "outputs": [
    {
     "name": "stdout",
     "output_type": "stream",
     "text": [
      "<reaction id=\"T_ACEA\" reversible=\"false\">\n",
      "  <annotation>\n",
      "    <ram:RAM xmlns:ram=\"https://www.fairdomhub.org/sops/304\">\n",
      "      <ram:reaction ram:kcatForward=\"2.35023\" ram:kcatBackward=\"0.0\" ram:maintenanceScaling=\"0.0\"/>\n",
      "    </ram:RAM>\n",
      "  </annotation>\n",
      "\n",
      "  <fbc:geneProductAssociation fbc:id=\"E_R\">\n",
      "    <fbc:geneProductRef fbc:geneProduct=\"E_R\"/>\n",
      "  </fbc:geneProductAssociation>\n",
      "\n",
      "  <listOfReactants>\n",
      "    <speciesReference species=\"Z\" stoichiometry=\"434\" constant=\"true\"/>\n",
      "    <speciesReference species=\"ATP\" stoichiometry=\"1302\" constant=\"true\"/>\n",
      "  </listOfReactants>\n",
      "\n",
      "  <listOfProducts>\n",
      "    <speciesReference species=\"E_ACEA\" stoichiometry=\"1.0\" constant=\"true\"/>\n",
      "    <speciesReference species=\"AMP\" stoichiometry=\"434\" constant=\"true\"/>\n",
      "    <speciesReference species=\"PPI\" stoichiometry=\"434\" constant=\"true\"/>\n",
      "    <speciesReference species=\"ADP\" stoichiometry=\"868\" constant=\"true\"/>\n",
      "    <speciesReference species=\"PI\" stoichiometry=\"868\" constant=\"true\"/>\n",
      "  </listOfProducts>\n",
      "</reaction>\n",
      "\n",
      "<reaction id=\"T_ACEB\" reversible=\"false\">\n",
      "  <annotation>\n",
      "    <ram:RAM xmlns:ram=\"https://www.fairdomhub.org/sops/304\">\n",
      "      <ram:reaction ram:kcatForward=\"1.9137\" ram:kcatBackward=\"0.0\" ram:maintenanceScaling=\"0.0\"/>\n",
      "    </ram:RAM>\n",
      "  </annotation>\n",
      "\n",
      "  <fbc:geneProductAssociation fbc:id=\"E_R\">\n",
      "    <fbc:geneProductRef fbc:geneProduct=\"E_R\"/>\n",
      "  </fbc:geneProductAssociation>\n",
      "\n",
      "  <listOfReactants>\n",
      "    <speciesReference species=\"Z\" stoichiometry=\"533\" constant=\"true\"/>\n",
      "    <speciesReference species=\"ATP\" stoichiometry=\"1599\" constant=\"true\"/>\n",
      "  </listOfReactants>\n",
      "\n",
      "  <listOfProducts>\n",
      "    <speciesReference species=\"E_ACEB\" stoichiometry=\"1.0\" constant=\"true\"/>\n",
      "    <speciesReference species=\"AMP\" stoichiometry=\"533\" constant=\"true\"/>\n",
      "    <speciesReference species=\"PPI\" stoichiometry=\"533\" constant=\"true\"/>\n",
      "    <speciesReference species=\"ADP\" stoichiometry=\"1066\" constant=\"true\"/>\n",
      "    <speciesReference species=\"PI\" stoichiometry=\"1066\" constant=\"true\"/>\n",
      "  </listOfProducts>\n",
      "</reaction>\n",
      "\n",
      "<reaction id=\"T_ACEE\" reversible=\"false\">\n",
      "  <annotation>\n",
      "    <ram:RAM xmlns:ram=\"https://www.fairdomhub.org/sops/304\">\n",
      "      <ram:reaction ram:kcatForward=\"0.51231\" ram:kcatBackward=\"0.0\" ram:maintenanceScaling=\"0.0\"/>\n",
      "    </ram:RAM>\n",
      "  </annotation>\n",
      "\n",
      "  <fbc:geneProductAssociation fbc:id=\"E_R\">\n",
      "    <fbc:geneProductRef fbc:geneProduct=\"E_R\"/>\n",
      "  </fbc:geneProductAssociation>\n",
      "\n",
      "  <listOfReactants>\n",
      "    <speciesReference species=\"Z\" stoichiometry=\"1991\" constant=\"true\"/>\n",
      "    <speciesReference species=\"ATP\" stoichiometry=\"5973\" constant=\"true\"/>\n",
      "  </listOfReactants>\n",
      "\n",
      "  <listOfProducts>\n",
      "    <speciesReference species=\"E_ACEE\" stoichiometry=\"1.0\" constant=\"true\"/>\n",
      "    <speciesReference species=\"AMP\" stoichiometry=\"1991\" constant=\"true\"/>\n",
      "    <speciesReference species=\"PPI\" stoichiometry=\"1991\" constant=\"true\"/>\n",
      "    <speciesReference species=\"ADP\" stoichiometry=\"3982\" constant=\"true\"/>\n",
      "    <speciesReference species=\"PI\" stoichiometry=\"3982\" constant=\"true\"/>\n",
      "  </listOfProducts>\n",
      "</reaction>\n",
      "\n",
      "<reaction id=\"T_ACKAR\" reversible=\"false\">\n",
      "  <annotation>\n",
      "    <ram:RAM xmlns:ram=\"https://www.fairdomhub.org/sops/304\">\n",
      "      <ram:reaction ram:kcatForward=\"2.55\" ram:kcatBackward=\"0.0\" ram:maintenanceScaling=\"0.0\"/>\n",
      "    </ram:RAM>\n",
      "  </annotation>\n",
      "\n",
      "  <fbc:geneProductAssociation fbc:id=\"E_R\">\n",
      "    <fbc:geneProductRef fbc:geneProduct=\"E_R\"/>\n",
      "  </fbc:geneProductAssociation>\n",
      "\n",
      "  <listOfReactants>\n",
      "    <speciesReference species=\"Z\" stoichiometry=\"400\" constant=\"true\"/>\n",
      "    <speciesReference species=\"ATP\" stoichiometry=\"1200\" constant=\"true\"/>\n",
      "  </listOfReactants>\n",
      "\n",
      "  <listOfProducts>\n",
      "    <speciesReference species=\"E_ACKAR\" stoichiometry=\"1.0\" constant=\"true\"/>\n",
      "    <speciesReference species=\"AMP\" stoichiometry=\"400\" constant=\"true\"/>\n",
      "    <speciesReference species=\"PPI\" stoichiometry=\"400\" constant=\"true\"/>\n",
      "    <speciesReference species=\"ADP\" stoichiometry=\"800\" constant=\"true\"/>\n",
      "    <speciesReference species=\"PI\" stoichiometry=\"800\" constant=\"true\"/>\n",
      "  </listOfProducts>\n",
      "</reaction>\n",
      "\n",
      "<reaction id=\"T_ACNAR\" reversible=\"false\">\n",
      "  <annotation>\n",
      "    <ram:RAM xmlns:ram=\"https://www.fairdomhub.org/sops/304\">\n",
      "      <ram:reaction ram:kcatForward=\"1.14478\" ram:kcatBackward=\"0.0\" ram:maintenanceScaling=\"0.0\"/>\n",
      "    </ram:RAM>\n",
      "  </annotation>\n",
      "\n",
      "  <fbc:geneProductAssociation fbc:id=\"E_R\">\n",
      "    <fbc:geneProductRef fbc:geneProduct=\"E_R\"/>\n",
      "  </fbc:geneProductAssociation>\n",
      "\n",
      "  <listOfReactants>\n",
      "    <speciesReference species=\"Z\" stoichiometry=\"891\" constant=\"true\"/>\n",
      "    <speciesReference species=\"ATP\" stoichiometry=\"2673\" constant=\"true\"/>\n",
      "  </listOfReactants>\n",
      "\n",
      "  <listOfProducts>\n",
      "    <speciesReference species=\"E_ACNAR\" stoichiometry=\"1.0\" constant=\"true\"/>\n",
      "    <speciesReference species=\"AMP\" stoichiometry=\"891\" constant=\"true\"/>\n",
      "    <speciesReference species=\"PPI\" stoichiometry=\"891\" constant=\"true\"/>\n",
      "    <speciesReference species=\"ADP\" stoichiometry=\"1782\" constant=\"true\"/>\n",
      "    <speciesReference species=\"PI\" stoichiometry=\"1782\" constant=\"true\"/>\n",
      "  </listOfProducts>\n",
      "</reaction>\n",
      "\n",
      "<reaction id=\"T_ACNBR\" reversible=\"false\">\n",
      "  <annotation>\n",
      "    <ram:RAM xmlns:ram=\"https://www.fairdomhub.org/sops/304\">\n",
      "      <ram:reaction ram:kcatForward=\"1.17919\" ram:kcatBackward=\"0.0\" ram:maintenanceScaling=\"0.0\"/>\n",
      "    </ram:RAM>\n",
      "  </annotation>\n",
      "\n",
      "  <fbc:geneProductAssociation fbc:id=\"E_R\">\n",
      "    <fbc:geneProductRef fbc:geneProduct=\"E_R\"/>\n",
      "  </fbc:geneProductAssociation>\n",
      "\n",
      "  <listOfReactants>\n",
      "    <speciesReference species=\"Z\" stoichiometry=\"865\" constant=\"true\"/>\n",
      "    <speciesReference species=\"ATP\" stoichiometry=\"2595\" constant=\"true\"/>\n",
      "  </listOfReactants>\n",
      "\n",
      "  <listOfProducts>\n",
      "    <speciesReference species=\"E_ACNBR\" stoichiometry=\"1.0\" constant=\"true\"/>\n",
      "    <speciesReference species=\"AMP\" stoichiometry=\"865\" constant=\"true\"/>\n",
      "    <speciesReference species=\"PPI\" stoichiometry=\"865\" constant=\"true\"/>\n",
      "    <speciesReference species=\"ADP\" stoichiometry=\"1730\" constant=\"true\"/>\n",
      "    <speciesReference species=\"PI\" stoichiometry=\"1730\" constant=\"true\"/>\n",
      "  </listOfProducts>\n",
      "</reaction>\n",
      "\n",
      "<reaction id=\"T_ACS\" reversible=\"false\">\n",
      "  <annotation>\n",
      "    <ram:RAM xmlns:ram=\"https://www.fairdomhub.org/sops/304\">\n",
      "      <ram:reaction ram:kcatForward=\"1.56442\" ram:kcatBackward=\"0.0\" ram:maintenanceScaling=\"0.0\"/>\n",
      "    </ram:RAM>\n",
      "  </annotation>\n",
      "\n",
      "  <fbc:geneProductAssociation fbc:id=\"E_R\">\n",
      "    <fbc:geneProductRef fbc:geneProduct=\"E_R\"/>\n",
      "  </fbc:geneProductAssociation>\n",
      "\n",
      "  <listOfReactants>\n",
      "    <speciesReference species=\"Z\" stoichiometry=\"652\" constant=\"true\"/>\n",
      "    <speciesReference species=\"ATP\" stoichiometry=\"1956\" constant=\"true\"/>\n",
      "  </listOfReactants>\n",
      "\n",
      "  <listOfProducts>\n",
      "    <speciesReference species=\"E_ACS\" stoichiometry=\"1.0\" constant=\"true\"/>\n",
      "    <speciesReference species=\"AMP\" stoichiometry=\"652\" constant=\"true\"/>\n",
      "    <speciesReference species=\"PPI\" stoichiometry=\"652\" constant=\"true\"/>\n",
      "    <speciesReference species=\"ADP\" stoichiometry=\"1304\" constant=\"true\"/>\n",
      "    <speciesReference species=\"PI\" stoichiometry=\"1304\" constant=\"true\"/>\n",
      "  </listOfProducts>\n",
      "</reaction>\n",
      "\n",
      "<reaction id=\"T_ADHER\" reversible=\"false\">\n",
      "  <annotation>\n",
      "    <ram:RAM xmlns:ram=\"https://www.fairdomhub.org/sops/304\">\n",
      "      <ram:reaction ram:kcatForward=\"1.14478\" ram:kcatBackward=\"0.0\" ram:maintenanceScaling=\"0.0\"/>\n",
      "    </ram:RAM>\n",
      "  </annotation>\n",
      "\n",
      "  <fbc:geneProductAssociation fbc:id=\"E_R\">\n",
      "    <fbc:geneProductRef fbc:geneProduct=\"E_R\"/>\n",
      "  </fbc:geneProductAssociation>\n",
      "\n",
      "  <listOfReactants>\n",
      "    <speciesReference species=\"Z\" stoichiometry=\"891\" constant=\"true\"/>\n",
      "    <speciesReference species=\"ATP\" stoichiometry=\"2673\" constant=\"true\"/>\n",
      "  </listOfReactants>\n",
      "\n",
      "  <listOfProducts>\n",
      "    <speciesReference species=\"E_ADHER\" stoichiometry=\"1.0\" constant=\"true\"/>\n",
      "    <speciesReference species=\"AMP\" stoichiometry=\"891\" constant=\"true\"/>\n",
      "    <speciesReference species=\"PPI\" stoichiometry=\"891\" constant=\"true\"/>\n",
      "    <speciesReference species=\"ADP\" stoichiometry=\"1782\" constant=\"true\"/>\n",
      "    <speciesReference species=\"PI\" stoichiometry=\"1782\" constant=\"true\"/>\n",
      "  </listOfProducts>\n",
      "</reaction>\n",
      "\n",
      "<reaction id=\"T_ADK\" reversible=\"false\">\n",
      "  <annotation>\n",
      "    <ram:RAM xmlns:ram=\"https://www.fairdomhub.org/sops/304\">\n",
      "      <ram:reaction ram:kcatForward=\"4.76636\" ram:kcatBackward=\"0.0\" ram:maintenanceScaling=\"0.0\"/>\n",
      "    </ram:RAM>\n",
      "  </annotation>\n",
      "\n",
      "  <fbc:geneProductAssociation fbc:id=\"E_R\">\n",
      "    <fbc:geneProductRef fbc:geneProduct=\"E_R\"/>\n",
      "  </fbc:geneProductAssociation>\n",
      "\n",
      "  <listOfReactants>\n",
      "    <speciesReference species=\"Z\" stoichiometry=\"214\" constant=\"true\"/>\n",
      "    <speciesReference species=\"ATP\" stoichiometry=\"642\" constant=\"true\"/>\n",
      "  </listOfReactants>\n",
      "\n",
      "  <listOfProducts>\n",
      "    <speciesReference species=\"E_ADK\" stoichiometry=\"1.0\" constant=\"true\"/>\n",
      "    <speciesReference species=\"AMP\" stoichiometry=\"214\" constant=\"true\"/>\n",
      "    <speciesReference species=\"PPI\" stoichiometry=\"214\" constant=\"true\"/>\n",
      "    <speciesReference species=\"ADP\" stoichiometry=\"428\" constant=\"true\"/>\n",
      "    <speciesReference species=\"PI\" stoichiometry=\"428\" constant=\"true\"/>\n",
      "  </listOfProducts>\n",
      "</reaction>\n",
      "\n",
      "<reaction id=\"T_ATPAR\" reversible=\"false\">\n",
      "  <annotation>\n",
      "    <ram:RAM xmlns:ram=\"https://www.fairdomhub.org/sops/304\">\n",
      "      <ram:reaction ram:kcatForward=\"0.46196\" ram:kcatBackward=\"0.0\" ram:maintenanceScaling=\"0.0\"/>\n",
      "    </ram:RAM>\n",
      "  </annotation>\n",
      "\n",
      "  <fbc:geneProductAssociation fbc:id=\"E_R\">\n",
      "    <fbc:geneProductRef fbc:geneProduct=\"E_R\"/>\n",
      "  </fbc:geneProductAssociation>\n",
      "\n",
      "  <listOfReactants>\n",
      "    <speciesReference species=\"Z\" stoichiometry=\"2208\" constant=\"true\"/>\n",
      "    <speciesReference species=\"ATP\" stoichiometry=\"6624\" constant=\"true\"/>\n",
      "  </listOfReactants>\n",
      "\n",
      "  <listOfProducts>\n",
      "    <speciesReference species=\"E_ATPAR\" stoichiometry=\"1.0\" constant=\"true\"/>\n",
      "    <speciesReference species=\"AMP\" stoichiometry=\"2208\" constant=\"true\"/>\n",
      "    <speciesReference species=\"PPI\" stoichiometry=\"2208\" constant=\"true\"/>\n",
      "    <speciesReference species=\"ADP\" stoichiometry=\"4416\" constant=\"true\"/>\n",
      "    <speciesReference species=\"PI\" stoichiometry=\"4416\" constant=\"true\"/>\n",
      "  </listOfProducts>\n",
      "</reaction>\n",
      "\n",
      "<reaction id=\"T_CYDA\" reversible=\"false\">\n",
      "  <annotation>\n",
      "    <ram:RAM xmlns:ram=\"https://www.fairdomhub.org/sops/304\">\n",
      "      <ram:reaction ram:kcatForward=\"1.13208\" ram:kcatBackward=\"0.0\" ram:maintenanceScaling=\"0.0\"/>\n",
      "    </ram:RAM>\n",
      "  </annotation>\n",
      "\n",
      "  <fbc:geneProductAssociation fbc:id=\"E_R\">\n",
      "    <fbc:geneProductRef fbc:geneProduct=\"E_R\"/>\n",
      "  </fbc:geneProductAssociation>\n",
      "\n",
      "  <listOfReactants>\n",
      "    <speciesReference species=\"Z\" stoichiometry=\"901\" constant=\"true\"/>\n",
      "    <speciesReference species=\"ATP\" stoichiometry=\"2703\" constant=\"true\"/>\n",
      "  </listOfReactants>\n",
      "\n",
      "  <listOfProducts>\n",
      "    <speciesReference species=\"E_CYDA\" stoichiometry=\"1.0\" constant=\"true\"/>\n",
      "    <speciesReference species=\"AMP\" stoichiometry=\"901\" constant=\"true\"/>\n",
      "    <speciesReference species=\"PPI\" stoichiometry=\"901\" constant=\"true\"/>\n",
      "    <speciesReference species=\"ADP\" stoichiometry=\"1802\" constant=\"true\"/>\n",
      "    <speciesReference species=\"PI\" stoichiometry=\"1802\" constant=\"true\"/>\n",
      "  </listOfProducts>\n",
      "</reaction>\n",
      "\n",
      "<reaction id=\"T_CYOA\" reversible=\"false\">\n",
      "  <annotation>\n",
      "    <ram:RAM xmlns:ram=\"https://www.fairdomhub.org/sops/304\">\n",
      "      <ram:reaction ram:kcatForward=\"0.79009\" ram:kcatBackward=\"0.0\" ram:maintenanceScaling=\"0.0\"/>\n",
      "    </ram:RAM>\n",
      "  </annotation>\n",
      "\n",
      "  <fbc:geneProductAssociation fbc:id=\"E_R\">\n",
      "    <fbc:geneProductRef fbc:geneProduct=\"E_R\"/>\n",
      "  </fbc:geneProductAssociation>\n",
      "\n",
      "  <listOfReactants>\n",
      "    <speciesReference species=\"Z\" stoichiometry=\"1291\" constant=\"true\"/>\n",
      "    <speciesReference species=\"ATP\" stoichiometry=\"3873\" constant=\"true\"/>\n",
      "  </listOfReactants>\n",
      "\n",
      "  <listOfProducts>\n",
      "    <speciesReference species=\"E_CYOA\" stoichiometry=\"1.0\" constant=\"true\"/>\n",
      "    <speciesReference species=\"AMP\" stoichiometry=\"1291\" constant=\"true\"/>\n",
      "    <speciesReference species=\"PPI\" stoichiometry=\"1291\" constant=\"true\"/>\n",
      "    <speciesReference species=\"ADP\" stoichiometry=\"2582\" constant=\"true\"/>\n",
      "    <speciesReference species=\"PI\" stoichiometry=\"2582\" constant=\"true\"/>\n",
      "  </listOfProducts>\n",
      "</reaction>\n",
      "\n",
      "<reaction id=\"T_DLD1R\" reversible=\"false\">\n",
      "  <annotation>\n",
      "    <ram:RAM xmlns:ram=\"https://www.fairdomhub.org/sops/304\">\n",
      "      <ram:reaction ram:kcatForward=\"1.78634\" ram:kcatBackward=\"0.0\" ram:maintenanceScaling=\"0.0\"/>\n",
      "    </ram:RAM>\n",
      "  </annotation>\n",
      "\n",
      "  <fbc:geneProductAssociation fbc:id=\"E_R\">\n",
      "    <fbc:geneProductRef fbc:geneProduct=\"E_R\"/>\n",
      "  </fbc:geneProductAssociation>\n",
      "\n",
      "  <listOfReactants>\n",
      "    <speciesReference species=\"Z\" stoichiometry=\"571\" constant=\"true\"/>\n",
      "    <speciesReference species=\"ATP\" stoichiometry=\"1713\" constant=\"true\"/>\n",
      "  </listOfReactants>\n",
      "\n",
      "  <listOfProducts>\n",
      "    <speciesReference species=\"E_DLD1R\" stoichiometry=\"1.0\" constant=\"true\"/>\n",
      "    <speciesReference species=\"AMP\" stoichiometry=\"571\" constant=\"true\"/>\n",
      "    <speciesReference species=\"PPI\" stoichiometry=\"571\" constant=\"true\"/>\n",
      "    <speciesReference species=\"ADP\" stoichiometry=\"1142\" constant=\"true\"/>\n",
      "    <speciesReference species=\"PI\" stoichiometry=\"1142\" constant=\"true\"/>\n",
      "  </listOfProducts>\n",
      "</reaction>\n",
      "\n",
      "<reaction id=\"T_DLD2\" reversible=\"false\">\n",
      "  <annotation>\n",
      "    <ram:RAM xmlns:ram=\"https://www.fairdomhub.org/sops/304\">\n",
      "      <ram:reaction ram:kcatForward=\"1.78634\" ram:kcatBackward=\"0.0\" ram:maintenanceScaling=\"0.0\"/>\n",
      "    </ram:RAM>\n",
      "  </annotation>\n",
      "\n",
      "  <fbc:geneProductAssociation fbc:id=\"E_R\">\n",
      "    <fbc:geneProductRef fbc:geneProduct=\"E_R\"/>\n",
      "  </fbc:geneProductAssociation>\n",
      "\n",
      "  <listOfReactants>\n",
      "    <speciesReference species=\"Z\" stoichiometry=\"571\" constant=\"true\"/>\n",
      "    <speciesReference species=\"ATP\" stoichiometry=\"1713\" constant=\"true\"/>\n",
      "  </listOfReactants>\n",
      "\n",
      "  <listOfProducts>\n",
      "    <speciesReference species=\"E_DLD2\" stoichiometry=\"1.0\" constant=\"true\"/>\n",
      "    <speciesReference species=\"AMP\" stoichiometry=\"571\" constant=\"true\"/>\n",
      "    <speciesReference species=\"PPI\" stoichiometry=\"571\" constant=\"true\"/>\n",
      "    <speciesReference species=\"ADP\" stoichiometry=\"1142\" constant=\"true\"/>\n",
      "    <speciesReference species=\"PI\" stoichiometry=\"1142\" constant=\"true\"/>\n",
      "  </listOfProducts>\n",
      "</reaction>\n",
      "\n",
      "<reaction id=\"T_ENOR\" reversible=\"false\">\n",
      "  <annotation>\n",
      "    <ram:RAM xmlns:ram=\"https://www.fairdomhub.org/sops/304\">\n",
      "      <ram:reaction ram:kcatForward=\"2.36111\" ram:kcatBackward=\"0.0\" ram:maintenanceScaling=\"0.0\"/>\n",
      "    </ram:RAM>\n",
      "  </annotation>\n",
      "\n",
      "  <fbc:geneProductAssociation fbc:id=\"E_R\">\n",
      "    <fbc:geneProductRef fbc:geneProduct=\"E_R\"/>\n",
      "  </fbc:geneProductAssociation>\n",
      "\n",
      "  <listOfReactants>\n",
      "    <speciesReference species=\"Z\" stoichiometry=\"432\" constant=\"true\"/>\n",
      "    <speciesReference species=\"ATP\" stoichiometry=\"1296\" constant=\"true\"/>\n",
      "  </listOfReactants>\n",
      "\n",
      "  <listOfProducts>\n",
      "    <speciesReference species=\"E_ENOR\" stoichiometry=\"1.0\" constant=\"true\"/>\n",
      "    <speciesReference species=\"AMP\" stoichiometry=\"432\" constant=\"true\"/>\n",
      "    <speciesReference species=\"PPI\" stoichiometry=\"432\" constant=\"true\"/>\n",
      "    <speciesReference species=\"ADP\" stoichiometry=\"864\" constant=\"true\"/>\n",
      "    <speciesReference species=\"PI\" stoichiometry=\"864\" constant=\"true\"/>\n",
      "  </listOfProducts>\n",
      "</reaction>\n",
      "\n",
      "<reaction id=\"T_FBAR\" reversible=\"false\">\n",
      "  <annotation>\n",
      "    <ram:RAM xmlns:ram=\"https://www.fairdomhub.org/sops/304\">\n",
      "      <ram:reaction ram:kcatForward=\"2.84123\" ram:kcatBackward=\"0.0\" ram:maintenanceScaling=\"0.0\"/>\n",
      "    </ram:RAM>\n",
      "  </annotation>\n",
      "\n",
      "  <fbc:geneProductAssociation fbc:id=\"E_R\">\n",
      "    <fbc:geneProductRef fbc:geneProduct=\"E_R\"/>\n",
      "  </fbc:geneProductAssociation>\n",
      "\n",
      "  <listOfReactants>\n",
      "    <speciesReference species=\"Z\" stoichiometry=\"359\" constant=\"true\"/>\n",
      "    <speciesReference species=\"ATP\" stoichiometry=\"1077\" constant=\"true\"/>\n",
      "  </listOfReactants>\n",
      "\n",
      "  <listOfProducts>\n",
      "    <speciesReference species=\"E_FBAR\" stoichiometry=\"1.0\" constant=\"true\"/>\n",
      "    <speciesReference species=\"AMP\" stoichiometry=\"359\" constant=\"true\"/>\n",
      "    <speciesReference species=\"PPI\" stoichiometry=\"359\" constant=\"true\"/>\n",
      "    <speciesReference species=\"ADP\" stoichiometry=\"718\" constant=\"true\"/>\n",
      "    <speciesReference species=\"PI\" stoichiometry=\"718\" constant=\"true\"/>\n",
      "  </listOfProducts>\n",
      "</reaction>\n",
      "\n",
      "<reaction id=\"T_FBP\" reversible=\"false\">\n",
      "  <annotation>\n",
      "    <ram:RAM xmlns:ram=\"https://www.fairdomhub.org/sops/304\">\n",
      "      <ram:reaction ram:kcatForward=\"3.07229\" ram:kcatBackward=\"0.0\" ram:maintenanceScaling=\"0.0\"/>\n",
      "    </ram:RAM>\n",
      "  </annotation>\n",
      "\n",
      "  <fbc:geneProductAssociation fbc:id=\"E_R\">\n",
      "    <fbc:geneProductRef fbc:geneProduct=\"E_R\"/>\n",
      "  </fbc:geneProductAssociation>\n",
      "\n",
      "  <listOfReactants>\n",
      "    <speciesReference species=\"Z\" stoichiometry=\"332\" constant=\"true\"/>\n",
      "    <speciesReference species=\"ATP\" stoichiometry=\"996\" constant=\"true\"/>\n",
      "  </listOfReactants>\n",
      "\n",
      "  <listOfProducts>\n",
      "    <speciesReference species=\"E_FBP\" stoichiometry=\"1.0\" constant=\"true\"/>\n",
      "    <speciesReference species=\"AMP\" stoichiometry=\"332\" constant=\"true\"/>\n",
      "    <speciesReference species=\"PPI\" stoichiometry=\"332\" constant=\"true\"/>\n",
      "    <speciesReference species=\"ADP\" stoichiometry=\"664\" constant=\"true\"/>\n",
      "    <speciesReference species=\"PI\" stoichiometry=\"664\" constant=\"true\"/>\n",
      "  </listOfProducts>\n",
      "</reaction>\n",
      "\n",
      "<reaction id=\"T_FDNG\" reversible=\"false\">\n",
      "  <annotation>\n",
      "    <ram:RAM xmlns:ram=\"https://www.fairdomhub.org/sops/304\">\n",
      "      <ram:reaction ram:kcatForward=\"0.66841\" ram:kcatBackward=\"0.0\" ram:maintenanceScaling=\"0.0\"/>\n",
      "    </ram:RAM>\n",
      "  </annotation>\n",
      "\n",
      "  <fbc:geneProductAssociation fbc:id=\"E_R\">\n",
      "    <fbc:geneProductRef fbc:geneProduct=\"E_R\"/>\n",
      "  </fbc:geneProductAssociation>\n",
      "\n",
      "  <listOfReactants>\n",
      "    <speciesReference species=\"Z\" stoichiometry=\"1526\" constant=\"true\"/>\n",
      "    <speciesReference species=\"ATP\" stoichiometry=\"4578\" constant=\"true\"/>\n",
      "  </listOfReactants>\n",
      "\n",
      "  <listOfProducts>\n",
      "    <speciesReference species=\"E_FDNG\" stoichiometry=\"1.0\" constant=\"true\"/>\n",
      "    <speciesReference species=\"AMP\" stoichiometry=\"1526\" constant=\"true\"/>\n",
      "    <speciesReference species=\"PPI\" stoichiometry=\"1526\" constant=\"true\"/>\n",
      "    <speciesReference species=\"ADP\" stoichiometry=\"3052\" constant=\"true\"/>\n",
      "    <speciesReference species=\"PI\" stoichiometry=\"3052\" constant=\"true\"/>\n",
      "  </listOfProducts>\n",
      "</reaction>\n",
      "\n",
      "<reaction id=\"T_FDOH\" reversible=\"false\">\n",
      "  <annotation>\n",
      "    <ram:RAM xmlns:ram=\"https://www.fairdomhub.org/sops/304\">\n",
      "      <ram:reaction ram:kcatForward=\"0.66798\" ram:kcatBackward=\"0.0\" ram:maintenanceScaling=\"0.0\"/>\n",
      "    </ram:RAM>\n",
      "  </annotation>\n",
      "\n",
      "  <fbc:geneProductAssociation fbc:id=\"E_R\">\n",
      "    <fbc:geneProductRef fbc:geneProduct=\"E_R\"/>\n",
      "  </fbc:geneProductAssociation>\n",
      "\n",
      "  <listOfReactants>\n",
      "    <speciesReference species=\"Z\" stoichiometry=\"1527\" constant=\"true\"/>\n",
      "    <speciesReference species=\"ATP\" stoichiometry=\"4581\" constant=\"true\"/>\n",
      "  </listOfReactants>\n",
      "\n",
      "  <listOfProducts>\n",
      "    <speciesReference species=\"E_FDOH\" stoichiometry=\"1.0\" constant=\"true\"/>\n",
      "    <speciesReference species=\"AMP\" stoichiometry=\"1527\" constant=\"true\"/>\n",
      "    <speciesReference species=\"PPI\" stoichiometry=\"1527\" constant=\"true\"/>\n",
      "    <speciesReference species=\"ADP\" stoichiometry=\"3054\" constant=\"true\"/>\n",
      "    <speciesReference species=\"PI\" stoichiometry=\"3054\" constant=\"true\"/>\n",
      "  </listOfProducts>\n",
      "</reaction>\n",
      "\n",
      "<reaction id=\"T_FRDA\" reversible=\"false\">\n",
      "  <annotation>\n",
      "    <ram:RAM xmlns:ram=\"https://www.fairdomhub.org/sops/304\">\n",
      "      <ram:reaction ram:kcatForward=\"0.93066\" ram:kcatBackward=\"0.0\" ram:maintenanceScaling=\"0.0\"/>\n",
      "    </ram:RAM>\n",
      "  </annotation>\n",
      "\n",
      "  <fbc:geneProductAssociation fbc:id=\"E_R\">\n",
      "    <fbc:geneProductRef fbc:geneProduct=\"E_R\"/>\n",
      "  </fbc:geneProductAssociation>\n",
      "\n",
      "  <listOfReactants>\n",
      "    <speciesReference species=\"Z\" stoichiometry=\"1096\" constant=\"true\"/>\n",
      "    <speciesReference species=\"ATP\" stoichiometry=\"3288\" constant=\"true\"/>\n",
      "  </listOfReactants>\n",
      "\n",
      "  <listOfProducts>\n",
      "    <speciesReference species=\"E_FRDA\" stoichiometry=\"1.0\" constant=\"true\"/>\n",
      "    <speciesReference species=\"AMP\" stoichiometry=\"1096\" constant=\"true\"/>\n",
      "    <speciesReference species=\"PPI\" stoichiometry=\"1096\" constant=\"true\"/>\n",
      "    <speciesReference species=\"ADP\" stoichiometry=\"2192\" constant=\"true\"/>\n",
      "    <speciesReference species=\"PI\" stoichiometry=\"2192\" constant=\"true\"/>\n",
      "  </listOfProducts>\n",
      "</reaction>\n",
      "\n",
      "<reaction id=\"T_FUMAR\" reversible=\"false\">\n",
      "  <annotation>\n",
      "    <ram:RAM xmlns:ram=\"https://www.fairdomhub.org/sops/304\">\n",
      "      <ram:reaction ram:kcatForward=\"1.86131\" ram:kcatBackward=\"0.0\" ram:maintenanceScaling=\"0.0\"/>\n",
      "    </ram:RAM>\n",
      "  </annotation>\n",
      "\n",
      "  <fbc:geneProductAssociation fbc:id=\"E_R\">\n",
      "    <fbc:geneProductRef fbc:geneProduct=\"E_R\"/>\n",
      "  </fbc:geneProductAssociation>\n",
      "\n",
      "  <listOfReactants>\n",
      "    <speciesReference species=\"Z\" stoichiometry=\"548\" constant=\"true\"/>\n",
      "    <speciesReference species=\"ATP\" stoichiometry=\"1644\" constant=\"true\"/>\n",
      "  </listOfReactants>\n",
      "\n",
      "  <listOfProducts>\n",
      "    <speciesReference species=\"E_FUMAR\" stoichiometry=\"1.0\" constant=\"true\"/>\n",
      "    <speciesReference species=\"AMP\" stoichiometry=\"548\" constant=\"true\"/>\n",
      "    <speciesReference species=\"PPI\" stoichiometry=\"548\" constant=\"true\"/>\n",
      "    <speciesReference species=\"ADP\" stoichiometry=\"1096\" constant=\"true\"/>\n",
      "    <speciesReference species=\"PI\" stoichiometry=\"1096\" constant=\"true\"/>\n",
      "  </listOfProducts>\n",
      "</reaction>\n",
      "\n",
      "<reaction id=\"T_FUMBR\" reversible=\"false\">\n",
      "  <annotation>\n",
      "    <ram:RAM xmlns:ram=\"https://www.fairdomhub.org/sops/304\">\n",
      "      <ram:reaction ram:kcatForward=\"1.86131\" ram:kcatBackward=\"0.0\" ram:maintenanceScaling=\"0.0\"/>\n",
      "    </ram:RAM>\n",
      "  </annotation>\n",
      "\n",
      "  <fbc:geneProductAssociation fbc:id=\"E_R\">\n",
      "    <fbc:geneProductRef fbc:geneProduct=\"E_R\"/>\n",
      "  </fbc:geneProductAssociation>\n",
      "\n",
      "  <listOfReactants>\n",
      "    <speciesReference species=\"Z\" stoichiometry=\"548\" constant=\"true\"/>\n",
      "    <speciesReference species=\"ATP\" stoichiometry=\"1644\" constant=\"true\"/>\n",
      "  </listOfReactants>\n",
      "\n",
      "  <listOfProducts>\n",
      "    <speciesReference species=\"E_FUMBR\" stoichiometry=\"1.0\" constant=\"true\"/>\n",
      "    <speciesReference species=\"AMP\" stoichiometry=\"548\" constant=\"true\"/>\n",
      "    <speciesReference species=\"PPI\" stoichiometry=\"548\" constant=\"true\"/>\n",
      "    <speciesReference species=\"ADP\" stoichiometry=\"1096\" constant=\"true\"/>\n",
      "    <speciesReference species=\"PI\" stoichiometry=\"1096\" constant=\"true\"/>\n",
      "  </listOfProducts>\n",
      "</reaction>\n",
      "\n",
      "<reaction id=\"T_FUMCR\" reversible=\"false\">\n",
      "  <annotation>\n",
      "    <ram:RAM xmlns:ram=\"https://www.fairdomhub.org/sops/304\">\n",
      "      <ram:reaction ram:kcatForward=\"2.18415\" ram:kcatBackward=\"0.0\" ram:maintenanceScaling=\"0.0\"/>\n",
      "    </ram:RAM>\n",
      "  </annotation>\n",
      "\n",
      "  <fbc:geneProductAssociation fbc:id=\"E_R\">\n",
      "    <fbc:geneProductRef fbc:geneProduct=\"E_R\"/>\n",
      "  </fbc:geneProductAssociation>\n",
      "\n",
      "  <listOfReactants>\n",
      "    <speciesReference species=\"Z\" stoichiometry=\"467\" constant=\"true\"/>\n",
      "    <speciesReference species=\"ATP\" stoichiometry=\"1401\" constant=\"true\"/>\n",
      "  </listOfReactants>\n",
      "\n",
      "  <listOfProducts>\n",
      "    <speciesReference species=\"E_FUMCR\" stoichiometry=\"1.0\" constant=\"true\"/>\n",
      "    <speciesReference species=\"AMP\" stoichiometry=\"467\" constant=\"true\"/>\n",
      "    <speciesReference species=\"PPI\" stoichiometry=\"467\" constant=\"true\"/>\n",
      "    <speciesReference species=\"ADP\" stoichiometry=\"934\" constant=\"true\"/>\n",
      "    <speciesReference species=\"PI\" stoichiometry=\"934\" constant=\"true\"/>\n",
      "  </listOfProducts>\n",
      "</reaction>\n",
      "\n",
      "<reaction id=\"T_GALER\" reversible=\"false\">\n",
      "  <annotation>\n",
      "    <ram:RAM xmlns:ram=\"https://www.fairdomhub.org/sops/304\">\n",
      "      <ram:reaction ram:kcatForward=\"3.01775\" ram:kcatBackward=\"0.0\" ram:maintenanceScaling=\"0.0\"/>\n",
      "    </ram:RAM>\n",
      "  </annotation>\n",
      "\n",
      "  <fbc:geneProductAssociation fbc:id=\"E_R\">\n",
      "    <fbc:geneProductRef fbc:geneProduct=\"E_R\"/>\n",
      "  </fbc:geneProductAssociation>\n",
      "\n",
      "  <listOfReactants>\n",
      "    <speciesReference species=\"Z\" stoichiometry=\"338\" constant=\"true\"/>\n",
      "    <speciesReference species=\"ATP\" stoichiometry=\"1014\" constant=\"true\"/>\n",
      "  </listOfReactants>\n",
      "\n",
      "  <listOfProducts>\n",
      "    <speciesReference species=\"E_GALER\" stoichiometry=\"1.0\" constant=\"true\"/>\n",
      "    <speciesReference species=\"AMP\" stoichiometry=\"338\" constant=\"true\"/>\n",
      "    <speciesReference species=\"PPI\" stoichiometry=\"338\" constant=\"true\"/>\n",
      "    <speciesReference species=\"ADP\" stoichiometry=\"676\" constant=\"true\"/>\n",
      "    <speciesReference species=\"PI\" stoichiometry=\"676\" constant=\"true\"/>\n",
      "  </listOfProducts>\n",
      "</reaction>\n",
      "\n",
      "<reaction id=\"T_GALKR\" reversible=\"false\">\n",
      "  <annotation>\n",
      "    <ram:RAM xmlns:ram=\"https://www.fairdomhub.org/sops/304\">\n",
      "      <ram:reaction ram:kcatForward=\"2.67016\" ram:kcatBackward=\"0.0\" ram:maintenanceScaling=\"0.0\"/>\n",
      "    </ram:RAM>\n",
      "  </annotation>\n",
      "\n",
      "  <fbc:geneProductAssociation fbc:id=\"E_R\">\n",
      "    <fbc:geneProductRef fbc:geneProduct=\"E_R\"/>\n",
      "  </fbc:geneProductAssociation>\n",
      "\n",
      "  <listOfReactants>\n",
      "    <speciesReference species=\"Z\" stoichiometry=\"382\" constant=\"true\"/>\n",
      "    <speciesReference species=\"ATP\" stoichiometry=\"1146\" constant=\"true\"/>\n",
      "  </listOfReactants>\n",
      "\n",
      "  <listOfProducts>\n",
      "    <speciesReference species=\"E_GALKR\" stoichiometry=\"1.0\" constant=\"true\"/>\n",
      "    <speciesReference species=\"AMP\" stoichiometry=\"382\" constant=\"true\"/>\n",
      "    <speciesReference species=\"PPI\" stoichiometry=\"382\" constant=\"true\"/>\n",
      "    <speciesReference species=\"ADP\" stoichiometry=\"764\" constant=\"true\"/>\n",
      "    <speciesReference species=\"PI\" stoichiometry=\"764\" constant=\"true\"/>\n",
      "  </listOfProducts>\n",
      "</reaction>\n",
      "\n",
      "<reaction id=\"T_GALM1R\" reversible=\"false\">\n",
      "  <annotation>\n",
      "    <ram:RAM xmlns:ram=\"https://www.fairdomhub.org/sops/304\">\n",
      "      <ram:reaction ram:kcatForward=\"2.94798\" ram:kcatBackward=\"0.0\" ram:maintenanceScaling=\"0.0\"/>\n",
      "    </ram:RAM>\n",
      "  </annotation>\n",
      "\n",
      "  <fbc:geneProductAssociation fbc:id=\"E_R\">\n",
      "    <fbc:geneProductRef fbc:geneProduct=\"E_R\"/>\n",
      "  </fbc:geneProductAssociation>\n",
      "\n",
      "  <listOfReactants>\n",
      "    <speciesReference species=\"Z\" stoichiometry=\"346\" constant=\"true\"/>\n",
      "    <speciesReference species=\"ATP\" stoichiometry=\"1038\" constant=\"true\"/>\n",
      "  </listOfReactants>\n",
      "\n",
      "  <listOfProducts>\n",
      "    <speciesReference species=\"E_GALM1R\" stoichiometry=\"1.0\" constant=\"true\"/>\n",
      "    <speciesReference species=\"AMP\" stoichiometry=\"346\" constant=\"true\"/>\n",
      "    <speciesReference species=\"PPI\" stoichiometry=\"346\" constant=\"true\"/>\n",
      "    <speciesReference species=\"ADP\" stoichiometry=\"692\" constant=\"true\"/>\n",
      "    <speciesReference species=\"PI\" stoichiometry=\"692\" constant=\"true\"/>\n",
      "  </listOfProducts>\n",
      "</reaction>\n",
      "\n",
      "<reaction id=\"T_GALM2R\" reversible=\"false\">\n",
      "  <annotation>\n",
      "    <ram:RAM xmlns:ram=\"https://www.fairdomhub.org/sops/304\">\n",
      "      <ram:reaction ram:kcatForward=\"2.94798\" ram:kcatBackward=\"0.0\" ram:maintenanceScaling=\"0.0\"/>\n",
      "    </ram:RAM>\n",
      "  </annotation>\n",
      "\n",
      "  <fbc:geneProductAssociation fbc:id=\"E_R\">\n",
      "    <fbc:geneProductRef fbc:geneProduct=\"E_R\"/>\n",
      "  </fbc:geneProductAssociation>\n",
      "\n",
      "  <listOfReactants>\n",
      "    <speciesReference species=\"Z\" stoichiometry=\"346\" constant=\"true\"/>\n",
      "    <speciesReference species=\"ATP\" stoichiometry=\"1038\" constant=\"true\"/>\n",
      "  </listOfReactants>\n",
      "\n",
      "  <listOfProducts>\n",
      "    <speciesReference species=\"E_GALM2R\" stoichiometry=\"1.0\" constant=\"true\"/>\n",
      "    <speciesReference species=\"AMP\" stoichiometry=\"346\" constant=\"true\"/>\n",
      "    <speciesReference species=\"PPI\" stoichiometry=\"346\" constant=\"true\"/>\n",
      "    <speciesReference species=\"ADP\" stoichiometry=\"692\" constant=\"true\"/>\n",
      "    <speciesReference species=\"PI\" stoichiometry=\"692\" constant=\"true\"/>\n",
      "  </listOfProducts>\n",
      "</reaction>\n",
      "\n",
      "<reaction id=\"T_GALTR\" reversible=\"false\">\n",
      "  <annotation>\n",
      "    <ram:RAM xmlns:ram=\"https://www.fairdomhub.org/sops/304\">\n",
      "      <ram:reaction ram:kcatForward=\"2.93103\" ram:kcatBackward=\"0.0\" ram:maintenanceScaling=\"0.0\"/>\n",
      "    </ram:RAM>\n",
      "  </annotation>\n",
      "\n",
      "  <fbc:geneProductAssociation fbc:id=\"E_R\">\n",
      "    <fbc:geneProductRef fbc:geneProduct=\"E_R\"/>\n",
      "  </fbc:geneProductAssociation>\n",
      "\n",
      "  <listOfReactants>\n",
      "    <speciesReference species=\"Z\" stoichiometry=\"348\" constant=\"true\"/>\n",
      "    <speciesReference species=\"ATP\" stoichiometry=\"1044\" constant=\"true\"/>\n",
      "  </listOfReactants>\n",
      "\n",
      "  <listOfProducts>\n",
      "    <speciesReference species=\"E_GALTR\" stoichiometry=\"1.0\" constant=\"true\"/>\n",
      "    <speciesReference species=\"AMP\" stoichiometry=\"348\" constant=\"true\"/>\n",
      "    <speciesReference species=\"PPI\" stoichiometry=\"348\" constant=\"true\"/>\n",
      "    <speciesReference species=\"ADP\" stoichiometry=\"696\" constant=\"true\"/>\n",
      "    <speciesReference species=\"PI\" stoichiometry=\"696\" constant=\"true\"/>\n",
      "  </listOfProducts>\n",
      "</reaction>\n",
      "\n",
      "<reaction id=\"T_GALUR\" reversible=\"false\">\n",
      "  <annotation>\n",
      "    <ram:RAM xmlns:ram=\"https://www.fairdomhub.org/sops/304\">\n",
      "      <ram:reaction ram:kcatForward=\"3.37748\" ram:kcatBackward=\"0.0\" ram:maintenanceScaling=\"0.0\"/>\n",
      "    </ram:RAM>\n",
      "  </annotation>\n",
      "\n",
      "  <fbc:geneProductAssociation fbc:id=\"E_R\">\n",
      "    <fbc:geneProductRef fbc:geneProduct=\"E_R\"/>\n",
      "  </fbc:geneProductAssociation>\n",
      "\n",
      "  <listOfReactants>\n",
      "    <speciesReference species=\"Z\" stoichiometry=\"302\" constant=\"true\"/>\n",
      "    <speciesReference species=\"ATP\" stoichiometry=\"906\" constant=\"true\"/>\n",
      "  </listOfReactants>\n",
      "\n",
      "  <listOfProducts>\n",
      "    <speciesReference species=\"E_GALUR\" stoichiometry=\"1.0\" constant=\"true\"/>\n",
      "    <speciesReference species=\"AMP\" stoichiometry=\"302\" constant=\"true\"/>\n",
      "    <speciesReference species=\"PPI\" stoichiometry=\"302\" constant=\"true\"/>\n",
      "    <speciesReference species=\"ADP\" stoichiometry=\"604\" constant=\"true\"/>\n",
      "    <speciesReference species=\"PI\" stoichiometry=\"604\" constant=\"true\"/>\n",
      "  </listOfProducts>\n",
      "</reaction>\n",
      "\n",
      "<reaction id=\"T_GAPAR\" reversible=\"false\">\n",
      "  <annotation>\n",
      "    <ram:RAM xmlns:ram=\"https://www.fairdomhub.org/sops/304\">\n",
      "      <ram:reaction ram:kcatForward=\"3.08157\" ram:kcatBackward=\"0.0\" ram:maintenanceScaling=\"0.0\"/>\n",
      "    </ram:RAM>\n",
      "  </annotation>\n",
      "\n",
      "  <fbc:geneProductAssociation fbc:id=\"E_R\">\n",
      "    <fbc:geneProductRef fbc:geneProduct=\"E_R\"/>\n",
      "  </fbc:geneProductAssociation>\n",
      "\n",
      "  <listOfReactants>\n",
      "    <speciesReference species=\"Z\" stoichiometry=\"331\" constant=\"true\"/>\n",
      "    <speciesReference species=\"ATP\" stoichiometry=\"993\" constant=\"true\"/>\n",
      "  </listOfReactants>\n",
      "\n",
      "  <listOfProducts>\n",
      "    <speciesReference species=\"E_GAPAR\" stoichiometry=\"1.0\" constant=\"true\"/>\n",
      "    <speciesReference species=\"AMP\" stoichiometry=\"331\" constant=\"true\"/>\n",
      "    <speciesReference species=\"PPI\" stoichiometry=\"331\" constant=\"true\"/>\n",
      "    <speciesReference species=\"ADP\" stoichiometry=\"662\" constant=\"true\"/>\n",
      "    <speciesReference species=\"PI\" stoichiometry=\"662\" constant=\"true\"/>\n",
      "  </listOfProducts>\n",
      "</reaction>\n",
      "\n",
      "<reaction id=\"T_GLK\" reversible=\"false\">\n",
      "  <annotation>\n",
      "    <ram:RAM xmlns:ram=\"https://www.fairdomhub.org/sops/304\">\n",
      "      <ram:reaction ram:kcatForward=\"3.17757\" ram:kcatBackward=\"0.0\" ram:maintenanceScaling=\"0.0\"/>\n",
      "    </ram:RAM>\n",
      "  </annotation>\n",
      "\n",
      "  <fbc:geneProductAssociation fbc:id=\"E_R\">\n",
      "    <fbc:geneProductRef fbc:geneProduct=\"E_R\"/>\n",
      "  </fbc:geneProductAssociation>\n",
      "\n",
      "  <listOfReactants>\n",
      "    <speciesReference species=\"Z\" stoichiometry=\"321\" constant=\"true\"/>\n",
      "    <speciesReference species=\"ATP\" stoichiometry=\"963\" constant=\"true\"/>\n",
      "  </listOfReactants>\n",
      "\n",
      "  <listOfProducts>\n",
      "    <speciesReference species=\"E_GLK\" stoichiometry=\"1.0\" constant=\"true\"/>\n",
      "    <speciesReference species=\"AMP\" stoichiometry=\"321\" constant=\"true\"/>\n",
      "    <speciesReference species=\"PPI\" stoichiometry=\"321\" constant=\"true\"/>\n",
      "    <speciesReference species=\"ADP\" stoichiometry=\"642\" constant=\"true\"/>\n",
      "    <speciesReference species=\"PI\" stoichiometry=\"642\" constant=\"true\"/>\n",
      "  </listOfProducts>\n",
      "</reaction>\n",
      "\n",
      "<reaction id=\"T_GLPA\" reversible=\"false\">\n",
      "  <annotation>\n",
      "    <ram:RAM xmlns:ram=\"https://www.fairdomhub.org/sops/304\">\n",
      "      <ram:reaction ram:kcatForward=\"0.75166\" ram:kcatBackward=\"0.0\" ram:maintenanceScaling=\"0.0\"/>\n",
      "    </ram:RAM>\n",
      "  </annotation>\n",
      "\n",
      "  <fbc:geneProductAssociation fbc:id=\"E_R\">\n",
      "    <fbc:geneProductRef fbc:geneProduct=\"E_R\"/>\n",
      "  </fbc:geneProductAssociation>\n",
      "\n",
      "  <listOfReactants>\n",
      "    <speciesReference species=\"Z\" stoichiometry=\"1357\" constant=\"true\"/>\n",
      "    <speciesReference species=\"ATP\" stoichiometry=\"4071\" constant=\"true\"/>\n",
      "  </listOfReactants>\n",
      "\n",
      "  <listOfProducts>\n",
      "    <speciesReference species=\"E_GLPA\" stoichiometry=\"1.0\" constant=\"true\"/>\n",
      "    <speciesReference species=\"AMP\" stoichiometry=\"1357\" constant=\"true\"/>\n",
      "    <speciesReference species=\"PPI\" stoichiometry=\"1357\" constant=\"true\"/>\n",
      "    <speciesReference species=\"ADP\" stoichiometry=\"2714\" constant=\"true\"/>\n",
      "    <speciesReference species=\"PI\" stoichiometry=\"2714\" constant=\"true\"/>\n",
      "  </listOfProducts>\n",
      "</reaction>\n",
      "\n",
      "<reaction id=\"T_GLPD\" reversible=\"false\">\n",
      "  <annotation>\n",
      "    <ram:RAM xmlns:ram=\"https://www.fairdomhub.org/sops/304\">\n",
      "      <ram:reaction ram:kcatForward=\"2.03593\" ram:kcatBackward=\"0.0\" ram:maintenanceScaling=\"0.0\"/>\n",
      "    </ram:RAM>\n",
      "  </annotation>\n",
      "\n",
      "  <fbc:geneProductAssociation fbc:id=\"E_R\">\n",
      "    <fbc:geneProductRef fbc:geneProduct=\"E_R\"/>\n",
      "  </fbc:geneProductAssociation>\n",
      "\n",
      "  <listOfReactants>\n",
      "    <speciesReference species=\"Z\" stoichiometry=\"501\" constant=\"true\"/>\n",
      "    <speciesReference species=\"ATP\" stoichiometry=\"1503\" constant=\"true\"/>\n",
      "  </listOfReactants>\n",
      "\n",
      "  <listOfProducts>\n",
      "    <speciesReference species=\"E_GLPD\" stoichiometry=\"1.0\" constant=\"true\"/>\n",
      "    <speciesReference species=\"AMP\" stoichiometry=\"501\" constant=\"true\"/>\n",
      "    <speciesReference species=\"PPI\" stoichiometry=\"501\" constant=\"true\"/>\n",
      "    <speciesReference species=\"ADP\" stoichiometry=\"1002\" constant=\"true\"/>\n",
      "    <speciesReference species=\"PI\" stoichiometry=\"1002\" constant=\"true\"/>\n",
      "  </listOfProducts>\n",
      "</reaction>\n",
      "\n",
      "<reaction id=\"T_GLPK\" reversible=\"false\">\n",
      "  <annotation>\n",
      "    <ram:RAM xmlns:ram=\"https://www.fairdomhub.org/sops/304\">\n",
      "      <ram:reaction ram:kcatForward=\"2.03187\" ram:kcatBackward=\"0.0\" ram:maintenanceScaling=\"0.0\"/>\n",
      "    </ram:RAM>\n",
      "  </annotation>\n",
      "\n",
      "  <fbc:geneProductAssociation fbc:id=\"E_R\">\n",
      "    <fbc:geneProductRef fbc:geneProduct=\"E_R\"/>\n",
      "  </fbc:geneProductAssociation>\n",
      "\n",
      "  <listOfReactants>\n",
      "    <speciesReference species=\"Z\" stoichiometry=\"502\" constant=\"true\"/>\n",
      "    <speciesReference species=\"ATP\" stoichiometry=\"1506\" constant=\"true\"/>\n",
      "  </listOfReactants>\n",
      "\n",
      "  <listOfProducts>\n",
      "    <speciesReference species=\"E_GLPK\" stoichiometry=\"1.0\" constant=\"true\"/>\n",
      "    <speciesReference species=\"AMP\" stoichiometry=\"502\" constant=\"true\"/>\n",
      "    <speciesReference species=\"PPI\" stoichiometry=\"502\" constant=\"true\"/>\n",
      "    <speciesReference species=\"ADP\" stoichiometry=\"1004\" constant=\"true\"/>\n",
      "    <speciesReference species=\"PI\" stoichiometry=\"1004\" constant=\"true\"/>\n",
      "  </listOfProducts>\n",
      "</reaction>\n",
      "\n",
      "<reaction id=\"T_GLTA\" reversible=\"false\">\n",
      "  <annotation>\n",
      "    <ram:RAM xmlns:ram=\"https://www.fairdomhub.org/sops/304\">\n",
      "      <ram:reaction ram:kcatForward=\"2.38876\" ram:kcatBackward=\"0.0\" ram:maintenanceScaling=\"0.0\"/>\n",
      "    </ram:RAM>\n",
      "  </annotation>\n",
      "\n",
      "  <fbc:geneProductAssociation fbc:id=\"E_R\">\n",
      "    <fbc:geneProductRef fbc:geneProduct=\"E_R\"/>\n",
      "  </fbc:geneProductAssociation>\n",
      "\n",
      "  <listOfReactants>\n",
      "    <speciesReference species=\"Z\" stoichiometry=\"427\" constant=\"true\"/>\n",
      "    <speciesReference species=\"ATP\" stoichiometry=\"1281\" constant=\"true\"/>\n",
      "  </listOfReactants>\n",
      "\n",
      "  <listOfProducts>\n",
      "    <speciesReference species=\"E_GLTA\" stoichiometry=\"1.0\" constant=\"true\"/>\n",
      "    <speciesReference species=\"AMP\" stoichiometry=\"427\" constant=\"true\"/>\n",
      "    <speciesReference species=\"PPI\" stoichiometry=\"427\" constant=\"true\"/>\n",
      "    <speciesReference species=\"ADP\" stoichiometry=\"854\" constant=\"true\"/>\n",
      "    <speciesReference species=\"PI\" stoichiometry=\"854\" constant=\"true\"/>\n",
      "  </listOfProducts>\n",
      "</reaction>\n",
      "\n",
      "<reaction id=\"T_GND\" reversible=\"false\">\n",
      "  <annotation>\n",
      "    <ram:RAM xmlns:ram=\"https://www.fairdomhub.org/sops/304\">\n",
      "      <ram:reaction ram:kcatForward=\"2.17949\" ram:kcatBackward=\"0.0\" ram:maintenanceScaling=\"0.0\"/>\n",
      "    </ram:RAM>\n",
      "  </annotation>\n",
      "\n",
      "  <fbc:geneProductAssociation fbc:id=\"E_R\">\n",
      "    <fbc:geneProductRef fbc:geneProduct=\"E_R\"/>\n",
      "  </fbc:geneProductAssociation>\n",
      "\n",
      "  <listOfReactants>\n",
      "    <speciesReference species=\"Z\" stoichiometry=\"468\" constant=\"true\"/>\n",
      "    <speciesReference species=\"ATP\" stoichiometry=\"1404\" constant=\"true\"/>\n",
      "  </listOfReactants>\n",
      "\n",
      "  <listOfProducts>\n",
      "    <speciesReference species=\"E_GND\" stoichiometry=\"1.0\" constant=\"true\"/>\n",
      "    <speciesReference species=\"AMP\" stoichiometry=\"468\" constant=\"true\"/>\n",
      "    <speciesReference species=\"PPI\" stoichiometry=\"468\" constant=\"true\"/>\n",
      "    <speciesReference species=\"ADP\" stoichiometry=\"936\" constant=\"true\"/>\n",
      "    <speciesReference species=\"PI\" stoichiometry=\"936\" constant=\"true\"/>\n",
      "  </listOfProducts>\n",
      "</reaction>\n",
      "\n",
      "<reaction id=\"T_GPMAR\" reversible=\"false\">\n",
      "  <annotation>\n",
      "    <ram:RAM xmlns:ram=\"https://www.fairdomhub.org/sops/304\">\n",
      "      <ram:reaction ram:kcatForward=\"4.08\" ram:kcatBackward=\"0.0\" ram:maintenanceScaling=\"0.0\"/>\n",
      "    </ram:RAM>\n",
      "  </annotation>\n",
      "\n",
      "  <fbc:geneProductAssociation fbc:id=\"E_R\">\n",
      "    <fbc:geneProductRef fbc:geneProduct=\"E_R\"/>\n",
      "  </fbc:geneProductAssociation>\n",
      "\n",
      "  <listOfReactants>\n",
      "    <speciesReference species=\"Z\" stoichiometry=\"250\" constant=\"true\"/>\n",
      "    <speciesReference species=\"ATP\" stoichiometry=\"750\" constant=\"true\"/>\n",
      "  </listOfReactants>\n",
      "\n",
      "  <listOfProducts>\n",
      "    <speciesReference species=\"E_GPMAR\" stoichiometry=\"1.0\" constant=\"true\"/>\n",
      "    <speciesReference species=\"AMP\" stoichiometry=\"250\" constant=\"true\"/>\n",
      "    <speciesReference species=\"PPI\" stoichiometry=\"250\" constant=\"true\"/>\n",
      "    <speciesReference species=\"ADP\" stoichiometry=\"500\" constant=\"true\"/>\n",
      "    <speciesReference species=\"PI\" stoichiometry=\"500\" constant=\"true\"/>\n",
      "  </listOfProducts>\n",
      "</reaction>\n",
      "\n",
      "<reaction id=\"T_GPMBR\" reversible=\"false\">\n",
      "  <annotation>\n",
      "    <ram:RAM xmlns:ram=\"https://www.fairdomhub.org/sops/304\">\n",
      "      <ram:reaction ram:kcatForward=\"4.08\" ram:kcatBackward=\"0.0\" ram:maintenanceScaling=\"0.0\"/>\n",
      "    </ram:RAM>\n",
      "  </annotation>\n",
      "\n",
      "  <fbc:geneProductAssociation fbc:id=\"E_R\">\n",
      "    <fbc:geneProductRef fbc:geneProduct=\"E_R\"/>\n",
      "  </fbc:geneProductAssociation>\n",
      "\n",
      "  <listOfReactants>\n",
      "    <speciesReference species=\"Z\" stoichiometry=\"250\" constant=\"true\"/>\n",
      "    <speciesReference species=\"ATP\" stoichiometry=\"750\" constant=\"true\"/>\n",
      "  </listOfReactants>\n",
      "\n",
      "  <listOfProducts>\n",
      "    <speciesReference species=\"E_GPMBR\" stoichiometry=\"1.0\" constant=\"true\"/>\n",
      "    <speciesReference species=\"AMP\" stoichiometry=\"250\" constant=\"true\"/>\n",
      "    <speciesReference species=\"PPI\" stoichiometry=\"250\" constant=\"true\"/>\n",
      "    <speciesReference species=\"ADP\" stoichiometry=\"500\" constant=\"true\"/>\n",
      "    <speciesReference species=\"PI\" stoichiometry=\"500\" constant=\"true\"/>\n",
      "  </listOfProducts>\n",
      "</reaction>\n",
      "\n",
      "<reaction id=\"T_GPSAR\" reversible=\"false\">\n",
      "  <annotation>\n",
      "    <ram:RAM xmlns:ram=\"https://www.fairdomhub.org/sops/304\">\n",
      "      <ram:reaction ram:kcatForward=\"3.00885\" ram:kcatBackward=\"0.0\" ram:maintenanceScaling=\"0.0\"/>\n",
      "    </ram:RAM>\n",
      "  </annotation>\n",
      "\n",
      "  <fbc:geneProductAssociation fbc:id=\"E_R\">\n",
      "    <fbc:geneProductRef fbc:geneProduct=\"E_R\"/>\n",
      "  </fbc:geneProductAssociation>\n",
      "\n",
      "  <listOfReactants>\n",
      "    <speciesReference species=\"Z\" stoichiometry=\"339\" constant=\"true\"/>\n",
      "    <speciesReference species=\"ATP\" stoichiometry=\"1017\" constant=\"true\"/>\n",
      "  </listOfReactants>\n",
      "\n",
      "  <listOfProducts>\n",
      "    <speciesReference species=\"E_GPSAR\" stoichiometry=\"1.0\" constant=\"true\"/>\n",
      "    <speciesReference species=\"AMP\" stoichiometry=\"339\" constant=\"true\"/>\n",
      "    <speciesReference species=\"PPI\" stoichiometry=\"339\" constant=\"true\"/>\n",
      "    <speciesReference species=\"ADP\" stoichiometry=\"678\" constant=\"true\"/>\n",
      "    <speciesReference species=\"PI\" stoichiometry=\"678\" constant=\"true\"/>\n",
      "  </listOfProducts>\n",
      "</reaction>\n",
      "\n",
      "<reaction id=\"T_ICDAR\" reversible=\"false\">\n",
      "  <annotation>\n",
      "    <ram:RAM xmlns:ram=\"https://www.fairdomhub.org/sops/304\">\n",
      "      <ram:reaction ram:kcatForward=\"2.45192\" ram:kcatBackward=\"0.0\" ram:maintenanceScaling=\"0.0\"/>\n",
      "    </ram:RAM>\n",
      "  </annotation>\n",
      "\n",
      "  <fbc:geneProductAssociation fbc:id=\"E_R\">\n",
      "    <fbc:geneProductRef fbc:geneProduct=\"E_R\"/>\n",
      "  </fbc:geneProductAssociation>\n",
      "\n",
      "  <listOfReactants>\n",
      "    <speciesReference species=\"Z\" stoichiometry=\"416\" constant=\"true\"/>\n",
      "    <speciesReference species=\"ATP\" stoichiometry=\"1248\" constant=\"true\"/>\n",
      "  </listOfReactants>\n",
      "\n",
      "  <listOfProducts>\n",
      "    <speciesReference species=\"E_ICDAR\" stoichiometry=\"1.0\" constant=\"true\"/>\n",
      "    <speciesReference species=\"AMP\" stoichiometry=\"416\" constant=\"true\"/>\n",
      "    <speciesReference species=\"PPI\" stoichiometry=\"416\" constant=\"true\"/>\n",
      "    <speciesReference species=\"ADP\" stoichiometry=\"832\" constant=\"true\"/>\n",
      "    <speciesReference species=\"PI\" stoichiometry=\"832\" constant=\"true\"/>\n",
      "  </listOfProducts>\n",
      "</reaction>\n",
      "\n",
      "<reaction id=\"T_LACZ\" reversible=\"false\">\n",
      "  <annotation>\n",
      "    <ram:RAM xmlns:ram=\"https://www.fairdomhub.org/sops/304\">\n",
      "      <ram:reaction ram:kcatForward=\"0.99609\" ram:kcatBackward=\"0.0\" ram:maintenanceScaling=\"0.0\"/>\n",
      "    </ram:RAM>\n",
      "  </annotation>\n",
      "\n",
      "  <fbc:geneProductAssociation fbc:id=\"E_R\">\n",
      "    <fbc:geneProductRef fbc:geneProduct=\"E_R\"/>\n",
      "  </fbc:geneProductAssociation>\n",
      "\n",
      "  <listOfReactants>\n",
      "    <speciesReference species=\"Z\" stoichiometry=\"1024\" constant=\"true\"/>\n",
      "    <speciesReference species=\"ATP\" stoichiometry=\"3072\" constant=\"true\"/>\n",
      "  </listOfReactants>\n",
      "\n",
      "  <listOfProducts>\n",
      "    <speciesReference species=\"E_LACZ\" stoichiometry=\"1.0\" constant=\"true\"/>\n",
      "    <speciesReference species=\"AMP\" stoichiometry=\"1024\" constant=\"true\"/>\n",
      "    <speciesReference species=\"PPI\" stoichiometry=\"1024\" constant=\"true\"/>\n",
      "    <speciesReference species=\"ADP\" stoichiometry=\"2048\" constant=\"true\"/>\n",
      "    <speciesReference species=\"PI\" stoichiometry=\"2048\" constant=\"true\"/>\n",
      "  </listOfProducts>\n",
      "</reaction>\n",
      "\n",
      "<reaction id=\"T_MAEB\" reversible=\"false\">\n",
      "  <annotation>\n",
      "    <ram:RAM xmlns:ram=\"https://www.fairdomhub.org/sops/304\">\n",
      "      <ram:reaction ram:kcatForward=\"1.34387\" ram:kcatBackward=\"0.0\" ram:maintenanceScaling=\"0.0\"/>\n",
      "    </ram:RAM>\n",
      "  </annotation>\n",
      "\n",
      "  <fbc:geneProductAssociation fbc:id=\"E_R\">\n",
      "    <fbc:geneProductRef fbc:geneProduct=\"E_R\"/>\n",
      "  </fbc:geneProductAssociation>\n",
      "\n",
      "  <listOfReactants>\n",
      "    <speciesReference species=\"Z\" stoichiometry=\"759\" constant=\"true\"/>\n",
      "    <speciesReference species=\"ATP\" stoichiometry=\"2277\" constant=\"true\"/>\n",
      "  </listOfReactants>\n",
      "\n",
      "  <listOfProducts>\n",
      "    <speciesReference species=\"E_MAEB\" stoichiometry=\"1.0\" constant=\"true\"/>\n",
      "    <speciesReference species=\"AMP\" stoichiometry=\"759\" constant=\"true\"/>\n",
      "    <speciesReference species=\"PPI\" stoichiometry=\"759\" constant=\"true\"/>\n",
      "    <speciesReference species=\"ADP\" stoichiometry=\"1518\" constant=\"true\"/>\n",
      "    <speciesReference species=\"PI\" stoichiometry=\"1518\" constant=\"true\"/>\n",
      "  </listOfProducts>\n",
      "</reaction>\n",
      "\n",
      "<reaction id=\"T_MDHR\" reversible=\"false\">\n",
      "  <annotation>\n",
      "    <ram:RAM xmlns:ram=\"https://www.fairdomhub.org/sops/304\">\n",
      "      <ram:reaction ram:kcatForward=\"3.26923\" ram:kcatBackward=\"0.0\" ram:maintenanceScaling=\"0.0\"/>\n",
      "    </ram:RAM>\n",
      "  </annotation>\n",
      "\n",
      "  <fbc:geneProductAssociation fbc:id=\"E_R\">\n",
      "    <fbc:geneProductRef fbc:geneProduct=\"E_R\"/>\n",
      "  </fbc:geneProductAssociation>\n",
      "\n",
      "  <listOfReactants>\n",
      "    <speciesReference species=\"Z\" stoichiometry=\"312\" constant=\"true\"/>\n",
      "    <speciesReference species=\"ATP\" stoichiometry=\"936\" constant=\"true\"/>\n",
      "  </listOfReactants>\n",
      "\n",
      "  <listOfProducts>\n",
      "    <speciesReference species=\"E_MDHR\" stoichiometry=\"1.0\" constant=\"true\"/>\n",
      "    <speciesReference species=\"AMP\" stoichiometry=\"312\" constant=\"true\"/>\n",
      "    <speciesReference species=\"PPI\" stoichiometry=\"312\" constant=\"true\"/>\n",
      "    <speciesReference species=\"ADP\" stoichiometry=\"624\" constant=\"true\"/>\n",
      "    <speciesReference species=\"PI\" stoichiometry=\"624\" constant=\"true\"/>\n",
      "  </listOfProducts>\n",
      "</reaction>\n",
      "\n",
      "<reaction id=\"T_NDH\" reversible=\"false\">\n",
      "  <annotation>\n",
      "    <ram:RAM xmlns:ram=\"https://www.fairdomhub.org/sops/304\">\n",
      "      <ram:reaction ram:kcatForward=\"2.35023\" ram:kcatBackward=\"0.0\" ram:maintenanceScaling=\"0.0\"/>\n",
      "    </ram:RAM>\n",
      "  </annotation>\n",
      "\n",
      "  <fbc:geneProductAssociation fbc:id=\"E_R\">\n",
      "    <fbc:geneProductRef fbc:geneProduct=\"E_R\"/>\n",
      "  </fbc:geneProductAssociation>\n",
      "\n",
      "  <listOfReactants>\n",
      "    <speciesReference species=\"Z\" stoichiometry=\"434\" constant=\"true\"/>\n",
      "    <speciesReference species=\"ATP\" stoichiometry=\"1302\" constant=\"true\"/>\n",
      "  </listOfReactants>\n",
      "\n",
      "  <listOfProducts>\n",
      "    <speciesReference species=\"E_NDH\" stoichiometry=\"1.0\" constant=\"true\"/>\n",
      "    <speciesReference species=\"AMP\" stoichiometry=\"434\" constant=\"true\"/>\n",
      "    <speciesReference species=\"PPI\" stoichiometry=\"434\" constant=\"true\"/>\n",
      "    <speciesReference species=\"ADP\" stoichiometry=\"868\" constant=\"true\"/>\n",
      "    <speciesReference species=\"PI\" stoichiometry=\"868\" constant=\"true\"/>\n",
      "  </listOfProducts>\n",
      "</reaction>\n",
      "\n",
      "<reaction id=\"T_NUOA\" reversible=\"false\">\n",
      "  <annotation>\n",
      "    <ram:RAM xmlns:ram=\"https://www.fairdomhub.org/sops/304\">\n",
      "      <ram:reaction ram:kcatForward=\"0.23821\" ram:kcatBackward=\"0.0\" ram:maintenanceScaling=\"0.0\"/>\n",
      "    </ram:RAM>\n",
      "  </annotation>\n",
      "\n",
      "  <fbc:geneProductAssociation fbc:id=\"E_R\">\n",
      "    <fbc:geneProductRef fbc:geneProduct=\"E_R\"/>\n",
      "  </fbc:geneProductAssociation>\n",
      "\n",
      "  <listOfReactants>\n",
      "    <speciesReference species=\"Z\" stoichiometry=\"4282\" constant=\"true\"/>\n",
      "    <speciesReference species=\"ATP\" stoichiometry=\"12846\" constant=\"true\"/>\n",
      "  </listOfReactants>\n",
      "\n",
      "  <listOfProducts>\n",
      "    <speciesReference species=\"E_NUOA\" stoichiometry=\"1.0\" constant=\"true\"/>\n",
      "    <speciesReference species=\"AMP\" stoichiometry=\"4282\" constant=\"true\"/>\n",
      "    <speciesReference species=\"PPI\" stoichiometry=\"4282\" constant=\"true\"/>\n",
      "    <speciesReference species=\"ADP\" stoichiometry=\"8564\" constant=\"true\"/>\n",
      "    <speciesReference species=\"PI\" stoichiometry=\"8564\" constant=\"true\"/>\n",
      "  </listOfProducts>\n",
      "</reaction>\n",
      "\n",
      "<reaction id=\"T_PCKA\" reversible=\"false\">\n",
      "  <annotation>\n",
      "    <ram:RAM xmlns:ram=\"https://www.fairdomhub.org/sops/304\">\n",
      "      <ram:reaction ram:kcatForward=\"1.88889\" ram:kcatBackward=\"0.0\" ram:maintenanceScaling=\"0.0\"/>\n",
      "    </ram:RAM>\n",
      "  </annotation>\n",
      "\n",
      "  <fbc:geneProductAssociation fbc:id=\"E_R\">\n",
      "    <fbc:geneProductRef fbc:geneProduct=\"E_R\"/>\n",
      "  </fbc:geneProductAssociation>\n",
      "\n",
      "  <listOfReactants>\n",
      "    <speciesReference species=\"Z\" stoichiometry=\"540\" constant=\"true\"/>\n",
      "    <speciesReference species=\"ATP\" stoichiometry=\"1620\" constant=\"true\"/>\n",
      "  </listOfReactants>\n",
      "\n",
      "  <listOfProducts>\n",
      "    <speciesReference species=\"E_PCKA\" stoichiometry=\"1.0\" constant=\"true\"/>\n",
      "    <speciesReference species=\"AMP\" stoichiometry=\"540\" constant=\"true\"/>\n",
      "    <speciesReference species=\"PPI\" stoichiometry=\"540\" constant=\"true\"/>\n",
      "    <speciesReference species=\"ADP\" stoichiometry=\"1080\" constant=\"true\"/>\n",
      "    <speciesReference species=\"PI\" stoichiometry=\"1080\" constant=\"true\"/>\n",
      "  </listOfProducts>\n",
      "</reaction>\n",
      "\n",
      "<reaction id=\"T_PFKA\" reversible=\"false\">\n",
      "  <annotation>\n",
      "    <ram:RAM xmlns:ram=\"https://www.fairdomhub.org/sops/304\">\n",
      "      <ram:reaction ram:kcatForward=\"3.1875\" ram:kcatBackward=\"0.0\" ram:maintenanceScaling=\"0.0\"/>\n",
      "    </ram:RAM>\n",
      "  </annotation>\n",
      "\n",
      "  <fbc:geneProductAssociation fbc:id=\"E_R\">\n",
      "    <fbc:geneProductRef fbc:geneProduct=\"E_R\"/>\n",
      "  </fbc:geneProductAssociation>\n",
      "\n",
      "  <listOfReactants>\n",
      "    <speciesReference species=\"Z\" stoichiometry=\"320\" constant=\"true\"/>\n",
      "    <speciesReference species=\"ATP\" stoichiometry=\"960\" constant=\"true\"/>\n",
      "  </listOfReactants>\n",
      "\n",
      "  <listOfProducts>\n",
      "    <speciesReference species=\"E_PFKA\" stoichiometry=\"1.0\" constant=\"true\"/>\n",
      "    <speciesReference species=\"AMP\" stoichiometry=\"320\" constant=\"true\"/>\n",
      "    <speciesReference species=\"PPI\" stoichiometry=\"320\" constant=\"true\"/>\n",
      "    <speciesReference species=\"ADP\" stoichiometry=\"640\" constant=\"true\"/>\n",
      "    <speciesReference species=\"PI\" stoichiometry=\"640\" constant=\"true\"/>\n",
      "  </listOfProducts>\n",
      "</reaction>\n",
      "\n",
      "<reaction id=\"T_PFKB\" reversible=\"false\">\n",
      "  <annotation>\n",
      "    <ram:RAM xmlns:ram=\"https://www.fairdomhub.org/sops/304\">\n",
      "      <ram:reaction ram:kcatForward=\"3.30097\" ram:kcatBackward=\"0.0\" ram:maintenanceScaling=\"0.0\"/>\n",
      "    </ram:RAM>\n",
      "  </annotation>\n",
      "\n",
      "  <fbc:geneProductAssociation fbc:id=\"E_R\">\n",
      "    <fbc:geneProductRef fbc:geneProduct=\"E_R\"/>\n",
      "  </fbc:geneProductAssociation>\n",
      "\n",
      "  <listOfReactants>\n",
      "    <speciesReference species=\"Z\" stoichiometry=\"309\" constant=\"true\"/>\n",
      "    <speciesReference species=\"ATP\" stoichiometry=\"927\" constant=\"true\"/>\n",
      "  </listOfReactants>\n",
      "\n",
      "  <listOfProducts>\n",
      "    <speciesReference species=\"E_PFKB\" stoichiometry=\"1.0\" constant=\"true\"/>\n",
      "    <speciesReference species=\"AMP\" stoichiometry=\"309\" constant=\"true\"/>\n",
      "    <speciesReference species=\"PPI\" stoichiometry=\"309\" constant=\"true\"/>\n",
      "    <speciesReference species=\"ADP\" stoichiometry=\"618\" constant=\"true\"/>\n",
      "    <speciesReference species=\"PI\" stoichiometry=\"618\" constant=\"true\"/>\n",
      "  </listOfProducts>\n",
      "</reaction>\n",
      "\n",
      "<reaction id=\"T_PFLA\" reversible=\"false\">\n",
      "  <annotation>\n",
      "    <ram:RAM xmlns:ram=\"https://www.fairdomhub.org/sops/304\">\n",
      "      <ram:reaction ram:kcatForward=\"1.01392\" ram:kcatBackward=\"0.0\" ram:maintenanceScaling=\"0.0\"/>\n",
      "    </ram:RAM>\n",
      "  </annotation>\n",
      "\n",
      "  <fbc:geneProductAssociation fbc:id=\"E_R\">\n",
      "    <fbc:geneProductRef fbc:geneProduct=\"E_R\"/>\n",
      "  </fbc:geneProductAssociation>\n",
      "\n",
      "  <listOfReactants>\n",
      "    <speciesReference species=\"Z\" stoichiometry=\"1006\" constant=\"true\"/>\n",
      "    <speciesReference species=\"ATP\" stoichiometry=\"3018\" constant=\"true\"/>\n",
      "  </listOfReactants>\n",
      "\n",
      "  <listOfProducts>\n",
      "    <speciesReference species=\"E_PFLA\" stoichiometry=\"1.0\" constant=\"true\"/>\n",
      "    <speciesReference species=\"AMP\" stoichiometry=\"1006\" constant=\"true\"/>\n",
      "    <speciesReference species=\"PPI\" stoichiometry=\"1006\" constant=\"true\"/>\n",
      "    <speciesReference species=\"ADP\" stoichiometry=\"2012\" constant=\"true\"/>\n",
      "    <speciesReference species=\"PI\" stoichiometry=\"2012\" constant=\"true\"/>\n",
      "  </listOfProducts>\n",
      "</reaction>\n",
      "\n",
      "<reaction id=\"T_PFLC\" reversible=\"false\">\n",
      "  <annotation>\n",
      "    <ram:RAM xmlns:ram=\"https://www.fairdomhub.org/sops/304\">\n",
      "      <ram:reaction ram:kcatForward=\"0.965\" ram:kcatBackward=\"0.0\" ram:maintenanceScaling=\"0.0\"/>\n",
      "    </ram:RAM>\n",
      "  </annotation>\n",
      "\n",
      "  <fbc:geneProductAssociation fbc:id=\"E_R\">\n",
      "    <fbc:geneProductRef fbc:geneProduct=\"E_R\"/>\n",
      "  </fbc:geneProductAssociation>\n",
      "\n",
      "  <listOfReactants>\n",
      "    <speciesReference species=\"Z\" stoichiometry=\"1057\" constant=\"true\"/>\n",
      "    <speciesReference species=\"ATP\" stoichiometry=\"3171\" constant=\"true\"/>\n",
      "  </listOfReactants>\n",
      "\n",
      "  <listOfProducts>\n",
      "    <speciesReference species=\"E_PFLC\" stoichiometry=\"1.0\" constant=\"true\"/>\n",
      "    <speciesReference species=\"AMP\" stoichiometry=\"1057\" constant=\"true\"/>\n",
      "    <speciesReference species=\"PPI\" stoichiometry=\"1057\" constant=\"true\"/>\n",
      "    <speciesReference species=\"ADP\" stoichiometry=\"2114\" constant=\"true\"/>\n",
      "    <speciesReference species=\"PI\" stoichiometry=\"2114\" constant=\"true\"/>\n",
      "  </listOfProducts>\n",
      "</reaction>\n",
      "\n",
      "<reaction id=\"T_PGIR\" reversible=\"false\">\n",
      "  <annotation>\n",
      "    <ram:RAM xmlns:ram=\"https://www.fairdomhub.org/sops/304\">\n",
      "      <ram:reaction ram:kcatForward=\"1.85792\" ram:kcatBackward=\"0.0\" ram:maintenanceScaling=\"0.0\"/>\n",
      "    </ram:RAM>\n",
      "  </annotation>\n",
      "\n",
      "  <fbc:geneProductAssociation fbc:id=\"E_R\">\n",
      "    <fbc:geneProductRef fbc:geneProduct=\"E_R\"/>\n",
      "  </fbc:geneProductAssociation>\n",
      "\n",
      "  <listOfReactants>\n",
      "    <speciesReference species=\"Z\" stoichiometry=\"549\" constant=\"true\"/>\n",
      "    <speciesReference species=\"ATP\" stoichiometry=\"1647\" constant=\"true\"/>\n",
      "  </listOfReactants>\n",
      "\n",
      "  <listOfProducts>\n",
      "    <speciesReference species=\"E_PGIR\" stoichiometry=\"1.0\" constant=\"true\"/>\n",
      "    <speciesReference species=\"AMP\" stoichiometry=\"549\" constant=\"true\"/>\n",
      "    <speciesReference species=\"PPI\" stoichiometry=\"549\" constant=\"true\"/>\n",
      "    <speciesReference species=\"ADP\" stoichiometry=\"1098\" constant=\"true\"/>\n",
      "    <speciesReference species=\"PI\" stoichiometry=\"1098\" constant=\"true\"/>\n",
      "  </listOfProducts>\n",
      "</reaction>\n",
      "\n",
      "<reaction id=\"T_PGKR\" reversible=\"false\">\n",
      "  <annotation>\n",
      "    <ram:RAM xmlns:ram=\"https://www.fairdomhub.org/sops/304\">\n",
      "      <ram:reaction ram:kcatForward=\"2.63566\" ram:kcatBackward=\"0.0\" ram:maintenanceScaling=\"0.0\"/>\n",
      "    </ram:RAM>\n",
      "  </annotation>\n",
      "\n",
      "  <fbc:geneProductAssociation fbc:id=\"E_R\">\n",
      "    <fbc:geneProductRef fbc:geneProduct=\"E_R\"/>\n",
      "  </fbc:geneProductAssociation>\n",
      "\n",
      "  <listOfReactants>\n",
      "    <speciesReference species=\"Z\" stoichiometry=\"387\" constant=\"true\"/>\n",
      "    <speciesReference species=\"ATP\" stoichiometry=\"1161\" constant=\"true\"/>\n",
      "  </listOfReactants>\n",
      "\n",
      "  <listOfProducts>\n",
      "    <speciesReference species=\"E_PGKR\" stoichiometry=\"1.0\" constant=\"true\"/>\n",
      "    <speciesReference species=\"AMP\" stoichiometry=\"387\" constant=\"true\"/>\n",
      "    <speciesReference species=\"PPI\" stoichiometry=\"387\" constant=\"true\"/>\n",
      "    <speciesReference species=\"ADP\" stoichiometry=\"774\" constant=\"true\"/>\n",
      "    <speciesReference species=\"PI\" stoichiometry=\"774\" constant=\"true\"/>\n",
      "  </listOfProducts>\n",
      "</reaction>\n",
      "\n",
      "<reaction id=\"T_PGL\" reversible=\"false\">\n",
      "  <annotation>\n",
      "    <ram:RAM xmlns:ram=\"https://www.fairdomhub.org/sops/304\">\n",
      "      <ram:reaction ram:kcatForward=\"3.08157\" ram:kcatBackward=\"0.0\" ram:maintenanceScaling=\"0.0\"/>\n",
      "    </ram:RAM>\n",
      "  </annotation>\n",
      "\n",
      "  <fbc:geneProductAssociation fbc:id=\"E_R\">\n",
      "    <fbc:geneProductRef fbc:geneProduct=\"E_R\"/>\n",
      "  </fbc:geneProductAssociation>\n",
      "\n",
      "  <listOfReactants>\n",
      "    <speciesReference species=\"Z\" stoichiometry=\"331\" constant=\"true\"/>\n",
      "    <speciesReference species=\"ATP\" stoichiometry=\"993\" constant=\"true\"/>\n",
      "  </listOfReactants>\n",
      "\n",
      "  <listOfProducts>\n",
      "    <speciesReference species=\"E_PGL\" stoichiometry=\"1.0\" constant=\"true\"/>\n",
      "    <speciesReference species=\"AMP\" stoichiometry=\"331\" constant=\"true\"/>\n",
      "    <speciesReference species=\"PPI\" stoichiometry=\"331\" constant=\"true\"/>\n",
      "    <speciesReference species=\"ADP\" stoichiometry=\"662\" constant=\"true\"/>\n",
      "    <speciesReference species=\"PI\" stoichiometry=\"662\" constant=\"true\"/>\n",
      "  </listOfProducts>\n",
      "</reaction>\n",
      "\n",
      "<reaction id=\"T_PGMR\" reversible=\"false\">\n",
      "  <annotation>\n",
      "    <ram:RAM xmlns:ram=\"https://www.fairdomhub.org/sops/304\">\n",
      "      <ram:reaction ram:kcatForward=\"1.86813\" ram:kcatBackward=\"0.0\" ram:maintenanceScaling=\"0.0\"/>\n",
      "    </ram:RAM>\n",
      "  </annotation>\n",
      "\n",
      "  <fbc:geneProductAssociation fbc:id=\"E_R\">\n",
      "    <fbc:geneProductRef fbc:geneProduct=\"E_R\"/>\n",
      "  </fbc:geneProductAssociation>\n",
      "\n",
      "  <listOfReactants>\n",
      "    <speciesReference species=\"Z\" stoichiometry=\"546\" constant=\"true\"/>\n",
      "    <speciesReference species=\"ATP\" stoichiometry=\"1638\" constant=\"true\"/>\n",
      "  </listOfReactants>\n",
      "\n",
      "  <listOfProducts>\n",
      "    <speciesReference species=\"E_PGMR\" stoichiometry=\"1.0\" constant=\"true\"/>\n",
      "    <speciesReference species=\"AMP\" stoichiometry=\"546\" constant=\"true\"/>\n",
      "    <speciesReference species=\"PPI\" stoichiometry=\"546\" constant=\"true\"/>\n",
      "    <speciesReference species=\"ADP\" stoichiometry=\"1092\" constant=\"true\"/>\n",
      "    <speciesReference species=\"PI\" stoichiometry=\"1092\" constant=\"true\"/>\n",
      "  </listOfProducts>\n",
      "</reaction>\n",
      "\n",
      "<reaction id=\"T_PNTA1\" reversible=\"false\">\n",
      "  <annotation>\n",
      "    <ram:RAM xmlns:ram=\"https://www.fairdomhub.org/sops/304\">\n",
      "      <ram:reaction ram:kcatForward=\"1.04938\" ram:kcatBackward=\"0.0\" ram:maintenanceScaling=\"0.0\"/>\n",
      "    </ram:RAM>\n",
      "  </annotation>\n",
      "\n",
      "  <fbc:geneProductAssociation fbc:id=\"E_R\">\n",
      "    <fbc:geneProductRef fbc:geneProduct=\"E_R\"/>\n",
      "  </fbc:geneProductAssociation>\n",
      "\n",
      "  <listOfReactants>\n",
      "    <speciesReference species=\"Z\" stoichiometry=\"972\" constant=\"true\"/>\n",
      "    <speciesReference species=\"ATP\" stoichiometry=\"2916\" constant=\"true\"/>\n",
      "  </listOfReactants>\n",
      "\n",
      "  <listOfProducts>\n",
      "    <speciesReference species=\"E_PNTA1\" stoichiometry=\"1.0\" constant=\"true\"/>\n",
      "    <speciesReference species=\"AMP\" stoichiometry=\"972\" constant=\"true\"/>\n",
      "    <speciesReference species=\"PPI\" stoichiometry=\"972\" constant=\"true\"/>\n",
      "    <speciesReference species=\"ADP\" stoichiometry=\"1944\" constant=\"true\"/>\n",
      "    <speciesReference species=\"PI\" stoichiometry=\"1944\" constant=\"true\"/>\n",
      "  </listOfProducts>\n",
      "</reaction>\n",
      "\n",
      "<reaction id=\"T_PNTA2\" reversible=\"false\">\n",
      "  <annotation>\n",
      "    <ram:RAM xmlns:ram=\"https://www.fairdomhub.org/sops/304\">\n",
      "      <ram:reaction ram:kcatForward=\"1.04938\" ram:kcatBackward=\"0.0\" ram:maintenanceScaling=\"0.0\"/>\n",
      "    </ram:RAM>\n",
      "  </annotation>\n",
      "\n",
      "  <fbc:geneProductAssociation fbc:id=\"E_R\">\n",
      "    <fbc:geneProductRef fbc:geneProduct=\"E_R\"/>\n",
      "  </fbc:geneProductAssociation>\n",
      "\n",
      "  <listOfReactants>\n",
      "    <speciesReference species=\"Z\" stoichiometry=\"972\" constant=\"true\"/>\n",
      "    <speciesReference species=\"ATP\" stoichiometry=\"2916\" constant=\"true\"/>\n",
      "  </listOfReactants>\n",
      "\n",
      "  <listOfProducts>\n",
      "    <speciesReference species=\"E_PNTA2\" stoichiometry=\"1.0\" constant=\"true\"/>\n",
      "    <speciesReference species=\"AMP\" stoichiometry=\"972\" constant=\"true\"/>\n",
      "    <speciesReference species=\"PPI\" stoichiometry=\"972\" constant=\"true\"/>\n",
      "    <speciesReference species=\"ADP\" stoichiometry=\"1944\" constant=\"true\"/>\n",
      "    <speciesReference species=\"PI\" stoichiometry=\"1944\" constant=\"true\"/>\n",
      "  </listOfProducts>\n",
      "</reaction>\n",
      "\n",
      "<reaction id=\"T_PPA\" reversible=\"false\">\n",
      "  <annotation>\n",
      "    <ram:RAM xmlns:ram=\"https://www.fairdomhub.org/sops/304\">\n",
      "      <ram:reaction ram:kcatForward=\"5.79545\" ram:kcatBackward=\"0.0\" ram:maintenanceScaling=\"0.0\"/>\n",
      "    </ram:RAM>\n",
      "  </annotation>\n",
      "\n",
      "  <fbc:geneProductAssociation fbc:id=\"E_R\">\n",
      "    <fbc:geneProductRef fbc:geneProduct=\"E_R\"/>\n",
      "  </fbc:geneProductAssociation>\n",
      "\n",
      "  <listOfReactants>\n",
      "    <speciesReference species=\"Z\" stoichiometry=\"176\" constant=\"true\"/>\n",
      "    <speciesReference species=\"ATP\" stoichiometry=\"528\" constant=\"true\"/>\n",
      "  </listOfReactants>\n",
      "\n",
      "  <listOfProducts>\n",
      "    <speciesReference species=\"E_PPA\" stoichiometry=\"1.0\" constant=\"true\"/>\n",
      "    <speciesReference species=\"AMP\" stoichiometry=\"176\" constant=\"true\"/>\n",
      "    <speciesReference species=\"PPI\" stoichiometry=\"176\" constant=\"true\"/>\n",
      "    <speciesReference species=\"ADP\" stoichiometry=\"352\" constant=\"true\"/>\n",
      "    <speciesReference species=\"PI\" stoichiometry=\"352\" constant=\"true\"/>\n",
      "  </listOfProducts>\n",
      "</reaction>\n",
      "\n",
      "<reaction id=\"T_PPC\" reversible=\"false\">\n",
      "  <annotation>\n",
      "    <ram:RAM xmlns:ram=\"https://www.fairdomhub.org/sops/304\">\n",
      "      <ram:reaction ram:kcatForward=\"1.15515\" ram:kcatBackward=\"0.0\" ram:maintenanceScaling=\"0.0\"/>\n",
      "    </ram:RAM>\n",
      "  </annotation>\n",
      "\n",
      "  <fbc:geneProductAssociation fbc:id=\"E_R\">\n",
      "    <fbc:geneProductRef fbc:geneProduct=\"E_R\"/>\n",
      "  </fbc:geneProductAssociation>\n",
      "\n",
      "  <listOfReactants>\n",
      "    <speciesReference species=\"Z\" stoichiometry=\"883\" constant=\"true\"/>\n",
      "    <speciesReference species=\"ATP\" stoichiometry=\"2649\" constant=\"true\"/>\n",
      "  </listOfReactants>\n",
      "\n",
      "  <listOfProducts>\n",
      "    <speciesReference species=\"E_PPC\" stoichiometry=\"1.0\" constant=\"true\"/>\n",
      "    <speciesReference species=\"AMP\" stoichiometry=\"883\" constant=\"true\"/>\n",
      "    <speciesReference species=\"PPI\" stoichiometry=\"883\" constant=\"true\"/>\n",
      "    <speciesReference species=\"ADP\" stoichiometry=\"1766\" constant=\"true\"/>\n",
      "    <speciesReference species=\"PI\" stoichiometry=\"1766\" constant=\"true\"/>\n",
      "  </listOfProducts>\n",
      "</reaction>\n",
      "\n",
      "<reaction id=\"T_PPSA\" reversible=\"false\">\n",
      "  <annotation>\n",
      "    <ram:RAM xmlns:ram=\"https://www.fairdomhub.org/sops/304\">\n",
      "      <ram:reaction ram:kcatForward=\"1.28788\" ram:kcatBackward=\"0.0\" ram:maintenanceScaling=\"0.0\"/>\n",
      "    </ram:RAM>\n",
      "  </annotation>\n",
      "\n",
      "  <fbc:geneProductAssociation fbc:id=\"E_R\">\n",
      "    <fbc:geneProductRef fbc:geneProduct=\"E_R\"/>\n",
      "  </fbc:geneProductAssociation>\n",
      "\n",
      "  <listOfReactants>\n",
      "    <speciesReference species=\"Z\" stoichiometry=\"792\" constant=\"true\"/>\n",
      "    <speciesReference species=\"ATP\" stoichiometry=\"2376\" constant=\"true\"/>\n",
      "  </listOfReactants>\n",
      "\n",
      "  <listOfProducts>\n",
      "    <speciesReference species=\"E_PPSA\" stoichiometry=\"1.0\" constant=\"true\"/>\n",
      "    <speciesReference species=\"AMP\" stoichiometry=\"792\" constant=\"true\"/>\n",
      "    <speciesReference species=\"PPI\" stoichiometry=\"792\" constant=\"true\"/>\n",
      "    <speciesReference species=\"ADP\" stoichiometry=\"1584\" constant=\"true\"/>\n",
      "    <speciesReference species=\"PI\" stoichiometry=\"1584\" constant=\"true\"/>\n",
      "  </listOfProducts>\n",
      "</reaction>\n",
      "\n",
      "<reaction id=\"T_PTAR\" reversible=\"false\">\n",
      "  <annotation>\n",
      "    <ram:RAM xmlns:ram=\"https://www.fairdomhub.org/sops/304\">\n",
      "      <ram:reaction ram:kcatForward=\"1.42857\" ram:kcatBackward=\"0.0\" ram:maintenanceScaling=\"0.0\"/>\n",
      "    </ram:RAM>\n",
      "  </annotation>\n",
      "\n",
      "  <fbc:geneProductAssociation fbc:id=\"E_R\">\n",
      "    <fbc:geneProductRef fbc:geneProduct=\"E_R\"/>\n",
      "  </fbc:geneProductAssociation>\n",
      "\n",
      "  <listOfReactants>\n",
      "    <speciesReference species=\"Z\" stoichiometry=\"714\" constant=\"true\"/>\n",
      "    <speciesReference species=\"ATP\" stoichiometry=\"2142\" constant=\"true\"/>\n",
      "  </listOfReactants>\n",
      "\n",
      "  <listOfProducts>\n",
      "    <speciesReference species=\"E_PTAR\" stoichiometry=\"1.0\" constant=\"true\"/>\n",
      "    <speciesReference species=\"AMP\" stoichiometry=\"714\" constant=\"true\"/>\n",
      "    <speciesReference species=\"PPI\" stoichiometry=\"714\" constant=\"true\"/>\n",
      "    <speciesReference species=\"ADP\" stoichiometry=\"1428\" constant=\"true\"/>\n",
      "    <speciesReference species=\"PI\" stoichiometry=\"1428\" constant=\"true\"/>\n",
      "  </listOfProducts>\n",
      "</reaction>\n",
      "\n",
      "<reaction id=\"T_PYKA\" reversible=\"false\">\n",
      "  <annotation>\n",
      "    <ram:RAM xmlns:ram=\"https://www.fairdomhub.org/sops/304\">\n",
      "      <ram:reaction ram:kcatForward=\"2.125\" ram:kcatBackward=\"0.0\" ram:maintenanceScaling=\"0.0\"/>\n",
      "    </ram:RAM>\n",
      "  </annotation>\n",
      "\n",
      "  <fbc:geneProductAssociation fbc:id=\"E_R\">\n",
      "    <fbc:geneProductRef fbc:geneProduct=\"E_R\"/>\n",
      "  </fbc:geneProductAssociation>\n",
      "\n",
      "  <listOfReactants>\n",
      "    <speciesReference species=\"Z\" stoichiometry=\"480\" constant=\"true\"/>\n",
      "    <speciesReference species=\"ATP\" stoichiometry=\"1440\" constant=\"true\"/>\n",
      "  </listOfReactants>\n",
      "\n",
      "  <listOfProducts>\n",
      "    <speciesReference species=\"E_PYKA\" stoichiometry=\"1.0\" constant=\"true\"/>\n",
      "    <speciesReference species=\"AMP\" stoichiometry=\"480\" constant=\"true\"/>\n",
      "    <speciesReference species=\"PPI\" stoichiometry=\"480\" constant=\"true\"/>\n",
      "    <speciesReference species=\"ADP\" stoichiometry=\"960\" constant=\"true\"/>\n",
      "    <speciesReference species=\"PI\" stoichiometry=\"960\" constant=\"true\"/>\n",
      "  </listOfProducts>\n",
      "</reaction>\n",
      "\n",
      "<reaction id=\"T_PYKF\" reversible=\"false\">\n",
      "  <annotation>\n",
      "    <ram:RAM xmlns:ram=\"https://www.fairdomhub.org/sops/304\">\n",
      "      <ram:reaction ram:kcatForward=\"2.17021\" ram:kcatBackward=\"0.0\" ram:maintenanceScaling=\"0.0\"/>\n",
      "    </ram:RAM>\n",
      "  </annotation>\n",
      "\n",
      "  <fbc:geneProductAssociation fbc:id=\"E_R\">\n",
      "    <fbc:geneProductRef fbc:geneProduct=\"E_R\"/>\n",
      "  </fbc:geneProductAssociation>\n",
      "\n",
      "  <listOfReactants>\n",
      "    <speciesReference species=\"Z\" stoichiometry=\"470\" constant=\"true\"/>\n",
      "    <speciesReference species=\"ATP\" stoichiometry=\"1410\" constant=\"true\"/>\n",
      "  </listOfReactants>\n",
      "\n",
      "  <listOfProducts>\n",
      "    <speciesReference species=\"E_PYKF\" stoichiometry=\"1.0\" constant=\"true\"/>\n",
      "    <speciesReference species=\"AMP\" stoichiometry=\"470\" constant=\"true\"/>\n",
      "    <speciesReference species=\"PPI\" stoichiometry=\"470\" constant=\"true\"/>\n",
      "    <speciesReference species=\"ADP\" stoichiometry=\"940\" constant=\"true\"/>\n",
      "    <speciesReference species=\"PI\" stoichiometry=\"940\" constant=\"true\"/>\n",
      "  </listOfProducts>\n",
      "</reaction>\n",
      "\n",
      "<reaction id=\"T_RBSK\" reversible=\"false\">\n",
      "  <annotation>\n",
      "    <ram:RAM xmlns:ram=\"https://www.fairdomhub.org/sops/304\">\n",
      "      <ram:reaction ram:kcatForward=\"3.30097\" ram:kcatBackward=\"0.0\" ram:maintenanceScaling=\"0.0\"/>\n",
      "    </ram:RAM>\n",
      "  </annotation>\n",
      "\n",
      "  <fbc:geneProductAssociation fbc:id=\"E_R\">\n",
      "    <fbc:geneProductRef fbc:geneProduct=\"E_R\"/>\n",
      "  </fbc:geneProductAssociation>\n",
      "\n",
      "  <listOfReactants>\n",
      "    <speciesReference species=\"Z\" stoichiometry=\"309\" constant=\"true\"/>\n",
      "    <speciesReference species=\"ATP\" stoichiometry=\"927\" constant=\"true\"/>\n",
      "  </listOfReactants>\n",
      "\n",
      "  <listOfProducts>\n",
      "    <speciesReference species=\"E_RBSK\" stoichiometry=\"1.0\" constant=\"true\"/>\n",
      "    <speciesReference species=\"AMP\" stoichiometry=\"309\" constant=\"true\"/>\n",
      "    <speciesReference species=\"PPI\" stoichiometry=\"309\" constant=\"true\"/>\n",
      "    <speciesReference species=\"ADP\" stoichiometry=\"618\" constant=\"true\"/>\n",
      "    <speciesReference species=\"PI\" stoichiometry=\"618\" constant=\"true\"/>\n",
      "  </listOfProducts>\n",
      "</reaction>\n",
      "\n",
      "<reaction id=\"T_RPER\" reversible=\"false\">\n",
      "  <annotation>\n",
      "    <ram:RAM xmlns:ram=\"https://www.fairdomhub.org/sops/304\">\n",
      "      <ram:reaction ram:kcatForward=\"4.53333\" ram:kcatBackward=\"0.0\" ram:maintenanceScaling=\"0.0\"/>\n",
      "    </ram:RAM>\n",
      "  </annotation>\n",
      "\n",
      "  <fbc:geneProductAssociation fbc:id=\"E_R\">\n",
      "    <fbc:geneProductRef fbc:geneProduct=\"E_R\"/>\n",
      "  </fbc:geneProductAssociation>\n",
      "\n",
      "  <listOfReactants>\n",
      "    <speciesReference species=\"Z\" stoichiometry=\"225\" constant=\"true\"/>\n",
      "    <speciesReference species=\"ATP\" stoichiometry=\"675\" constant=\"true\"/>\n",
      "  </listOfReactants>\n",
      "\n",
      "  <listOfProducts>\n",
      "    <speciesReference species=\"E_RPER\" stoichiometry=\"1.0\" constant=\"true\"/>\n",
      "    <speciesReference species=\"AMP\" stoichiometry=\"225\" constant=\"true\"/>\n",
      "    <speciesReference species=\"PPI\" stoichiometry=\"225\" constant=\"true\"/>\n",
      "    <speciesReference species=\"ADP\" stoichiometry=\"450\" constant=\"true\"/>\n",
      "    <speciesReference species=\"PI\" stoichiometry=\"450\" constant=\"true\"/>\n",
      "  </listOfProducts>\n",
      "</reaction>\n",
      "\n",
      "<reaction id=\"T_RPIAR\" reversible=\"false\">\n",
      "  <annotation>\n",
      "    <ram:RAM xmlns:ram=\"https://www.fairdomhub.org/sops/304\">\n",
      "      <ram:reaction ram:kcatForward=\"4.65753\" ram:kcatBackward=\"0.0\" ram:maintenanceScaling=\"0.0\"/>\n",
      "    </ram:RAM>\n",
      "  </annotation>\n",
      "\n",
      "  <fbc:geneProductAssociation fbc:id=\"E_R\">\n",
      "    <fbc:geneProductRef fbc:geneProduct=\"E_R\"/>\n",
      "  </fbc:geneProductAssociation>\n",
      "\n",
      "  <listOfReactants>\n",
      "    <speciesReference species=\"Z\" stoichiometry=\"219\" constant=\"true\"/>\n",
      "    <speciesReference species=\"ATP\" stoichiometry=\"657\" constant=\"true\"/>\n",
      "  </listOfReactants>\n",
      "\n",
      "  <listOfProducts>\n",
      "    <speciesReference species=\"E_RPIAR\" stoichiometry=\"1.0\" constant=\"true\"/>\n",
      "    <speciesReference species=\"AMP\" stoichiometry=\"219\" constant=\"true\"/>\n",
      "    <speciesReference species=\"PPI\" stoichiometry=\"219\" constant=\"true\"/>\n",
      "    <speciesReference species=\"ADP\" stoichiometry=\"438\" constant=\"true\"/>\n",
      "    <speciesReference species=\"PI\" stoichiometry=\"438\" constant=\"true\"/>\n",
      "  </listOfProducts>\n",
      "</reaction>\n",
      "\n",
      "<reaction id=\"T_RPIBR\" reversible=\"false\">\n",
      "  <annotation>\n",
      "    <ram:RAM xmlns:ram=\"https://www.fairdomhub.org/sops/304\">\n",
      "      <ram:reaction ram:kcatForward=\"6.84564\" ram:kcatBackward=\"0.0\" ram:maintenanceScaling=\"0.0\"/>\n",
      "    </ram:RAM>\n",
      "  </annotation>\n",
      "\n",
      "  <fbc:geneProductAssociation fbc:id=\"E_R\">\n",
      "    <fbc:geneProductRef fbc:geneProduct=\"E_R\"/>\n",
      "  </fbc:geneProductAssociation>\n",
      "\n",
      "  <listOfReactants>\n",
      "    <speciesReference species=\"Z\" stoichiometry=\"149\" constant=\"true\"/>\n",
      "    <speciesReference species=\"ATP\" stoichiometry=\"447\" constant=\"true\"/>\n",
      "  </listOfReactants>\n",
      "\n",
      "  <listOfProducts>\n",
      "    <speciesReference species=\"E_RPIBR\" stoichiometry=\"1.0\" constant=\"true\"/>\n",
      "    <speciesReference species=\"AMP\" stoichiometry=\"149\" constant=\"true\"/>\n",
      "    <speciesReference species=\"PPI\" stoichiometry=\"149\" constant=\"true\"/>\n",
      "    <speciesReference species=\"ADP\" stoichiometry=\"298\" constant=\"true\"/>\n",
      "    <speciesReference species=\"PI\" stoichiometry=\"298\" constant=\"true\"/>\n",
      "  </listOfProducts>\n",
      "</reaction>\n",
      "\n",
      "<reaction id=\"T_SDHA1\" reversible=\"false\">\n",
      "  <annotation>\n",
      "    <ram:RAM xmlns:ram=\"https://www.fairdomhub.org/sops/304\">\n",
      "      <ram:reaction ram:kcatForward=\"0.95327\" ram:kcatBackward=\"0.0\" ram:maintenanceScaling=\"0.0\"/>\n",
      "    </ram:RAM>\n",
      "  </annotation>\n",
      "\n",
      "  <fbc:geneProductAssociation fbc:id=\"E_R\">\n",
      "    <fbc:geneProductRef fbc:geneProduct=\"E_R\"/>\n",
      "  </fbc:geneProductAssociation>\n",
      "\n",
      "  <listOfReactants>\n",
      "    <speciesReference species=\"Z\" stoichiometry=\"1070\" constant=\"true\"/>\n",
      "    <speciesReference species=\"ATP\" stoichiometry=\"3210\" constant=\"true\"/>\n",
      "  </listOfReactants>\n",
      "\n",
      "  <listOfProducts>\n",
      "    <speciesReference species=\"E_SDHA1\" stoichiometry=\"1.0\" constant=\"true\"/>\n",
      "    <speciesReference species=\"AMP\" stoichiometry=\"1070\" constant=\"true\"/>\n",
      "    <speciesReference species=\"PPI\" stoichiometry=\"1070\" constant=\"true\"/>\n",
      "    <speciesReference species=\"ADP\" stoichiometry=\"2140\" constant=\"true\"/>\n",
      "    <speciesReference species=\"PI\" stoichiometry=\"2140\" constant=\"true\"/>\n",
      "  </listOfProducts>\n",
      "</reaction>\n",
      "\n",
      "<reaction id=\"T_SDHA2\" reversible=\"false\">\n",
      "  <annotation>\n",
      "    <ram:RAM xmlns:ram=\"https://www.fairdomhub.org/sops/304\">\n",
      "      <ram:reaction ram:kcatForward=\"0.95327\" ram:kcatBackward=\"0.0\" ram:maintenanceScaling=\"0.0\"/>\n",
      "    </ram:RAM>\n",
      "  </annotation>\n",
      "\n",
      "  <fbc:geneProductAssociation fbc:id=\"E_R\">\n",
      "    <fbc:geneProductRef fbc:geneProduct=\"E_R\"/>\n",
      "  </fbc:geneProductAssociation>\n",
      "\n",
      "  <listOfReactants>\n",
      "    <speciesReference species=\"Z\" stoichiometry=\"1070\" constant=\"true\"/>\n",
      "    <speciesReference species=\"ATP\" stoichiometry=\"3210\" constant=\"true\"/>\n",
      "  </listOfReactants>\n",
      "\n",
      "  <listOfProducts>\n",
      "    <speciesReference species=\"E_SDHA2\" stoichiometry=\"1.0\" constant=\"true\"/>\n",
      "    <speciesReference species=\"AMP\" stoichiometry=\"1070\" constant=\"true\"/>\n",
      "    <speciesReference species=\"PPI\" stoichiometry=\"1070\" constant=\"true\"/>\n",
      "    <speciesReference species=\"ADP\" stoichiometry=\"2140\" constant=\"true\"/>\n",
      "    <speciesReference species=\"PI\" stoichiometry=\"2140\" constant=\"true\"/>\n",
      "  </listOfProducts>\n",
      "</reaction>\n",
      "\n",
      "<reaction id=\"T_SFCA\" reversible=\"false\">\n",
      "  <annotation>\n",
      "    <ram:RAM xmlns:ram=\"https://www.fairdomhub.org/sops/304\">\n",
      "      <ram:reaction ram:kcatForward=\"1.80531\" ram:kcatBackward=\"0.0\" ram:maintenanceScaling=\"0.0\"/>\n",
      "    </ram:RAM>\n",
      "  </annotation>\n",
      "\n",
      "  <fbc:geneProductAssociation fbc:id=\"E_R\">\n",
      "    <fbc:geneProductRef fbc:geneProduct=\"E_R\"/>\n",
      "  </fbc:geneProductAssociation>\n",
      "\n",
      "  <listOfReactants>\n",
      "    <speciesReference species=\"Z\" stoichiometry=\"565\" constant=\"true\"/>\n",
      "    <speciesReference species=\"ATP\" stoichiometry=\"1695\" constant=\"true\"/>\n",
      "  </listOfReactants>\n",
      "\n",
      "  <listOfProducts>\n",
      "    <speciesReference species=\"E_SFCA\" stoichiometry=\"1.0\" constant=\"true\"/>\n",
      "    <speciesReference species=\"AMP\" stoichiometry=\"565\" constant=\"true\"/>\n",
      "    <speciesReference species=\"PPI\" stoichiometry=\"565\" constant=\"true\"/>\n",
      "    <speciesReference species=\"ADP\" stoichiometry=\"1130\" constant=\"true\"/>\n",
      "    <speciesReference species=\"PI\" stoichiometry=\"1130\" constant=\"true\"/>\n",
      "  </listOfProducts>\n",
      "</reaction>\n",
      "\n",
      "<reaction id=\"T_SUCA\" reversible=\"false\">\n",
      "  <annotation>\n",
      "    <ram:RAM xmlns:ram=\"https://www.fairdomhub.org/sops/304\">\n",
      "      <ram:reaction ram:kcatForward=\"0.56291\" ram:kcatBackward=\"0.0\" ram:maintenanceScaling=\"0.0\"/>\n",
      "    </ram:RAM>\n",
      "  </annotation>\n",
      "\n",
      "  <fbc:geneProductAssociation fbc:id=\"E_R\">\n",
      "    <fbc:geneProductRef fbc:geneProduct=\"E_R\"/>\n",
      "  </fbc:geneProductAssociation>\n",
      "\n",
      "  <listOfReactants>\n",
      "    <speciesReference species=\"Z\" stoichiometry=\"1812\" constant=\"true\"/>\n",
      "    <speciesReference species=\"ATP\" stoichiometry=\"5436\" constant=\"true\"/>\n",
      "  </listOfReactants>\n",
      "\n",
      "  <listOfProducts>\n",
      "    <speciesReference species=\"E_SUCA\" stoichiometry=\"1.0\" constant=\"true\"/>\n",
      "    <speciesReference species=\"AMP\" stoichiometry=\"1812\" constant=\"true\"/>\n",
      "    <speciesReference species=\"PPI\" stoichiometry=\"1812\" constant=\"true\"/>\n",
      "    <speciesReference species=\"ADP\" stoichiometry=\"3624\" constant=\"true\"/>\n",
      "    <speciesReference species=\"PI\" stoichiometry=\"3624\" constant=\"true\"/>\n",
      "  </listOfProducts>\n",
      "</reaction>\n",
      "\n",
      "<reaction id=\"T_SUCCR\" reversible=\"false\">\n",
      "  <annotation>\n",
      "    <ram:RAM xmlns:ram=\"https://www.fairdomhub.org/sops/304\">\n",
      "      <ram:reaction ram:kcatForward=\"1.50665\" ram:kcatBackward=\"0.0\" ram:maintenanceScaling=\"0.0\"/>\n",
      "    </ram:RAM>\n",
      "  </annotation>\n",
      "\n",
      "  <fbc:geneProductAssociation fbc:id=\"E_R\">\n",
      "    <fbc:geneProductRef fbc:geneProduct=\"E_R\"/>\n",
      "  </fbc:geneProductAssociation>\n",
      "\n",
      "  <listOfReactants>\n",
      "    <speciesReference species=\"Z\" stoichiometry=\"677\" constant=\"true\"/>\n",
      "    <speciesReference species=\"ATP\" stoichiometry=\"2031\" constant=\"true\"/>\n",
      "  </listOfReactants>\n",
      "\n",
      "  <listOfProducts>\n",
      "    <speciesReference species=\"E_SUCCR\" stoichiometry=\"1.0\" constant=\"true\"/>\n",
      "    <speciesReference species=\"AMP\" stoichiometry=\"677\" constant=\"true\"/>\n",
      "    <speciesReference species=\"PPI\" stoichiometry=\"677\" constant=\"true\"/>\n",
      "    <speciesReference species=\"ADP\" stoichiometry=\"1354\" constant=\"true\"/>\n",
      "    <speciesReference species=\"PI\" stoichiometry=\"1354\" constant=\"true\"/>\n",
      "  </listOfProducts>\n",
      "</reaction>\n",
      "\n",
      "<reaction id=\"T_TALAR\" reversible=\"false\">\n",
      "  <annotation>\n",
      "    <ram:RAM xmlns:ram=\"https://www.fairdomhub.org/sops/304\">\n",
      "      <ram:reaction ram:kcatForward=\"3.22785\" ram:kcatBackward=\"0.0\" ram:maintenanceScaling=\"0.0\"/>\n",
      "    </ram:RAM>\n",
      "  </annotation>\n",
      "\n",
      "  <fbc:geneProductAssociation fbc:id=\"E_R\">\n",
      "    <fbc:geneProductRef fbc:geneProduct=\"E_R\"/>\n",
      "  </fbc:geneProductAssociation>\n",
      "\n",
      "  <listOfReactants>\n",
      "    <speciesReference species=\"Z\" stoichiometry=\"316\" constant=\"true\"/>\n",
      "    <speciesReference species=\"ATP\" stoichiometry=\"948\" constant=\"true\"/>\n",
      "  </listOfReactants>\n",
      "\n",
      "  <listOfProducts>\n",
      "    <speciesReference species=\"E_TALAR\" stoichiometry=\"1.0\" constant=\"true\"/>\n",
      "    <speciesReference species=\"AMP\" stoichiometry=\"316\" constant=\"true\"/>\n",
      "    <speciesReference species=\"PPI\" stoichiometry=\"316\" constant=\"true\"/>\n",
      "    <speciesReference species=\"ADP\" stoichiometry=\"632\" constant=\"true\"/>\n",
      "    <speciesReference species=\"PI\" stoichiometry=\"632\" constant=\"true\"/>\n",
      "  </listOfProducts>\n",
      "</reaction>\n",
      "\n",
      "<reaction id=\"T_TALBR\" reversible=\"false\">\n",
      "  <annotation>\n",
      "    <ram:RAM xmlns:ram=\"https://www.fairdomhub.org/sops/304\">\n",
      "      <ram:reaction ram:kcatForward=\"3.21767\" ram:kcatBackward=\"0.0\" ram:maintenanceScaling=\"0.0\"/>\n",
      "    </ram:RAM>\n",
      "  </annotation>\n",
      "\n",
      "  <fbc:geneProductAssociation fbc:id=\"E_R\">\n",
      "    <fbc:geneProductRef fbc:geneProduct=\"E_R\"/>\n",
      "  </fbc:geneProductAssociation>\n",
      "\n",
      "  <listOfReactants>\n",
      "    <speciesReference species=\"Z\" stoichiometry=\"317\" constant=\"true\"/>\n",
      "    <speciesReference species=\"ATP\" stoichiometry=\"951\" constant=\"true\"/>\n",
      "  </listOfReactants>\n",
      "\n",
      "  <listOfProducts>\n",
      "    <speciesReference species=\"E_TALBR\" stoichiometry=\"1.0\" constant=\"true\"/>\n",
      "    <speciesReference species=\"AMP\" stoichiometry=\"317\" constant=\"true\"/>\n",
      "    <speciesReference species=\"PPI\" stoichiometry=\"317\" constant=\"true\"/>\n",
      "    <speciesReference species=\"ADP\" stoichiometry=\"634\" constant=\"true\"/>\n",
      "    <speciesReference species=\"PI\" stoichiometry=\"634\" constant=\"true\"/>\n",
      "  </listOfProducts>\n",
      "</reaction>\n",
      "\n",
      "<reaction id=\"T_TKTA1R\" reversible=\"false\">\n",
      "  <annotation>\n",
      "    <ram:RAM xmlns:ram=\"https://www.fairdomhub.org/sops/304\">\n",
      "      <ram:reaction ram:kcatForward=\"1.53846\" ram:kcatBackward=\"0.0\" ram:maintenanceScaling=\"0.0\"/>\n",
      "    </ram:RAM>\n",
      "  </annotation>\n",
      "\n",
      "  <fbc:geneProductAssociation fbc:id=\"E_R\">\n",
      "    <fbc:geneProductRef fbc:geneProduct=\"E_R\"/>\n",
      "  </fbc:geneProductAssociation>\n",
      "\n",
      "  <listOfReactants>\n",
      "    <speciesReference species=\"Z\" stoichiometry=\"663\" constant=\"true\"/>\n",
      "    <speciesReference species=\"ATP\" stoichiometry=\"1989\" constant=\"true\"/>\n",
      "  </listOfReactants>\n",
      "\n",
      "  <listOfProducts>\n",
      "    <speciesReference species=\"E_TKTA1R\" stoichiometry=\"1.0\" constant=\"true\"/>\n",
      "    <speciesReference species=\"AMP\" stoichiometry=\"663\" constant=\"true\"/>\n",
      "    <speciesReference species=\"PPI\" stoichiometry=\"663\" constant=\"true\"/>\n",
      "    <speciesReference species=\"ADP\" stoichiometry=\"1326\" constant=\"true\"/>\n",
      "    <speciesReference species=\"PI\" stoichiometry=\"1326\" constant=\"true\"/>\n",
      "  </listOfProducts>\n",
      "</reaction>\n",
      "\n",
      "<reaction id=\"T_TKTA2R\" reversible=\"false\">\n",
      "  <annotation>\n",
      "    <ram:RAM xmlns:ram=\"https://www.fairdomhub.org/sops/304\">\n",
      "      <ram:reaction ram:kcatForward=\"1.53846\" ram:kcatBackward=\"0.0\" ram:maintenanceScaling=\"0.0\"/>\n",
      "    </ram:RAM>\n",
      "  </annotation>\n",
      "\n",
      "  <fbc:geneProductAssociation fbc:id=\"E_R\">\n",
      "    <fbc:geneProductRef fbc:geneProduct=\"E_R\"/>\n",
      "  </fbc:geneProductAssociation>\n",
      "\n",
      "  <listOfReactants>\n",
      "    <speciesReference species=\"Z\" stoichiometry=\"663\" constant=\"true\"/>\n",
      "    <speciesReference species=\"ATP\" stoichiometry=\"1989\" constant=\"true\"/>\n",
      "  </listOfReactants>\n",
      "\n",
      "  <listOfProducts>\n",
      "    <speciesReference species=\"E_TKTA2R\" stoichiometry=\"1.0\" constant=\"true\"/>\n",
      "    <speciesReference species=\"AMP\" stoichiometry=\"663\" constant=\"true\"/>\n",
      "    <speciesReference species=\"PPI\" stoichiometry=\"663\" constant=\"true\"/>\n",
      "    <speciesReference species=\"ADP\" stoichiometry=\"1326\" constant=\"true\"/>\n",
      "    <speciesReference species=\"PI\" stoichiometry=\"1326\" constant=\"true\"/>\n",
      "  </listOfProducts>\n",
      "</reaction>\n",
      "\n",
      "<reaction id=\"T_TKTB1R\" reversible=\"false\">\n",
      "  <annotation>\n",
      "    <ram:RAM xmlns:ram=\"https://www.fairdomhub.org/sops/304\">\n",
      "      <ram:reaction ram:kcatForward=\"1.52924\" ram:kcatBackward=\"0.0\" ram:maintenanceScaling=\"0.0\"/>\n",
      "    </ram:RAM>\n",
      "  </annotation>\n",
      "\n",
      "  <fbc:geneProductAssociation fbc:id=\"E_R\">\n",
      "    <fbc:geneProductRef fbc:geneProduct=\"E_R\"/>\n",
      "  </fbc:geneProductAssociation>\n",
      "\n",
      "  <listOfReactants>\n",
      "    <speciesReference species=\"Z\" stoichiometry=\"667\" constant=\"true\"/>\n",
      "    <speciesReference species=\"ATP\" stoichiometry=\"2001\" constant=\"true\"/>\n",
      "  </listOfReactants>\n",
      "\n",
      "  <listOfProducts>\n",
      "    <speciesReference species=\"E_TKTB1R\" stoichiometry=\"1.0\" constant=\"true\"/>\n",
      "    <speciesReference species=\"AMP\" stoichiometry=\"667\" constant=\"true\"/>\n",
      "    <speciesReference species=\"PPI\" stoichiometry=\"667\" constant=\"true\"/>\n",
      "    <speciesReference species=\"ADP\" stoichiometry=\"1334\" constant=\"true\"/>\n",
      "    <speciesReference species=\"PI\" stoichiometry=\"1334\" constant=\"true\"/>\n",
      "  </listOfProducts>\n",
      "</reaction>\n",
      "\n",
      "<reaction id=\"T_TKTB2R\" reversible=\"false\">\n",
      "  <annotation>\n",
      "    <ram:RAM xmlns:ram=\"https://www.fairdomhub.org/sops/304\">\n",
      "      <ram:reaction ram:kcatForward=\"1.52924\" ram:kcatBackward=\"0.0\" ram:maintenanceScaling=\"0.0\"/>\n",
      "    </ram:RAM>\n",
      "  </annotation>\n",
      "\n",
      "  <fbc:geneProductAssociation fbc:id=\"E_R\">\n",
      "    <fbc:geneProductRef fbc:geneProduct=\"E_R\"/>\n",
      "  </fbc:geneProductAssociation>\n",
      "\n",
      "  <listOfReactants>\n",
      "    <speciesReference species=\"Z\" stoichiometry=\"667\" constant=\"true\"/>\n",
      "    <speciesReference species=\"ATP\" stoichiometry=\"2001\" constant=\"true\"/>\n",
      "  </listOfReactants>\n",
      "\n",
      "  <listOfProducts>\n",
      "    <speciesReference species=\"E_TKTB2R\" stoichiometry=\"1.0\" constant=\"true\"/>\n",
      "    <speciesReference species=\"AMP\" stoichiometry=\"667\" constant=\"true\"/>\n",
      "    <speciesReference species=\"PPI\" stoichiometry=\"667\" constant=\"true\"/>\n",
      "    <speciesReference species=\"ADP\" stoichiometry=\"1334\" constant=\"true\"/>\n",
      "    <speciesReference species=\"PI\" stoichiometry=\"1334\" constant=\"true\"/>\n",
      "  </listOfProducts>\n",
      "</reaction>\n",
      "\n",
      "<reaction id=\"T_TPIAR\" reversible=\"false\">\n",
      "  <annotation>\n",
      "    <ram:RAM xmlns:ram=\"https://www.fairdomhub.org/sops/304\">\n",
      "      <ram:reaction ram:kcatForward=\"4.0\" ram:kcatBackward=\"0.0\" ram:maintenanceScaling=\"0.0\"/>\n",
      "    </ram:RAM>\n",
      "  </annotation>\n",
      "\n",
      "  <fbc:geneProductAssociation fbc:id=\"E_R\">\n",
      "    <fbc:geneProductRef fbc:geneProduct=\"E_R\"/>\n",
      "  </fbc:geneProductAssociation>\n",
      "\n",
      "  <listOfReactants>\n",
      "    <speciesReference species=\"Z\" stoichiometry=\"255\" constant=\"true\"/>\n",
      "    <speciesReference species=\"ATP\" stoichiometry=\"765\" constant=\"true\"/>\n",
      "  </listOfReactants>\n",
      "\n",
      "  <listOfProducts>\n",
      "    <speciesReference species=\"E_TPIAR\" stoichiometry=\"1.0\" constant=\"true\"/>\n",
      "    <speciesReference species=\"AMP\" stoichiometry=\"255\" constant=\"true\"/>\n",
      "    <speciesReference species=\"PPI\" stoichiometry=\"255\" constant=\"true\"/>\n",
      "    <speciesReference species=\"ADP\" stoichiometry=\"510\" constant=\"true\"/>\n",
      "    <speciesReference species=\"PI\" stoichiometry=\"510\" constant=\"true\"/>\n",
      "  </listOfProducts>\n",
      "</reaction>\n",
      "\n",
      "<reaction id=\"T_ZWFR\" reversible=\"false\">\n",
      "  <annotation>\n",
      "    <ram:RAM xmlns:ram=\"https://www.fairdomhub.org/sops/304\">\n",
      "      <ram:reaction ram:kcatForward=\"2.07739\" ram:kcatBackward=\"0.0\" ram:maintenanceScaling=\"0.0\"/>\n",
      "    </ram:RAM>\n",
      "  </annotation>\n",
      "\n",
      "  <fbc:geneProductAssociation fbc:id=\"E_R\">\n",
      "    <fbc:geneProductRef fbc:geneProduct=\"E_R\"/>\n",
      "  </fbc:geneProductAssociation>\n",
      "\n",
      "  <listOfReactants>\n",
      "    <speciesReference species=\"Z\" stoichiometry=\"491\" constant=\"true\"/>\n",
      "    <speciesReference species=\"ATP\" stoichiometry=\"1473\" constant=\"true\"/>\n",
      "  </listOfReactants>\n",
      "\n",
      "  <listOfProducts>\n",
      "    <speciesReference species=\"E_ZWFR\" stoichiometry=\"1.0\" constant=\"true\"/>\n",
      "    <speciesReference species=\"AMP\" stoichiometry=\"491\" constant=\"true\"/>\n",
      "    <speciesReference species=\"PPI\" stoichiometry=\"491\" constant=\"true\"/>\n",
      "    <speciesReference species=\"ADP\" stoichiometry=\"982\" constant=\"true\"/>\n",
      "    <speciesReference species=\"PI\" stoichiometry=\"982\" constant=\"true\"/>\n",
      "  </listOfProducts>\n",
      "</reaction>\n",
      "\n",
      "<reaction id=\"T_FORUPR\" reversible=\"false\">\n",
      "  <annotation>\n",
      "    <ram:RAM xmlns:ram=\"https://www.fairdomhub.org/sops/304\">\n",
      "      <ram:reaction ram:kcatForward=\"3.57895\" ram:kcatBackward=\"0.0\" ram:maintenanceScaling=\"0.0\"/>\n",
      "    </ram:RAM>\n",
      "  </annotation>\n",
      "\n",
      "  <fbc:geneProductAssociation fbc:id=\"E_R\">\n",
      "    <fbc:geneProductRef fbc:geneProduct=\"E_R\"/>\n",
      "  </fbc:geneProductAssociation>\n",
      "\n",
      "  <listOfReactants>\n",
      "    <speciesReference species=\"Z\" stoichiometry=\"285\" constant=\"true\"/>\n",
      "    <speciesReference species=\"ATP\" stoichiometry=\"855\" constant=\"true\"/>\n",
      "  </listOfReactants>\n",
      "\n",
      "  <listOfProducts>\n",
      "    <speciesReference species=\"E_FORUPR\" stoichiometry=\"1.0\" constant=\"true\"/>\n",
      "    <speciesReference species=\"AMP\" stoichiometry=\"285\" constant=\"true\"/>\n",
      "    <speciesReference species=\"PPI\" stoichiometry=\"285\" constant=\"true\"/>\n",
      "    <speciesReference species=\"ADP\" stoichiometry=\"570\" constant=\"true\"/>\n",
      "    <speciesReference species=\"PI\" stoichiometry=\"570\" constant=\"true\"/>\n",
      "  </listOfProducts>\n",
      "</reaction>\n",
      "\n",
      "<reaction id=\"T_GLCPTS\" reversible=\"false\">\n",
      "  <annotation>\n",
      "    <ram:RAM xmlns:ram=\"https://www.fairdomhub.org/sops/304\">\n",
      "      <ram:reaction ram:kcatForward=\"0.78101\" ram:kcatBackward=\"0.0\" ram:maintenanceScaling=\"0.0\"/>\n",
      "    </ram:RAM>\n",
      "  </annotation>\n",
      "\n",
      "  <fbc:geneProductAssociation fbc:id=\"E_R\">\n",
      "    <fbc:geneProductRef fbc:geneProduct=\"E_R\"/>\n",
      "  </fbc:geneProductAssociation>\n",
      "\n",
      "  <listOfReactants>\n",
      "    <speciesReference species=\"Z\" stoichiometry=\"1306\" constant=\"true\"/>\n",
      "    <speciesReference species=\"ATP\" stoichiometry=\"3918\" constant=\"true\"/>\n",
      "  </listOfReactants>\n",
      "\n",
      "  <listOfProducts>\n",
      "    <speciesReference species=\"E_GLCPTS\" stoichiometry=\"1.0\" constant=\"true\"/>\n",
      "    <speciesReference species=\"AMP\" stoichiometry=\"1306\" constant=\"true\"/>\n",
      "    <speciesReference species=\"PPI\" stoichiometry=\"1306\" constant=\"true\"/>\n",
      "    <speciesReference species=\"ADP\" stoichiometry=\"2612\" constant=\"true\"/>\n",
      "    <speciesReference species=\"PI\" stoichiometry=\"2612\" constant=\"true\"/>\n",
      "  </listOfProducts>\n",
      "</reaction>\n",
      "\n",
      "<reaction id=\"T_GLCUP\" reversible=\"false\">\n",
      "  <annotation>\n",
      "    <ram:RAM xmlns:ram=\"https://www.fairdomhub.org/sops/304\">\n",
      "      <ram:reaction ram:kcatForward=\"2.19828\" ram:kcatBackward=\"0.0\" ram:maintenanceScaling=\"0.0\"/>\n",
      "    </ram:RAM>\n",
      "  </annotation>\n",
      "\n",
      "  <fbc:geneProductAssociation fbc:id=\"E_R\">\n",
      "    <fbc:geneProductRef fbc:geneProduct=\"E_R\"/>\n",
      "  </fbc:geneProductAssociation>\n",
      "\n",
      "  <listOfReactants>\n",
      "    <speciesReference species=\"Z\" stoichiometry=\"464\" constant=\"true\"/>\n",
      "    <speciesReference species=\"ATP\" stoichiometry=\"1392\" constant=\"true\"/>\n",
      "  </listOfReactants>\n",
      "\n",
      "  <listOfProducts>\n",
      "    <speciesReference species=\"E_GLCUP\" stoichiometry=\"1.0\" constant=\"true\"/>\n",
      "    <speciesReference species=\"AMP\" stoichiometry=\"464\" constant=\"true\"/>\n",
      "    <speciesReference species=\"PPI\" stoichiometry=\"464\" constant=\"true\"/>\n",
      "    <speciesReference species=\"ADP\" stoichiometry=\"928\" constant=\"true\"/>\n",
      "    <speciesReference species=\"PI\" stoichiometry=\"928\" constant=\"true\"/>\n",
      "  </listOfProducts>\n",
      "</reaction>\n",
      "\n",
      "<reaction id=\"T_GLUPR\" reversible=\"false\">\n",
      "  <annotation>\n",
      "    <ram:RAM xmlns:ram=\"https://www.fairdomhub.org/sops/304\">\n",
      "      <ram:reaction ram:kcatForward=\"3.62989\" ram:kcatBackward=\"0.0\" ram:maintenanceScaling=\"0.0\"/>\n",
      "    </ram:RAM>\n",
      "  </annotation>\n",
      "\n",
      "  <fbc:geneProductAssociation fbc:id=\"E_R\">\n",
      "    <fbc:geneProductRef fbc:geneProduct=\"E_R\"/>\n",
      "  </fbc:geneProductAssociation>\n",
      "\n",
      "  <listOfReactants>\n",
      "    <speciesReference species=\"Z\" stoichiometry=\"281\" constant=\"true\"/>\n",
      "    <speciesReference species=\"ATP\" stoichiometry=\"843\" constant=\"true\"/>\n",
      "  </listOfReactants>\n",
      "\n",
      "  <listOfProducts>\n",
      "    <speciesReference species=\"E_GLUPR\" stoichiometry=\"1.0\" constant=\"true\"/>\n",
      "    <speciesReference species=\"AMP\" stoichiometry=\"281\" constant=\"true\"/>\n",
      "    <speciesReference species=\"PPI\" stoichiometry=\"281\" constant=\"true\"/>\n",
      "    <speciesReference species=\"ADP\" stoichiometry=\"562\" constant=\"true\"/>\n",
      "    <speciesReference species=\"PI\" stoichiometry=\"562\" constant=\"true\"/>\n",
      "  </listOfProducts>\n",
      "</reaction>\n",
      "\n",
      "<reaction id=\"T_LACYR\" reversible=\"false\">\n",
      "  <annotation>\n",
      "    <ram:RAM xmlns:ram=\"https://www.fairdomhub.org/sops/304\">\n",
      "      <ram:reaction ram:kcatForward=\"2.44604\" ram:kcatBackward=\"0.0\" ram:maintenanceScaling=\"0.0\"/>\n",
      "    </ram:RAM>\n",
      "  </annotation>\n",
      "\n",
      "  <fbc:geneProductAssociation fbc:id=\"E_R\">\n",
      "    <fbc:geneProductRef fbc:geneProduct=\"E_R\"/>\n",
      "  </fbc:geneProductAssociation>\n",
      "\n",
      "  <listOfReactants>\n",
      "    <speciesReference species=\"Z\" stoichiometry=\"417\" constant=\"true\"/>\n",
      "    <speciesReference species=\"ATP\" stoichiometry=\"1251\" constant=\"true\"/>\n",
      "  </listOfReactants>\n",
      "\n",
      "  <listOfProducts>\n",
      "    <speciesReference species=\"E_LACYR\" stoichiometry=\"1.0\" constant=\"true\"/>\n",
      "    <speciesReference species=\"AMP\" stoichiometry=\"417\" constant=\"true\"/>\n",
      "    <speciesReference species=\"PPI\" stoichiometry=\"417\" constant=\"true\"/>\n",
      "    <speciesReference species=\"ADP\" stoichiometry=\"834\" constant=\"true\"/>\n",
      "    <speciesReference species=\"PI\" stoichiometry=\"834\" constant=\"true\"/>\n",
      "  </listOfProducts>\n",
      "</reaction>\n",
      "\n",
      "<reaction id=\"T_PIUP2R\" reversible=\"false\">\n",
      "  <annotation>\n",
      "    <ram:RAM xmlns:ram=\"https://www.fairdomhub.org/sops/304\">\n",
      "      <ram:reaction ram:kcatForward=\"1.02204\" ram:kcatBackward=\"0.0\" ram:maintenanceScaling=\"0.0\"/>\n",
      "    </ram:RAM>\n",
      "  </annotation>\n",
      "\n",
      "  <fbc:geneProductAssociation fbc:id=\"E_R\">\n",
      "    <fbc:geneProductRef fbc:geneProduct=\"E_R\"/>\n",
      "  </fbc:geneProductAssociation>\n",
      "\n",
      "  <listOfReactants>\n",
      "    <speciesReference species=\"Z\" stoichiometry=\"998\" constant=\"true\"/>\n",
      "    <speciesReference species=\"ATP\" stoichiometry=\"2994\" constant=\"true\"/>\n",
      "  </listOfReactants>\n",
      "\n",
      "  <listOfProducts>\n",
      "    <speciesReference species=\"E_PIUP2R\" stoichiometry=\"1.0\" constant=\"true\"/>\n",
      "    <speciesReference species=\"AMP\" stoichiometry=\"998\" constant=\"true\"/>\n",
      "    <speciesReference species=\"PPI\" stoichiometry=\"998\" constant=\"true\"/>\n",
      "    <speciesReference species=\"ADP\" stoichiometry=\"1996\" constant=\"true\"/>\n",
      "    <speciesReference species=\"PI\" stoichiometry=\"1996\" constant=\"true\"/>\n",
      "  </listOfProducts>\n",
      "</reaction>\n",
      "\n",
      "<reaction id=\"T_RIBUPR\" reversible=\"false\">\n",
      "  <annotation>\n",
      "    <ram:RAM xmlns:ram=\"https://www.fairdomhub.org/sops/304\">\n",
      "      <ram:reaction ram:kcatForward=\"0.81146\" ram:kcatBackward=\"0.0\" ram:maintenanceScaling=\"0.0\"/>\n",
      "    </ram:RAM>\n",
      "  </annotation>\n",
      "\n",
      "  <fbc:geneProductAssociation fbc:id=\"E_R\">\n",
      "    <fbc:geneProductRef fbc:geneProduct=\"E_R\"/>\n",
      "  </fbc:geneProductAssociation>\n",
      "\n",
      "  <listOfReactants>\n",
      "    <speciesReference species=\"Z\" stoichiometry=\"1257\" constant=\"true\"/>\n",
      "    <speciesReference species=\"ATP\" stoichiometry=\"3771\" constant=\"true\"/>\n",
      "  </listOfReactants>\n",
      "\n",
      "  <listOfProducts>\n",
      "    <speciesReference species=\"E_RIBUPR\" stoichiometry=\"1.0\" constant=\"true\"/>\n",
      "    <speciesReference species=\"AMP\" stoichiometry=\"1257\" constant=\"true\"/>\n",
      "    <speciesReference species=\"PPI\" stoichiometry=\"1257\" constant=\"true\"/>\n",
      "    <speciesReference species=\"ADP\" stoichiometry=\"2514\" constant=\"true\"/>\n",
      "    <speciesReference species=\"PI\" stoichiometry=\"2514\" constant=\"true\"/>\n",
      "  </listOfProducts>\n",
      "</reaction>\n",
      "\n",
      "<reaction id=\"T_DCTAR\" reversible=\"false\">\n",
      "  <annotation>\n",
      "    <ram:RAM xmlns:ram=\"https://www.fairdomhub.org/sops/304\">\n",
      "      <ram:reaction ram:kcatForward=\"2.38318\" ram:kcatBackward=\"0.0\" ram:maintenanceScaling=\"0.0\"/>\n",
      "    </ram:RAM>\n",
      "  </annotation>\n",
      "\n",
      "  <fbc:geneProductAssociation fbc:id=\"E_R\">\n",
      "    <fbc:geneProductRef fbc:geneProduct=\"E_R\"/>\n",
      "  </fbc:geneProductAssociation>\n",
      "\n",
      "  <listOfReactants>\n",
      "    <speciesReference species=\"Z\" stoichiometry=\"428\" constant=\"true\"/>\n",
      "    <speciesReference species=\"ATP\" stoichiometry=\"1284\" constant=\"true\"/>\n",
      "  </listOfReactants>\n",
      "\n",
      "  <listOfProducts>\n",
      "    <speciesReference species=\"E_DCTAR\" stoichiometry=\"1.0\" constant=\"true\"/>\n",
      "    <speciesReference species=\"AMP\" stoichiometry=\"428\" constant=\"true\"/>\n",
      "    <speciesReference species=\"PPI\" stoichiometry=\"428\" constant=\"true\"/>\n",
      "    <speciesReference species=\"ADP\" stoichiometry=\"856\" constant=\"true\"/>\n",
      "    <speciesReference species=\"PI\" stoichiometry=\"856\" constant=\"true\"/>\n",
      "  </listOfProducts>\n",
      "</reaction>\n",
      "\n",
      "<reaction id=\"T_DCUAR\" reversible=\"false\">\n",
      "  <annotation>\n",
      "    <ram:RAM xmlns:ram=\"https://www.fairdomhub.org/sops/304\">\n",
      "      <ram:reaction ram:kcatForward=\"2.35566\" ram:kcatBackward=\"0.0\" ram:maintenanceScaling=\"0.0\"/>\n",
      "    </ram:RAM>\n",
      "  </annotation>\n",
      "\n",
      "  <fbc:geneProductAssociation fbc:id=\"E_R\">\n",
      "    <fbc:geneProductRef fbc:geneProduct=\"E_R\"/>\n",
      "  </fbc:geneProductAssociation>\n",
      "\n",
      "  <listOfReactants>\n",
      "    <speciesReference species=\"Z\" stoichiometry=\"433\" constant=\"true\"/>\n",
      "    <speciesReference species=\"ATP\" stoichiometry=\"1299\" constant=\"true\"/>\n",
      "  </listOfReactants>\n",
      "\n",
      "  <listOfProducts>\n",
      "    <speciesReference species=\"E_DCUAR\" stoichiometry=\"1.0\" constant=\"true\"/>\n",
      "    <speciesReference species=\"AMP\" stoichiometry=\"433\" constant=\"true\"/>\n",
      "    <speciesReference species=\"PPI\" stoichiometry=\"433\" constant=\"true\"/>\n",
      "    <speciesReference species=\"ADP\" stoichiometry=\"866\" constant=\"true\"/>\n",
      "    <speciesReference species=\"PI\" stoichiometry=\"866\" constant=\"true\"/>\n",
      "  </listOfProducts>\n",
      "</reaction>\n",
      "\n",
      "<reaction id=\"T_DCUBR\" reversible=\"false\">\n",
      "  <annotation>\n",
      "    <ram:RAM xmlns:ram=\"https://www.fairdomhub.org/sops/304\">\n",
      "      <ram:reaction ram:kcatForward=\"2.287\" ram:kcatBackward=\"0.0\" ram:maintenanceScaling=\"0.0\"/>\n",
      "    </ram:RAM>\n",
      "  </annotation>\n",
      "\n",
      "  <fbc:geneProductAssociation fbc:id=\"E_R\">\n",
      "    <fbc:geneProductRef fbc:geneProduct=\"E_R\"/>\n",
      "  </fbc:geneProductAssociation>\n",
      "\n",
      "  <listOfReactants>\n",
      "    <speciesReference species=\"Z\" stoichiometry=\"446\" constant=\"true\"/>\n",
      "    <speciesReference species=\"ATP\" stoichiometry=\"1338\" constant=\"true\"/>\n",
      "  </listOfReactants>\n",
      "\n",
      "  <listOfProducts>\n",
      "    <speciesReference species=\"E_DCUBR\" stoichiometry=\"1.0\" constant=\"true\"/>\n",
      "    <speciesReference species=\"AMP\" stoichiometry=\"446\" constant=\"true\"/>\n",
      "    <speciesReference species=\"PPI\" stoichiometry=\"446\" constant=\"true\"/>\n",
      "    <speciesReference species=\"ADP\" stoichiometry=\"892\" constant=\"true\"/>\n",
      "    <speciesReference species=\"PI\" stoichiometry=\"892\" constant=\"true\"/>\n",
      "  </listOfProducts>\n",
      "</reaction>\n",
      "\n",
      "<reaction id=\"T_DCUC\" reversible=\"false\">\n",
      "  <annotation>\n",
      "    <ram:RAM xmlns:ram=\"https://www.fairdomhub.org/sops/304\">\n",
      "      <ram:reaction ram:kcatForward=\"2.21258\" ram:kcatBackward=\"0.0\" ram:maintenanceScaling=\"0.0\"/>\n",
      "    </ram:RAM>\n",
      "  </annotation>\n",
      "\n",
      "  <fbc:geneProductAssociation fbc:id=\"E_R\">\n",
      "    <fbc:geneProductRef fbc:geneProduct=\"E_R\"/>\n",
      "  </fbc:geneProductAssociation>\n",
      "\n",
      "  <listOfReactants>\n",
      "    <speciesReference species=\"Z\" stoichiometry=\"461\" constant=\"true\"/>\n",
      "    <speciesReference species=\"ATP\" stoichiometry=\"1383\" constant=\"true\"/>\n",
      "  </listOfReactants>\n",
      "\n",
      "  <listOfProducts>\n",
      "    <speciesReference species=\"E_DCUC\" stoichiometry=\"1.0\" constant=\"true\"/>\n",
      "    <speciesReference species=\"AMP\" stoichiometry=\"461\" constant=\"true\"/>\n",
      "    <speciesReference species=\"PPI\" stoichiometry=\"461\" constant=\"true\"/>\n",
      "    <speciesReference species=\"ADP\" stoichiometry=\"922\" constant=\"true\"/>\n",
      "    <speciesReference species=\"PI\" stoichiometry=\"922\" constant=\"true\"/>\n",
      "  </listOfProducts>\n",
      "</reaction>\n",
      "\n"
     ]
    }
   ],
   "source": [
    "for index, value in translation['ID'].items():\n",
    "    if translation['ID'][index] == 'T_Quota_protein':\n",
    "        prefix = ''\n",
    "    elif pd.notnull(translation['Covert ID'][index]):\n",
    "        prefix = 'E_'\n",
    "    # Regulatory Proteins have no \"Covert ID\"\n",
    "    else:\n",
    "        if rdefba:\n",
    "            prefix = 'RP_'\n",
    "        else:\n",
    "            break\n",
    "    if rdefba:\n",
    "        if pd.notnull(translation['Regulatory logic'][index]):\n",
    "            param_upper = value + '_FBCupper'\n",
    "            param_lower = value + '_FBClower'\n",
    "            fbc_parameters.append(param_upper)\n",
    "            fbc_parameters.append(param_lower)\n",
    "            f.write(\"<reaction id=\\\"\"+value+\"\\\" reversible=\\\"false\\\" fbc:lowerFluxBound=\\\"\" + param_lower + \"\\\" fbc:upperFluxBound=\\\"\" + param_upper + \"\\\">\\n  <annotation>\\n    <ram:RAM xmlns:ram=\\\"https://www.fairdomhub.org/sops/304\\\">\\n      <ram:reaction ram:kcatForward=\\\"\"+str(translation['ram:kcatForward'][index])+\"\\\" ram:kcatBackward=\\\"0.0\\\" ram:maintenanceScaling=\\\"0.0\\\"/>\\n    </ram:RAM>\\n  </annotation>\\n\")\n",
    "        else:\n",
    "            f.write(\"<reaction id=\\\"\"+value+\"\\\" reversible=\\\"false\\\">\\n  <annotation>\\n    <ram:RAM xmlns:ram=\\\"https://www.fairdomhub.org/sops/304\\\">\\n      <ram:reaction ram:kcatForward=\\\"\"+str(translation['ram:kcatForward'][index])+\"\\\" ram:kcatBackward=\\\"0.0\\\" ram:maintenanceScaling=\\\"0.0\\\"/>\\n    </ram:RAM>\\n  </annotation>\\n\")    \n",
    "    else:\n",
    "        print(\"<reaction id=\\\"\"+value+\"\\\" reversible=\\\"false\\\">\\n  <annotation>\\n    <ram:RAM xmlns:ram=\\\"https://www.fairdomhub.org/sops/304\\\">\\n      <ram:reaction ram:kcatForward=\\\"\"+str(translation['ram:kcatForward'][index])+\"\\\" ram:kcatBackward=\\\"0.0\\\" ram:maintenanceScaling=\\\"0.0\\\"/>\\n    </ram:RAM>\\n  </annotation>\\n\")    \n",
    "    print(\"  <fbc:geneProductAssociation fbc:id=\\\"E_R\\\">\\n    <fbc:geneProductRef fbc:geneProduct=\\\"E_R\\\"/>\\n  </fbc:geneProductAssociation>\\n\")\n",
    "    print(\"  <listOfReactants>\\n    <speciesReference species=\\\"Z\\\" stoichiometry=\\\"\"+str(translation['Length'][index])+\"\\\" constant=\\\"true\\\"/>\\n    <speciesReference species=\\\"ATP\\\" stoichiometry=\\\"\"+str(3*translation['Length'][index])+\"\\\" constant=\\\"true\\\"/>\\n  </listOfReactants>\\n\")\n",
    "    print(\"  <listOfProducts>\\n    <speciesReference species=\\\"\"+prefix+translation['ID'][index][2:]+\"\\\" stoichiometry=\\\"1.0\\\" constant=\\\"true\\\"/>\\n    <speciesReference species=\\\"AMP\\\" stoichiometry=\\\"\"+str(translation['Length'][index])+\"\\\" constant=\\\"true\\\"/>\\n    <speciesReference species=\\\"PPI\\\" stoichiometry=\\\"\"+str(translation['Length'][index])+\"\\\" constant=\\\"true\\\"/>\\n    <speciesReference species=\\\"ADP\\\" stoichiometry=\\\"\"+str(2*translation['Length'][index])+\"\\\" constant=\\\"true\\\"/>\\n    <speciesReference species=\\\"PI\\\" stoichiometry=\\\"\"+str(2*translation['Length'][index])+\"\\\" constant=\\\"true\\\"/>\\n  </listOfProducts>\\n</reaction>\\n\")   \n",
    "    "
   ]
  },
  {
   "cell_type": "markdown",
   "metadata": {},
   "source": [
    "### Quota_rest"
   ]
  },
  {
   "cell_type": "code",
   "execution_count": 271,
   "metadata": {},
   "outputs": [
    {
     "data": {
      "text/plain": [
       "30"
      ]
     },
     "execution_count": 271,
     "metadata": {},
     "output_type": "execute_result"
    }
   ],
   "source": [
    "f.write(\"<reaction id=\\\"R_Quota_rest\\\" reversible=\\\"false\\\">\\n  <annotation>\\n    <ram:RAM xmlns:ram=\\\"https://www.fairdomhub.org/sops/304\\\">\\n      <ram:reaction ram:kcatForward=\\\"\\\" ram:kcatBackward=\\\"\\\" ram:maintenanceScaling=\\\"0.0\\\"/>\\n    </ram:RAM>\\n  </annotation>\\n\")    \n",
    "stoich = 1.0\n",
    "stoich_bool = False\n",
    "f.write(\"  <listOfReactants>\\n\")\n",
    "for g in re.split(r'[+\\s]\\s*', quota['Reaction'][quota.index[quota['ID'] == 'Quota_rest'].tolist()[0]]):\n",
    "    if '-' in g:\n",
    "        f.write(\"  </listOfReactants>\\n  <listOfProducts>\\n\")\n",
    "    else:\n",
    "        try:\n",
    "            stoich = float(g)\n",
    "            stoich_bool = True\n",
    "        except ValueError:\n",
    "            if g == \"\":\n",
    "                pass\n",
    "            else:\n",
    "                if g == \"Biomass\":\n",
    "                    g = \"Quota_rest\"\n",
    "                    stoich = 1.0\n",
    "                elif stoich_bool == False:\n",
    "                    stoich = 1.0\n",
    "                f.write(\"    <speciesReference species=\\\"\"+g+\"\\\" stoichiometry=\\\"\"+str(stoich)+\"\\\" constant=\\\"true\\\"/>\\n\")\n",
    "                stoich_bool = False\n",
    "f.write(\"</listOfProducts>\\n</reaction>\\n\")"
   ]
  },
  {
   "cell_type": "markdown",
   "metadata": {},
   "source": [
    "### Degradation Reactions $\\mathcal{R_{kd}}$"
   ]
  },
  {
   "cell_type": "markdown",
   "metadata": {},
   "source": [
    "#### Enzymes"
   ]
  },
  {
   "cell_type": "code",
   "execution_count": 272,
   "metadata": {},
   "outputs": [],
   "source": [
    "for index, value in enzymes['id'].items():\n",
    "    f.write(\"<reaction id=\\\"kd_\"+value+\"\\\" reversible=\\\"false\\\">\\n  <annotation>\\n    <ram:RAM xmlns:ram=\\\"https://www.fairdomhub.org/sops/304\\\">\\n      <ram:reaction ram:kcatForward=\\\"NaN\\\" ram:kcatBackward=\\\"0.0\\\" ram:maintenanceScaling=\\\"0.0\\\"/>\\n    </ram:RAM>\\n  </annotation>\\n\")\n",
    "    f.write(\"  <listOfReactants>\\n    <speciesReference species=\\\"\"+value+\"\\\" stoichiometry=\\\"\"+str(enzymes['degradationRate'][index])+\"\\\" constant=\\\"true\\\"/>\\n  </listOfReactants>\\n</reaction>\\n\")"
   ]
  },
  {
   "cell_type": "markdown",
   "metadata": {},
   "source": [
    "#### regulatory proteins"
   ]
  },
  {
   "cell_type": "code",
   "execution_count": 273,
   "metadata": {},
   "outputs": [],
   "source": [
    "if rdefba:\n",
    "    for index, value in rp['id'].items():\n",
    "        f.write(\"<reaction id=\\\"kd_\"+value+\"\\\" reversible=\\\"false\\\">\\n  <annotation>\\n    <ram:RAM xmlns:ram=\\\"https://www.fairdomhub.org/sops/304\\\">\\n      <ram:reaction ram:kcatForward=\\\"NaN\\\" ram:kcatBackward=\\\"0.0\\\" ram:maintenanceScaling=\\\"0.0\\\"/>\\n    </ram:RAM>\\n  </annotation>\\n\")\n",
    "        f.write(\"  <listOfReactants>\\n    <speciesReference species=\\\"\"+value+\"\\\" stoichiometry=\\\"\"+str(rp['degradationRate'][index])+\"\\\" constant=\\\"true\\\"/>\\n  </listOfReactants>\\n</reaction>\\n\")    "
   ]
  },
  {
   "cell_type": "markdown",
   "metadata": {},
   "source": [
    "#### Quota"
   ]
  },
  {
   "cell_type": "code",
   "execution_count": 274,
   "metadata": {},
   "outputs": [],
   "source": [
    "for index, value in quota['ID'].items():\n",
    "    f.write(\"<reaction id=\\\"kd_\"+value+\"\\\" reversible=\\\"false\\\">\\n  <annotation>\\n    <ram:RAM xmlns:ram=\\\"https://www.fairdomhub.org/sops/304\\\">\\n      <ram:reaction ram:kcatForward=\\\"NaN\\\" ram:kcatBackward=\\\"0.0\\\" ram:maintenanceScaling=\\\"0.0\\\"/>\\n    </ram:RAM>\\n  </annotation>\\n\")\n",
    "    f.write(\"  <listOfReactants>\\n    <speciesReference species=\\\"\"+value+\"\\\" stoichiometry=\\\"\"+str(quota['degradationRate'][index])+\"\\\" constant=\\\"true\\\"/>\\n  </listOfReactants>\\n</reaction>\\n\")    "
   ]
  },
  {
   "cell_type": "markdown",
   "metadata": {},
   "source": [
    "### Maintenance Reaction"
   ]
  },
  {
   "cell_type": "code",
   "execution_count": 275,
   "metadata": {
    "scrolled": true
   },
   "outputs": [
    {
     "data": {
      "text/plain": [
       "553"
      ]
     },
     "execution_count": 275,
     "metadata": {},
     "output_type": "execute_result"
    }
   ],
   "source": [
    "f.write(\"<reaction id=\\\"Maintenance\\\" name=\\\"Maintenance\\\" reversible=\\\"false\\\">\\n\\t<annotation>\\n\\t\\t<ram:RAM xmlns:ram=\\\"https://www.fairdomhub.org/sops/304\\\">\\n\\t\\t\\t<ram:reaction ram:kcatForward=\\\"\\\" ram:kcatBackward=\\\"\\\" ram:maintenanceScaling=\\\"0.14\\\"/>\\n\\t\\t</ram:RAM>\\n\\t</annotation>\\n\\t<listOfReactants>\\n\\t\\t<speciesReference species=\\\"ATP\\\" stoichiometry=\\\"1\\\" constant=\\\"true\\\"/>\\n\\t</listOfReactants>\\n\\t<listOfProducts>\\n\\t\\t<speciesReference species=\\\"ADP\\\" stoichiometry=\\\"1\\\" constant=\\\"true\\\"/>\\n\\t\\t<speciesReference species=\\\"PI\\\" stoichiometry=\\\"1\\\" constant=\\\"true\\\"/>\\n\\t</listOfProducts>\\n</reaction>\\n\")"
   ]
  },
  {
   "cell_type": "code",
   "execution_count": 276,
   "metadata": {},
   "outputs": [
    {
     "data": {
      "text/plain": [
       "20"
      ]
     },
     "execution_count": 276,
     "metadata": {},
     "output_type": "execute_result"
    }
   ],
   "source": [
    "f.write(\"</listOfReactions>\\n\\n\")"
   ]
  },
  {
   "cell_type": "markdown",
   "metadata": {},
   "source": [
    "## List of Gene Products"
   ]
  },
  {
   "cell_type": "markdown",
   "metadata": {},
   "source": [
    "### Enzymes (including Ribosome)"
   ]
  },
  {
   "cell_type": "code",
   "execution_count": 277,
   "metadata": {},
   "outputs": [
    {
     "data": {
      "text/plain": [
       "25"
      ]
     },
     "execution_count": 277,
     "metadata": {},
     "output_type": "execute_result"
    }
   ],
   "source": [
    "f.write(\"<fbc:listOfGeneProducts>\\n\")"
   ]
  },
  {
   "cell_type": "code",
   "execution_count": 278,
   "metadata": {},
   "outputs": [],
   "source": [
    "for index, value in enzymes['id'].items():\n",
    "    if enzymes['Gene'][index]:\n",
    "        f.write(\"  <fbc:geneProduct fbc:id=\\\"\"+value+\"\\\" fbc:label=\\\"\"+enzymes['Gene'][index]+\"_\"+value[2:]+\"\\\" fbc:associatedSpecies=\\\"\"+value+\"\\\"/>\\n\")\n",
    "# Gene_Protein in order to have unique fbc:label values"
   ]
  },
  {
   "cell_type": "markdown",
   "metadata": {},
   "source": [
    "### Regulatory Proteins"
   ]
  },
  {
   "cell_type": "code",
   "execution_count": 279,
   "metadata": {},
   "outputs": [],
   "source": [
    "if rdefba:\n",
    "    for index, value in rp['id'].items():\n",
    "        f.write(\"  <fbc:geneProduct fbc:id=\\\"\"+value+\"\\\" fbc:label=\\\"\"+rp['Gene'][index]+\"\\\" fbc:associatedSpecies=\\\"\"+value+\"\\\"/>\\n\")"
   ]
  },
  {
   "cell_type": "code",
   "execution_count": 280,
   "metadata": {},
   "outputs": [
    {
     "data": {
      "text/plain": [
       "27"
      ]
     },
     "execution_count": 280,
     "metadata": {},
     "output_type": "execute_result"
    }
   ],
   "source": [
    "f.write(\"</fbc:listOfGeneProducts>\\n\\n\")"
   ]
  },
  {
   "cell_type": "markdown",
   "metadata": {},
   "source": [
    "# List of Qualitative Species"
   ]
  },
  {
   "cell_type": "code",
   "execution_count": 281,
   "metadata": {},
   "outputs": [],
   "source": [
    "if rdefba:\n",
    "    f.write(\"<qual:listOfQualitativeSpecies>\\n\")\n",
    "    for index, value in qualspec['id'].items():\n",
    "        f.write(\"  <qual:qualitativeSpecies qual:id=\\\"\"+value+\"\\\" qual:maxLevel=\\\"\"+str(qualspec['max'][index])+\"\\\" qual:compartment=\\\"cytosol\\\" qual:constant=\\\"false\\\"/>\\n\")    \n",
    "    f.write(\"</qual:listOfQualitativeSpecies>\\n\\n\")"
   ]
  },
  {
   "cell_type": "markdown",
   "metadata": {},
   "source": [
    "# List of Rules"
   ]
  },
  {
   "cell_type": "code",
   "execution_count": 282,
   "metadata": {},
   "outputs": [],
   "source": [
    "if rdefba:\n",
    "    f.write(\"<listOfRules>\\n\")"
   ]
  },
  {
   "cell_type": "markdown",
   "metadata": {},
   "source": [
    "## AssignmentRules"
   ]
  },
  {
   "cell_type": "markdown",
   "metadata": {},
   "source": [
    "### FBC rules"
   ]
  },
  {
   "cell_type": "code",
   "execution_count": 283,
   "metadata": {},
   "outputs": [],
   "source": [
    "# translation always irreversible\n",
    "if rdefba:\n",
    "    for index, value in translation['ID'].items():\n",
    "        if pd.notnull(translation['Regulatory logic'][index]):\n",
    "            f.write(\"  <assignmentRule variable=\\\"\" + value + \"_FBCupper\\\">\\n    <math xmlns=\\\"http://www.w3.org/1998/Math/MathML\\\">\\n      <apply>\\n        <times/>\\n        <ci>NaN</ci>\\n        <ci>qual_con_\" + value[2:] + \"_bar</ci>\\n      </apply>\\n    </math>\\n  </assignmentRule>\\n\")\n",
    "            f.write(\"  <assignmentRule variable=\\\"\" + value + \"_FBClower\\\">\\n    <math xmlns=\\\"http://www.w3.org/1998/Math/MathML\\\">\\n      <apply>\\n        <times/>\\n        <ci>epsilon_trans</ci>\\n        <ci>qual_con_\" + value[2:] + \"_bar</ci>\\n      </apply>\\n    </math>\\n  </assignmentRule>\\n\")         \n",
    "        "
   ]
  },
  {
   "cell_type": "markdown",
   "metadata": {},
   "source": [
    "### Qual Rules"
   ]
  },
  {
   "cell_type": "code",
   "execution_count": 284,
   "metadata": {},
   "outputs": [],
   "source": [
    "if rdefba:\n",
    "    for qual in qualspec['id']:\n",
    "        f.write(\"<assignmentRule variable=\\\"\" + qual + \"\\\">\\n  <math xmlns=\\\"http://www.w3.org/1998/Math/MathML\\\">\\n    <ci>qual_con_\" + qual + \"</ci>\\n  </math>\\n</assignmentRule>\\n\")"
   ]
  },
  {
   "cell_type": "code",
   "execution_count": 285,
   "metadata": {},
   "outputs": [],
   "source": [
    "if rdefba:\n",
    "    f.write(\"</listOfRules>\\n\\n\")"
   ]
  },
  {
   "cell_type": "markdown",
   "metadata": {},
   "source": [
    "# Events"
   ]
  },
  {
   "cell_type": "code",
   "execution_count": 286,
   "metadata": {},
   "outputs": [],
   "source": [
    "if rdefba:\n",
    "    f.write(\"<listOfEvents>\\n\")\n",
    "    for index, value in events['id'].items():\n",
    "        f.write(\"<event id=\\\"\" + value + \"\\\" useValuesFromTriggerTime=\\\"true\\\">\\n  <trigger persistent=\\\"true\\\" initialValue=\\\"true\\\">\\n    <math xmlns=\\\"http://www.w3.org/1998/Math/MathML\\\">\\n\")\n",
    "        f.write(\"      <apply>\\n        <\"+events['relation'][index]+\"/>\\n        <ci>\"+events['variable'][index]+\"</ci>\\n        <ci>\"+events['threshold'][index]+\"</ci>\\n      </apply>\\n    </math>\\n  </trigger>\\n  <listOfEventAssignments>\\n\")\n",
    "        for i, assignment in enumerate(events['assignment'][index]):\n",
    "            f.write(\"    <eventAssignment variable=\\\"\"+assignment+\"\\\">\\n      <math xmlns=\\\"http://www.w3.org/1998/Math/MathML\\\">\\n        <cn type=\\\"integer\\\">\"+events['value'][index][i]+\"</cn>\\n      </math>\\n    </eventAssignment>\\n\")\n",
    "        f.write(\"  </listOfEventAssignments>\\n</event>\\n\")\n",
    "    f.write(\"</listOfEvents>\\n\\n\")"
   ]
  },
  {
   "cell_type": "markdown",
   "metadata": {},
   "source": [
    "# List of Parameters"
   ]
  },
  {
   "cell_type": "code",
   "execution_count": 287,
   "metadata": {
    "scrolled": true
   },
   "outputs": [
    {
     "data": {
      "text/plain": [
       "20"
      ]
     },
     "execution_count": 287,
     "metadata": {},
     "output_type": "execute_result"
    }
   ],
   "source": [
    "f.write(\"<listOfParameters>\\n\")\n",
    "for index, value in parameters.items():\n",
    "    f.write(\"  <parameter id=\\\"\" + index + \"\\\" constant=\\\"true\\\" value=\\\"\" + str(value) + \"\\\"/>\\n\")\n",
    "if rdefba:\n",
    "    for fbc_param in fbc_parameters:\n",
    "        f.write(\"  <parameter id=\\\"\" + fbc_param + \"\\\" value=\\\"NaN\\\" constant=\\\"false\\\" />\\n\")\n",
    "    # dummy variable for each qualitative species\n",
    "    for qual in qualspec['id']:\n",
    "        f.write(\"  <parameter id=\\\"qual_con_\" + qual + \"\\\" constant=\\\"false\\\" value=\\\"NaN\\\"/>\\n\")\n",
    "f.write(\"</listOfParameters>\\n\")"
   ]
  },
  {
   "cell_type": "markdown",
   "metadata": {},
   "source": [
    "## Last lines"
   ]
  },
  {
   "cell_type": "code",
   "execution_count": 288,
   "metadata": {},
   "outputs": [
    {
     "data": {
      "text/plain": [
       "7"
      ]
     },
     "execution_count": 288,
     "metadata": {},
     "output_type": "execute_result"
    }
   ],
   "source": [
    "f.write(\"</model>\\n\")\n",
    "f.write(\"</sbml>\")"
   ]
  },
  {
   "cell_type": "code",
   "execution_count": 289,
   "metadata": {},
   "outputs": [],
   "source": [
    "f.close()"
   ]
  },
  {
   "cell_type": "code",
   "execution_count": null,
   "metadata": {},
   "outputs": [],
   "source": []
  }
 ],
 "metadata": {
  "kernelspec": {
   "display_name": "Python 3",
   "language": "python",
   "name": "python3"
  },
  "language_info": {
   "codemirror_mode": {
    "name": "ipython",
    "version": 3
   },
   "file_extension": ".py",
   "mimetype": "text/x-python",
   "name": "python",
   "nbconvert_exporter": "python",
   "pygments_lexer": "ipython3",
   "version": "3.7.7"
  }
 },
 "nbformat": 4,
 "nbformat_minor": 4
}
